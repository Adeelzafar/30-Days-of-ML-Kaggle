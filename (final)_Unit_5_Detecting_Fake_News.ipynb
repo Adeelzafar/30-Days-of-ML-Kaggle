{
  "cells": [
    {
      "cell_type": "markdown",
      "metadata": {
        "id": "view-in-github",
        "colab_type": "text"
      },
      "source": [
        "<a href=\"https://colab.research.google.com/github/Adeelzafar/30-Days-of-ML-Kaggle/blob/main/(final)_Unit_5_Detecting_Fake_News.ipynb\" target=\"_parent\"><img src=\"https://colab.research.google.com/assets/colab-badge.svg\" alt=\"Open In Colab\"/></a>"
      ]
    },
    {
      "cell_type": "code",
      "execution_count": null,
      "id": "4b9fc89f",
      "metadata": {
        "id": "4b9fc89f"
      },
      "outputs": [],
      "source": [
        "import pandas as pd\n",
        "import numpy as np\n",
        "import sys\n",
        "import os\n",
        "import plotly.express as px\n",
        "import seaborn as sns\n",
        "import io\n",
        "import requests"
      ]
    },
    {
      "cell_type": "code",
      "source": [
        "from IPython.display import Image\n",
        "Image(url=\"https://web.lums.edu.pk/~ihsan/workshop_data/unit5/dont-use-sanitizer.png\", width=500, height=400)"
      ],
      "metadata": {
        "colab": {
          "base_uri": "https://localhost:8080/",
          "height": 421
        },
        "id": "cm1zME051zpO",
        "outputId": "96e252b2-18d5-4a91-89ca-f6302a1e94d8"
      },
      "id": "cm1zME051zpO",
      "execution_count": null,
      "outputs": [
        {
          "output_type": "execute_result",
          "data": {
            "text/html": [
              "<img src=\"https://web.lums.edu.pk/~ihsan/workshop_data/unit5/dont-use-sanitizer.png\" width=\"500\" height=\"400\"/>"
            ],
            "text/plain": [
              "<IPython.core.display.Image object>"
            ]
          },
          "metadata": {},
          "execution_count": 2
        }
      ]
    },
    {
      "cell_type": "markdown",
      "id": "0e1d1dd0",
      "metadata": {
        "id": "0e1d1dd0"
      },
      "source": [
        "Fake news---false information created in order to deceive others---is an important issue because it can harm people. For example, the social media post above confidently stated that hand sanitizer doesn't work on coronaviruses. Though factually incorrect, it spread through social media anyway: it was shared nearly 82,000 times, liked by nearly 241,000 times and was likely seen by millions of people."
      ]
    },
    {
      "cell_type": "markdown",
      "id": "610f034b",
      "metadata": {
        "id": "610f034b"
      },
      "source": [
        "**Can we create models to automatically detect fake news?**\n",
        "In this case study, we'll use logistic regression \n",
        "to predict whether news articles are real or fake.\n",
        "As usual, we'll go through the steps of the data science lifecycle.\n",
        "We'll start by refining our research question and obtaining a dataset of news\n",
        "articles and labels.\n",
        "Then, we'll wrangle and transform the data.\n",
        "Next, we'll explore the data to understand its content and\n",
        "devise features that we can use for modeling.\n",
        "Finally, we'll fit logistic regression models and evaluate their performance."
      ]
    },
    {
      "cell_type": "markdown",
      "id": "38a55bbc",
      "metadata": {
        "id": "38a55bbc"
      },
      "source": [
        "We've included this case study because it lets us reiterate several important\n",
        "ideas in data science.\n",
        "First, natural language data appear often, and even basic techniques can enable\n",
        "interesting analyses.\n",
        "Second, model selection is an important part of data analysis, and this case\n",
        "study lets us apply what we've learned about cross-validation and the bias-variance tradeoff.\n",
        "Finally, even models that perform well on the test set might have inherent\n",
        "limitations when we try to use them in practice, as we'll soon see."
      ]
    },
    {
      "cell_type": "markdown",
      "id": "88c43328",
      "metadata": {
        "id": "88c43328"
      },
      "source": [
        "Let's start by refining our research question and understanding the scope of\n",
        "our data."
      ]
    },
    {
      "cell_type": "markdown",
      "id": "6c192480",
      "metadata": {
        "id": "6c192480"
      },
      "source": [
        "Our initial research question is:\n",
        "can we create models to automatically detect fake news?"
      ]
    },
    {
      "cell_type": "markdown",
      "id": "d8495c00",
      "metadata": {
        "id": "d8495c00"
      },
      "source": [
        "To address this question, we'll use the [FakeNewsNet dataset](https://arxiv.org/abs/1809.01286). This dataset contains content from news and\n",
        "social media websites, as well as metadata like user engagement metrics.\n",
        "For simplicity, we'll only look at the dataset's political news articles.\n",
        "The dataset only includes articles that\n",
        "were fact-checked by [PolitiFact][politifact], a\n",
        "non-partisan organization with a good reputation.\n",
        "Each article in the FakeNewsNet dataset has a \"real\" or \"fake\" label based\n",
        "on the Politifact's evaluation, which we'll use as the ground truth for whether\n",
        "an article is true or false.\n",
        "\n",
        "[politifact]: https://www.politifact.com/"
      ]
    },
    {
      "cell_type": "markdown",
      "id": "f2ec19fe",
      "metadata": {
        "id": "f2ec19fe"
      },
      "source": [
        "Note that Politifact uses a non-random sampling method to select articles to fact-check. According to their website, their journalists select the \"most newsworthy and significant\" claims each day. Since Politifact started in 2007 and the research paper was published in 2020,\n",
        "most of the articles in the dataset were published between 2007 and 2020."
      ]
    },
    {
      "cell_type": "markdown",
      "id": "28646060",
      "metadata": {
        "id": "28646060"
      },
      "source": [
        "With this in mind, the main sources of bias for this data include:\n",
        "\n",
        "- **Coverage bias**: The news outlets are limited to those Politifact monitored, which may miss arcane or short-lived sites. Also since we have only articles published between 2007 and 2020, there is likely to be drift in the content. After all, the notion of fake news has evolved rapidly in the past 15 years.\n",
        "\n",
        "- **Selection bias**: The data are limited to articles Politifact decided were interesting enough to fact-check, which means that articles might skew towards ones that are both widely shared and controversial.\n",
        "\n",
        "- **Measurement bias**: The labels fake/real are determined by one organization (Politifact), and reflects the biases, unintentional or otherwise, that the organization has in its fact-checking methodology."
      ]
    },
    {
      "cell_type": "markdown",
      "id": "9d67114b",
      "metadata": {
        "id": "9d67114b"
      },
      "source": [
        "# Obtaining and Wrangling the Data"
      ]
    },
    {
      "cell_type": "markdown",
      "id": "1f901ca3",
      "metadata": {
        "id": "1f901ca3"
      },
      "source": [
        "Let's get the data into Python.\n",
        "The dataset has [a GitHub page][fnn-code] with the code that downloads the data.\n",
        "Running the script to download the Politifact data takes about an hour.\n",
        "After running the script, we placed the data files into a folder.\n",
        "The articles that Politifact labeled as fake and real\n",
        "are in `data/politifact/fake` and `data/politifact/real`.\n",
        "Let's take a look at one of the articles labeled real.\n",
        "\n",
        "[fnn-code]: https://github.com/KaiDMML/FakeNewsNet/tree/654361e1c8d5baa751baf1dac5032df621652280"
      ]
    },
    {
      "cell_type": "code",
      "execution_count": null,
      "id": "7d958b64",
      "metadata": {
        "colab": {
          "base_uri": "https://localhost:8080/"
        },
        "id": "7d958b64",
        "outputId": "6587377a-bb81-4357-974f-cf3371eafe54"
      },
      "outputs": [
        {
          "output_type": "execute_result",
          "data": {
            "text/plain": [
              "timestamp    404\n",
              "baseurl      779\n",
              "content      779\n",
              "label        779\n",
              "dtype: int64"
            ]
          },
          "metadata": {},
          "execution_count": 3
        }
      ],
      "source": [
        "url=\"https://web.lums.edu.pk/~ihsan/workshop_data/unit5/fake_news.csv\"\n",
        "s=requests.get(url).content\n",
        "df = pd.read_csv(url, parse_dates=['timestamp'])\n",
        "df.count()"
      ]
    },
    {
      "cell_type": "markdown",
      "id": "70830414",
      "metadata": {
        "id": "70830414"
      },
      "source": [
        "# Exploring the Data"
      ]
    },
    {
      "cell_type": "code",
      "execution_count": null,
      "id": "f9adf844",
      "metadata": {
        "id": "f9adf844"
      },
      "outputs": [],
      "source": [
        "from sklearn.model_selection import train_test_split\n",
        "\n",
        "X_train, X_test, y_train, y_test = train_test_split(\n",
        "    df[['timestamp', 'baseurl', 'content']], df['label'],\n",
        "    test_size=0.25, random_state=42,\n",
        ")"
      ]
    },
    {
      "cell_type": "code",
      "source": [
        "df.sample(10)"
      ],
      "metadata": {
        "colab": {
          "base_uri": "https://localhost:8080/",
          "height": 363
        },
        "id": "b7I78Hcxr3px",
        "outputId": "0cbe3384-6d41-4aef-8a4b-d8e0b8e34cce"
      },
      "id": "b7I78Hcxr3px",
      "execution_count": null,
      "outputs": [
        {
          "output_type": "execute_result",
          "data": {
            "text/plain": [
              "              timestamp                baseurl  \\\n",
              "62                  NaT  theseattletribune.com   \n",
              "363                 NaT          msnbc.msn.com   \n",
              "415                 NaT                 cq.com   \n",
              "599                 NaT             senate.gov   \n",
              "228 2017-11-10 15:06:39    100percentfedup.com   \n",
              "49  2017-05-02 07:00:00    americanflavor.news   \n",
              "63  2017-09-10 18:04:55    freedumjunkshun.com   \n",
              "234 2018-03-28 23:30:27   newsdonaldtrumps.com   \n",
              "588                 NaT                bls.gov   \n",
              "622                 NaT    www6.lexisnexis.com   \n",
              "\n",
              "                                               content label  \n",
              "62   Historical blog about Seattle, as well as the ...  fake  \n",
              "363  Outlook, Office, Skype, Bing, Breaking News, a...  real  \n",
              "415  CNN Holds Evening Republican Presidential Cand...  real  \n",
              "599  U.S. Senate: U.S. Senate Roll Call Votes 103rd...  real  \n",
              "228  JUST IN: WaPo Reporter Who Broke News On Judge...  fake  \n",
              "49   JUST IN: Barack Obama ARRESTED in a Japanese D...  fake  \n",
              "63   Breaking: Mar-A-Lago Destroyed By Irma-Jared K...  fake  \n",
              "234  Robert Redford Says: Michelle And Barack Obama...  fake  \n",
              "588  CES (National) : U.S. Bureau of Labor Statisti...  real  \n",
              "622  LexisNexis(R) Publisher COPYRIGHT © 2005 Lexis...  real  "
            ],
            "text/html": [
              "\n",
              "  <div id=\"df-0c95178a-bfd2-4ea3-a463-ed3d1822a4b5\">\n",
              "    <div class=\"colab-df-container\">\n",
              "      <div>\n",
              "<style scoped>\n",
              "    .dataframe tbody tr th:only-of-type {\n",
              "        vertical-align: middle;\n",
              "    }\n",
              "\n",
              "    .dataframe tbody tr th {\n",
              "        vertical-align: top;\n",
              "    }\n",
              "\n",
              "    .dataframe thead th {\n",
              "        text-align: right;\n",
              "    }\n",
              "</style>\n",
              "<table border=\"1\" class=\"dataframe\">\n",
              "  <thead>\n",
              "    <tr style=\"text-align: right;\">\n",
              "      <th></th>\n",
              "      <th>timestamp</th>\n",
              "      <th>baseurl</th>\n",
              "      <th>content</th>\n",
              "      <th>label</th>\n",
              "    </tr>\n",
              "  </thead>\n",
              "  <tbody>\n",
              "    <tr>\n",
              "      <th>62</th>\n",
              "      <td>NaT</td>\n",
              "      <td>theseattletribune.com</td>\n",
              "      <td>Historical blog about Seattle, as well as the ...</td>\n",
              "      <td>fake</td>\n",
              "    </tr>\n",
              "    <tr>\n",
              "      <th>363</th>\n",
              "      <td>NaT</td>\n",
              "      <td>msnbc.msn.com</td>\n",
              "      <td>Outlook, Office, Skype, Bing, Breaking News, a...</td>\n",
              "      <td>real</td>\n",
              "    </tr>\n",
              "    <tr>\n",
              "      <th>415</th>\n",
              "      <td>NaT</td>\n",
              "      <td>cq.com</td>\n",
              "      <td>CNN Holds Evening Republican Presidential Cand...</td>\n",
              "      <td>real</td>\n",
              "    </tr>\n",
              "    <tr>\n",
              "      <th>599</th>\n",
              "      <td>NaT</td>\n",
              "      <td>senate.gov</td>\n",
              "      <td>U.S. Senate: U.S. Senate Roll Call Votes 103rd...</td>\n",
              "      <td>real</td>\n",
              "    </tr>\n",
              "    <tr>\n",
              "      <th>228</th>\n",
              "      <td>2017-11-10 15:06:39</td>\n",
              "      <td>100percentfedup.com</td>\n",
              "      <td>JUST IN: WaPo Reporter Who Broke News On Judge...</td>\n",
              "      <td>fake</td>\n",
              "    </tr>\n",
              "    <tr>\n",
              "      <th>49</th>\n",
              "      <td>2017-05-02 07:00:00</td>\n",
              "      <td>americanflavor.news</td>\n",
              "      <td>JUST IN: Barack Obama ARRESTED in a Japanese D...</td>\n",
              "      <td>fake</td>\n",
              "    </tr>\n",
              "    <tr>\n",
              "      <th>63</th>\n",
              "      <td>2017-09-10 18:04:55</td>\n",
              "      <td>freedumjunkshun.com</td>\n",
              "      <td>Breaking: Mar-A-Lago Destroyed By Irma-Jared K...</td>\n",
              "      <td>fake</td>\n",
              "    </tr>\n",
              "    <tr>\n",
              "      <th>234</th>\n",
              "      <td>2018-03-28 23:30:27</td>\n",
              "      <td>newsdonaldtrumps.com</td>\n",
              "      <td>Robert Redford Says: Michelle And Barack Obama...</td>\n",
              "      <td>fake</td>\n",
              "    </tr>\n",
              "    <tr>\n",
              "      <th>588</th>\n",
              "      <td>NaT</td>\n",
              "      <td>bls.gov</td>\n",
              "      <td>CES (National) : U.S. Bureau of Labor Statisti...</td>\n",
              "      <td>real</td>\n",
              "    </tr>\n",
              "    <tr>\n",
              "      <th>622</th>\n",
              "      <td>NaT</td>\n",
              "      <td>www6.lexisnexis.com</td>\n",
              "      <td>LexisNexis(R) Publisher COPYRIGHT © 2005 Lexis...</td>\n",
              "      <td>real</td>\n",
              "    </tr>\n",
              "  </tbody>\n",
              "</table>\n",
              "</div>\n",
              "      <button class=\"colab-df-convert\" onclick=\"convertToInteractive('df-0c95178a-bfd2-4ea3-a463-ed3d1822a4b5')\"\n",
              "              title=\"Convert this dataframe to an interactive table.\"\n",
              "              style=\"display:none;\">\n",
              "        \n",
              "  <svg xmlns=\"http://www.w3.org/2000/svg\" height=\"24px\"viewBox=\"0 0 24 24\"\n",
              "       width=\"24px\">\n",
              "    <path d=\"M0 0h24v24H0V0z\" fill=\"none\"/>\n",
              "    <path d=\"M18.56 5.44l.94 2.06.94-2.06 2.06-.94-2.06-.94-.94-2.06-.94 2.06-2.06.94zm-11 1L8.5 8.5l.94-2.06 2.06-.94-2.06-.94L8.5 2.5l-.94 2.06-2.06.94zm10 10l.94 2.06.94-2.06 2.06-.94-2.06-.94-.94-2.06-.94 2.06-2.06.94z\"/><path d=\"M17.41 7.96l-1.37-1.37c-.4-.4-.92-.59-1.43-.59-.52 0-1.04.2-1.43.59L10.3 9.45l-7.72 7.72c-.78.78-.78 2.05 0 2.83L4 21.41c.39.39.9.59 1.41.59.51 0 1.02-.2 1.41-.59l7.78-7.78 2.81-2.81c.8-.78.8-2.07 0-2.86zM5.41 20L4 18.59l7.72-7.72 1.47 1.35L5.41 20z\"/>\n",
              "  </svg>\n",
              "      </button>\n",
              "      \n",
              "  <style>\n",
              "    .colab-df-container {\n",
              "      display:flex;\n",
              "      flex-wrap:wrap;\n",
              "      gap: 12px;\n",
              "    }\n",
              "\n",
              "    .colab-df-convert {\n",
              "      background-color: #E8F0FE;\n",
              "      border: none;\n",
              "      border-radius: 50%;\n",
              "      cursor: pointer;\n",
              "      display: none;\n",
              "      fill: #1967D2;\n",
              "      height: 32px;\n",
              "      padding: 0 0 0 0;\n",
              "      width: 32px;\n",
              "    }\n",
              "\n",
              "    .colab-df-convert:hover {\n",
              "      background-color: #E2EBFA;\n",
              "      box-shadow: 0px 1px 2px rgba(60, 64, 67, 0.3), 0px 1px 3px 1px rgba(60, 64, 67, 0.15);\n",
              "      fill: #174EA6;\n",
              "    }\n",
              "\n",
              "    [theme=dark] .colab-df-convert {\n",
              "      background-color: #3B4455;\n",
              "      fill: #D2E3FC;\n",
              "    }\n",
              "\n",
              "    [theme=dark] .colab-df-convert:hover {\n",
              "      background-color: #434B5C;\n",
              "      box-shadow: 0px 1px 3px 1px rgba(0, 0, 0, 0.15);\n",
              "      filter: drop-shadow(0px 1px 2px rgba(0, 0, 0, 0.3));\n",
              "      fill: #FFFFFF;\n",
              "    }\n",
              "  </style>\n",
              "\n",
              "      <script>\n",
              "        const buttonEl =\n",
              "          document.querySelector('#df-0c95178a-bfd2-4ea3-a463-ed3d1822a4b5 button.colab-df-convert');\n",
              "        buttonEl.style.display =\n",
              "          google.colab.kernel.accessAllowed ? 'block' : 'none';\n",
              "\n",
              "        async function convertToInteractive(key) {\n",
              "          const element = document.querySelector('#df-0c95178a-bfd2-4ea3-a463-ed3d1822a4b5');\n",
              "          const dataTable =\n",
              "            await google.colab.kernel.invokeFunction('convertToInteractive',\n",
              "                                                     [key], {});\n",
              "          if (!dataTable) return;\n",
              "\n",
              "          const docLinkHtml = 'Like what you see? Visit the ' +\n",
              "            '<a target=\"_blank\" href=https://colab.research.google.com/notebooks/data_table.ipynb>data table notebook</a>'\n",
              "            + ' to learn more about interactive tables.';\n",
              "          element.innerHTML = '';\n",
              "          dataTable['output_type'] = 'display_data';\n",
              "          await google.colab.output.renderOutput(dataTable, element);\n",
              "          const docLink = document.createElement('div');\n",
              "          docLink.innerHTML = docLinkHtml;\n",
              "          element.appendChild(docLink);\n",
              "        }\n",
              "      </script>\n",
              "    </div>\n",
              "  </div>\n",
              "  "
            ]
          },
          "metadata": {},
          "execution_count": 5
        }
      ]
    },
    {
      "cell_type": "code",
      "execution_count": null,
      "id": "58de8710",
      "metadata": {
        "colab": {
          "base_uri": "https://localhost:8080/",
          "height": 206
        },
        "id": "58de8710",
        "outputId": "e953561b-1c12-4061-b4e2-f0df5f4477fd"
      },
      "outputs": [
        {
          "output_type": "execute_result",
          "data": {
            "text/plain": [
              "              timestamp                   baseurl  \\\n",
              "164 2019-01-04 19:25:46  worldnewsdailyreport.com   \n",
              "28  2016-01-12 21:02:28       occupydemocrats.com   \n",
              "708 2017-05-28 07:00:00               foxnews.com   \n",
              "193 2018-04-18 07:00:00                   cnn.com   \n",
              "218                 NaT                  cpsc.gov   \n",
              "\n",
              "                                               content  \n",
              "164  Chinese lunar rover finds no evidence of Ameri...  \n",
              "28   Virginia Republican Wants Schools To Check Chi...  \n",
              "708  Sec. John Kelly on Manchester investigation, k...  \n",
              "193  Last in Queen Elizabeth II’s line of corgis di...  \n",
              "218  Target Recalls Water Absorbing Toys Due to Ser...  "
            ],
            "text/html": [
              "\n",
              "  <div id=\"df-bad6f5d9-9bbe-4f3e-852e-5dbd25affe39\">\n",
              "    <div class=\"colab-df-container\">\n",
              "      <div>\n",
              "<style scoped>\n",
              "    .dataframe tbody tr th:only-of-type {\n",
              "        vertical-align: middle;\n",
              "    }\n",
              "\n",
              "    .dataframe tbody tr th {\n",
              "        vertical-align: top;\n",
              "    }\n",
              "\n",
              "    .dataframe thead th {\n",
              "        text-align: right;\n",
              "    }\n",
              "</style>\n",
              "<table border=\"1\" class=\"dataframe\">\n",
              "  <thead>\n",
              "    <tr style=\"text-align: right;\">\n",
              "      <th></th>\n",
              "      <th>timestamp</th>\n",
              "      <th>baseurl</th>\n",
              "      <th>content</th>\n",
              "    </tr>\n",
              "  </thead>\n",
              "  <tbody>\n",
              "    <tr>\n",
              "      <th>164</th>\n",
              "      <td>2019-01-04 19:25:46</td>\n",
              "      <td>worldnewsdailyreport.com</td>\n",
              "      <td>Chinese lunar rover finds no evidence of Ameri...</td>\n",
              "    </tr>\n",
              "    <tr>\n",
              "      <th>28</th>\n",
              "      <td>2016-01-12 21:02:28</td>\n",
              "      <td>occupydemocrats.com</td>\n",
              "      <td>Virginia Republican Wants Schools To Check Chi...</td>\n",
              "    </tr>\n",
              "    <tr>\n",
              "      <th>708</th>\n",
              "      <td>2017-05-28 07:00:00</td>\n",
              "      <td>foxnews.com</td>\n",
              "      <td>Sec. John Kelly on Manchester investigation, k...</td>\n",
              "    </tr>\n",
              "    <tr>\n",
              "      <th>193</th>\n",
              "      <td>2018-04-18 07:00:00</td>\n",
              "      <td>cnn.com</td>\n",
              "      <td>Last in Queen Elizabeth II’s line of corgis di...</td>\n",
              "    </tr>\n",
              "    <tr>\n",
              "      <th>218</th>\n",
              "      <td>NaT</td>\n",
              "      <td>cpsc.gov</td>\n",
              "      <td>Target Recalls Water Absorbing Toys Due to Ser...</td>\n",
              "    </tr>\n",
              "  </tbody>\n",
              "</table>\n",
              "</div>\n",
              "      <button class=\"colab-df-convert\" onclick=\"convertToInteractive('df-bad6f5d9-9bbe-4f3e-852e-5dbd25affe39')\"\n",
              "              title=\"Convert this dataframe to an interactive table.\"\n",
              "              style=\"display:none;\">\n",
              "        \n",
              "  <svg xmlns=\"http://www.w3.org/2000/svg\" height=\"24px\"viewBox=\"0 0 24 24\"\n",
              "       width=\"24px\">\n",
              "    <path d=\"M0 0h24v24H0V0z\" fill=\"none\"/>\n",
              "    <path d=\"M18.56 5.44l.94 2.06.94-2.06 2.06-.94-2.06-.94-.94-2.06-.94 2.06-2.06.94zm-11 1L8.5 8.5l.94-2.06 2.06-.94-2.06-.94L8.5 2.5l-.94 2.06-2.06.94zm10 10l.94 2.06.94-2.06 2.06-.94-2.06-.94-.94-2.06-.94 2.06-2.06.94z\"/><path d=\"M17.41 7.96l-1.37-1.37c-.4-.4-.92-.59-1.43-.59-.52 0-1.04.2-1.43.59L10.3 9.45l-7.72 7.72c-.78.78-.78 2.05 0 2.83L4 21.41c.39.39.9.59 1.41.59.51 0 1.02-.2 1.41-.59l7.78-7.78 2.81-2.81c.8-.78.8-2.07 0-2.86zM5.41 20L4 18.59l7.72-7.72 1.47 1.35L5.41 20z\"/>\n",
              "  </svg>\n",
              "      </button>\n",
              "      \n",
              "  <style>\n",
              "    .colab-df-container {\n",
              "      display:flex;\n",
              "      flex-wrap:wrap;\n",
              "      gap: 12px;\n",
              "    }\n",
              "\n",
              "    .colab-df-convert {\n",
              "      background-color: #E8F0FE;\n",
              "      border: none;\n",
              "      border-radius: 50%;\n",
              "      cursor: pointer;\n",
              "      display: none;\n",
              "      fill: #1967D2;\n",
              "      height: 32px;\n",
              "      padding: 0 0 0 0;\n",
              "      width: 32px;\n",
              "    }\n",
              "\n",
              "    .colab-df-convert:hover {\n",
              "      background-color: #E2EBFA;\n",
              "      box-shadow: 0px 1px 2px rgba(60, 64, 67, 0.3), 0px 1px 3px 1px rgba(60, 64, 67, 0.15);\n",
              "      fill: #174EA6;\n",
              "    }\n",
              "\n",
              "    [theme=dark] .colab-df-convert {\n",
              "      background-color: #3B4455;\n",
              "      fill: #D2E3FC;\n",
              "    }\n",
              "\n",
              "    [theme=dark] .colab-df-convert:hover {\n",
              "      background-color: #434B5C;\n",
              "      box-shadow: 0px 1px 3px 1px rgba(0, 0, 0, 0.15);\n",
              "      filter: drop-shadow(0px 1px 2px rgba(0, 0, 0, 0.3));\n",
              "      fill: #FFFFFF;\n",
              "    }\n",
              "  </style>\n",
              "\n",
              "      <script>\n",
              "        const buttonEl =\n",
              "          document.querySelector('#df-bad6f5d9-9bbe-4f3e-852e-5dbd25affe39 button.colab-df-convert');\n",
              "        buttonEl.style.display =\n",
              "          google.colab.kernel.accessAllowed ? 'block' : 'none';\n",
              "\n",
              "        async function convertToInteractive(key) {\n",
              "          const element = document.querySelector('#df-bad6f5d9-9bbe-4f3e-852e-5dbd25affe39');\n",
              "          const dataTable =\n",
              "            await google.colab.kernel.invokeFunction('convertToInteractive',\n",
              "                                                     [key], {});\n",
              "          if (!dataTable) return;\n",
              "\n",
              "          const docLinkHtml = 'Like what you see? Visit the ' +\n",
              "            '<a target=\"_blank\" href=https://colab.research.google.com/notebooks/data_table.ipynb>data table notebook</a>'\n",
              "            + ' to learn more about interactive tables.';\n",
              "          element.innerHTML = '';\n",
              "          dataTable['output_type'] = 'display_data';\n",
              "          await google.colab.output.renderOutput(dataTable, element);\n",
              "          const docLink = document.createElement('div');\n",
              "          docLink.innerHTML = docLinkHtml;\n",
              "          element.appendChild(docLink);\n",
              "        }\n",
              "      </script>\n",
              "    </div>\n",
              "  </div>\n",
              "  "
            ]
          },
          "metadata": {},
          "execution_count": 6
        }
      ],
      "source": [
        "# X_train is our training set\n",
        "X_train.head(5)"
      ]
    },
    {
      "cell_type": "markdown",
      "id": "659f6681",
      "metadata": {
        "id": "659f6681"
      },
      "source": [
        "We can see that our training set has about 60 more articles labeled as `real` compared to `fake`:"
      ]
    },
    {
      "cell_type": "code",
      "execution_count": null,
      "id": "265fbb9b",
      "metadata": {
        "colab": {
          "base_uri": "https://localhost:8080/"
        },
        "id": "265fbb9b",
        "outputId": "43800410-880b-43ac-ca41-81413c92dafc"
      },
      "outputs": [
        {
          "output_type": "execute_result",
          "data": {
            "text/plain": [
              "real    320\n",
              "fake    264\n",
              "Name: label, dtype: int64"
            ]
          },
          "metadata": {},
          "execution_count": 7
        }
      ],
      "source": [
        "y_train.value_counts()"
      ]
    },
    {
      "cell_type": "markdown",
      "id": "4f549daa",
      "metadata": {
        "id": "4f549daa"
      },
      "source": [
        "Our training set has 584 articles. There are only 306 non-null timestamps, as the code below shows:"
      ]
    },
    {
      "cell_type": "code",
      "execution_count": null,
      "id": "b38dce81",
      "metadata": {
        "colab": {
          "base_uri": "https://localhost:8080/"
        },
        "id": "b38dce81",
        "outputId": "6631ba30-d08f-49f5-a136-493e0ccf0782"
      },
      "outputs": [
        {
          "output_type": "stream",
          "name": "stdout",
          "text": [
            "<class 'pandas.core.frame.DataFrame'>\n",
            "Int64Index: 584 entries, 164 to 102\n",
            "Data columns (total 3 columns):\n",
            " #   Column     Non-Null Count  Dtype         \n",
            "---  ------     --------------  -----         \n",
            " 0   timestamp  306 non-null    datetime64[ns]\n",
            " 1   baseurl    584 non-null    object        \n",
            " 2   content    584 non-null    object        \n",
            "dtypes: datetime64[ns](1), object(2)\n",
            "memory usage: 18.2+ KB\n"
          ]
        }
      ],
      "source": [
        "X_train.info()"
      ]
    },
    {
      "cell_type": "markdown",
      "id": "0a559777",
      "metadata": {
        "id": "0a559777"
      },
      "source": [
        "Next, we'll take a closer look at the `baseurl`, which represents the website that published the original article."
      ]
    },
    {
      "cell_type": "markdown",
      "id": "90f6c644",
      "metadata": {
        "id": "90f6c644"
      },
      "source": [
        "## Exploring the Publishers\n"
      ]
    },
    {
      "cell_type": "markdown",
      "id": "563e02ec",
      "metadata": {
        "id": "563e02ec"
      },
      "source": [
        "To understand the `baseurl` column, we can start by counting the number of articles that each website published."
      ]
    },
    {
      "cell_type": "code",
      "execution_count": null,
      "id": "530b8bf8",
      "metadata": {
        "colab": {
          "base_uri": "https://localhost:8080/"
        },
        "id": "530b8bf8",
        "outputId": "d93c6019-63de-4924-baaa-cea21ce87118"
      },
      "outputs": [
        {
          "output_type": "execute_result",
          "data": {
            "text/plain": [
              "whitehouse.gov               21\n",
              "abcnews.go.com               20\n",
              "nytimes.com                  17\n",
              "politifact.com               16\n",
              "yournewswire.com             15\n",
              "                             ..\n",
              "truthexam.com                 1\n",
              "apnews.com                    1\n",
              "occupydemocrats.com           1\n",
              "legis.state.ak.us             1\n",
              "dailynewsforamericans.com     1\n",
              "Name: baseurl, Length: 337, dtype: int64"
            ]
          },
          "metadata": {},
          "execution_count": 9
        }
      ],
      "source": [
        "X_train['baseurl'].value_counts()"
      ]
    },
    {
      "cell_type": "markdown",
      "id": "ba1a3585",
      "metadata": {
        "id": "ba1a3585"
      },
      "source": [
        "Our training set has 584 rows, and the code above shows that there are 337 unique publishing websites. This implies that many websites published a few articles. A histogram of the number of articles published by each website confirms this:"
      ]
    },
    {
      "cell_type": "code",
      "execution_count": null,
      "id": "89d20eb4",
      "metadata": {
        "colab": {
          "base_uri": "https://localhost:8080/",
          "height": 467
        },
        "id": "89d20eb4",
        "outputId": "30adf039-4a34-4f35-dafb-a82e292d8ec9"
      },
      "outputs": [
        {
          "output_type": "display_data",
          "data": {
            "text/html": [
              "<html>\n",
              "<head><meta charset=\"utf-8\" /></head>\n",
              "<body>\n",
              "    <div>            <script src=\"https://cdnjs.cloudflare.com/ajax/libs/mathjax/2.7.5/MathJax.js?config=TeX-AMS-MML_SVG\"></script><script type=\"text/javascript\">if (window.MathJax && window.MathJax.Hub && window.MathJax.Hub.Config) {window.MathJax.Hub.Config({SVG: {font: \"STIX-Web\"}});}</script>                <script type=\"text/javascript\">window.PlotlyConfig = {MathJaxConfig: 'local'};</script>\n",
              "        <script src=\"https://cdn.plot.ly/plotly-2.18.2.min.js\"></script>                <div id=\"b3ef5990-6fad-4b7e-9354-1c3ee6433911\" class=\"plotly-graph-div\" style=\"height:450px; width:650px;\"></div>            <script type=\"text/javascript\">                                    window.PLOTLYENV=window.PLOTLYENV || {};                                    if (document.getElementById(\"b3ef5990-6fad-4b7e-9354-1c3ee6433911\")) {                    Plotly.newPlot(                        \"b3ef5990-6fad-4b7e-9354-1c3ee6433911\",                        [{\"alignmentgroup\":\"True\",\"bingroup\":\"x\",\"hovertemplate\":\"variable=baseurl<br>value=%{x}<br>count=%{y}<extra></extra>\",\"legendgroup\":\"baseurl\",\"marker\":{\"color\":\"#636efa\",\"pattern\":{\"shape\":\"\"}},\"name\":\"baseurl\",\"offsetgroup\":\"baseurl\",\"orientation\":\"v\",\"showlegend\":true,\"x\":[21,20,17,16,15,14,11,11,11,9,6,6,5,5,5,4,4,4,4,4,4,4,4,3,3,3,3,3,3,3,3,3,3,3,3,3,2,2,2,2,2,2,2,2,2,2,2,2,2,2,2,2,2,2,2,2,2,2,2,2,2,2,2,2,2,2,2,2,2,2,2,2,2,2,2,2,1,1,1,1,1,1,1,1,1,1,1,1,1,1,1,1,1,1,1,1,1,1,1,1,1,1,1,1,1,1,1,1,1,1,1,1,1,1,1,1,1,1,1,1,1,1,1,1,1,1,1,1,1,1,1,1,1,1,1,1,1,1,1,1,1,1,1,1,1,1,1,1,1,1,1,1,1,1,1,1,1,1,1,1,1,1,1,1,1,1,1,1,1,1,1,1,1,1,1,1,1,1,1,1,1,1,1,1,1,1,1,1,1,1,1,1,1,1,1,1,1,1,1,1,1,1,1,1,1,1,1,1,1,1,1,1,1,1,1,1,1,1,1,1,1,1,1,1,1,1,1,1,1,1,1,1,1,1,1,1,1,1,1,1,1,1,1,1,1,1,1,1,1,1,1,1,1,1,1,1,1,1,1,1,1,1,1,1,1,1,1,1,1,1,1,1,1,1,1,1,1,1,1,1,1,1,1,1,1,1,1,1,1,1,1,1,1,1,1,1,1,1,1,1,1,1,1,1,1,1,1,1,1,1,1,1,1,1,1,1,1,1,1,1,1,1,1,1,1,1,1,1,1,1,1,1,1,1,1,1,1],\"xaxis\":\"x\",\"yaxis\":\"y\",\"type\":\"histogram\"}],                        {\"template\":{\"data\":{\"histogram2dcontour\":[{\"type\":\"histogram2dcontour\",\"colorbar\":{\"outlinewidth\":0,\"ticks\":\"\"},\"colorscale\":[[0.0,\"#0d0887\"],[0.1111111111111111,\"#46039f\"],[0.2222222222222222,\"#7201a8\"],[0.3333333333333333,\"#9c179e\"],[0.4444444444444444,\"#bd3786\"],[0.5555555555555556,\"#d8576b\"],[0.6666666666666666,\"#ed7953\"],[0.7777777777777778,\"#fb9f3a\"],[0.8888888888888888,\"#fdca26\"],[1.0,\"#f0f921\"]]}],\"choropleth\":[{\"type\":\"choropleth\",\"colorbar\":{\"outlinewidth\":0,\"ticks\":\"\"}}],\"histogram2d\":[{\"type\":\"histogram2d\",\"colorbar\":{\"outlinewidth\":0,\"ticks\":\"\"},\"colorscale\":[[0.0,\"#0d0887\"],[0.1111111111111111,\"#46039f\"],[0.2222222222222222,\"#7201a8\"],[0.3333333333333333,\"#9c179e\"],[0.4444444444444444,\"#bd3786\"],[0.5555555555555556,\"#d8576b\"],[0.6666666666666666,\"#ed7953\"],[0.7777777777777778,\"#fb9f3a\"],[0.8888888888888888,\"#fdca26\"],[1.0,\"#f0f921\"]]}],\"heatmap\":[{\"type\":\"heatmap\",\"colorbar\":{\"outlinewidth\":0,\"ticks\":\"\"},\"colorscale\":[[0.0,\"#0d0887\"],[0.1111111111111111,\"#46039f\"],[0.2222222222222222,\"#7201a8\"],[0.3333333333333333,\"#9c179e\"],[0.4444444444444444,\"#bd3786\"],[0.5555555555555556,\"#d8576b\"],[0.6666666666666666,\"#ed7953\"],[0.7777777777777778,\"#fb9f3a\"],[0.8888888888888888,\"#fdca26\"],[1.0,\"#f0f921\"]]}],\"heatmapgl\":[{\"type\":\"heatmapgl\",\"colorbar\":{\"outlinewidth\":0,\"ticks\":\"\"},\"colorscale\":[[0.0,\"#0d0887\"],[0.1111111111111111,\"#46039f\"],[0.2222222222222222,\"#7201a8\"],[0.3333333333333333,\"#9c179e\"],[0.4444444444444444,\"#bd3786\"],[0.5555555555555556,\"#d8576b\"],[0.6666666666666666,\"#ed7953\"],[0.7777777777777778,\"#fb9f3a\"],[0.8888888888888888,\"#fdca26\"],[1.0,\"#f0f921\"]]}],\"contourcarpet\":[{\"type\":\"contourcarpet\",\"colorbar\":{\"outlinewidth\":0,\"ticks\":\"\"}}],\"contour\":[{\"type\":\"contour\",\"colorbar\":{\"outlinewidth\":0,\"ticks\":\"\"},\"colorscale\":[[0.0,\"#0d0887\"],[0.1111111111111111,\"#46039f\"],[0.2222222222222222,\"#7201a8\"],[0.3333333333333333,\"#9c179e\"],[0.4444444444444444,\"#bd3786\"],[0.5555555555555556,\"#d8576b\"],[0.6666666666666666,\"#ed7953\"],[0.7777777777777778,\"#fb9f3a\"],[0.8888888888888888,\"#fdca26\"],[1.0,\"#f0f921\"]]}],\"surface\":[{\"type\":\"surface\",\"colorbar\":{\"outlinewidth\":0,\"ticks\":\"\"},\"colorscale\":[[0.0,\"#0d0887\"],[0.1111111111111111,\"#46039f\"],[0.2222222222222222,\"#7201a8\"],[0.3333333333333333,\"#9c179e\"],[0.4444444444444444,\"#bd3786\"],[0.5555555555555556,\"#d8576b\"],[0.6666666666666666,\"#ed7953\"],[0.7777777777777778,\"#fb9f3a\"],[0.8888888888888888,\"#fdca26\"],[1.0,\"#f0f921\"]]}],\"mesh3d\":[{\"type\":\"mesh3d\",\"colorbar\":{\"outlinewidth\":0,\"ticks\":\"\"}}],\"scatter\":[{\"fillpattern\":{\"fillmode\":\"overlay\",\"size\":10,\"solidity\":0.2},\"type\":\"scatter\"}],\"parcoords\":[{\"type\":\"parcoords\",\"line\":{\"colorbar\":{\"outlinewidth\":0,\"ticks\":\"\"}}}],\"scatterpolargl\":[{\"type\":\"scatterpolargl\",\"marker\":{\"colorbar\":{\"outlinewidth\":0,\"ticks\":\"\"}}}],\"bar\":[{\"error_x\":{\"color\":\"#2a3f5f\"},\"error_y\":{\"color\":\"#2a3f5f\"},\"marker\":{\"line\":{\"color\":\"#E5ECF6\",\"width\":0.5},\"pattern\":{\"fillmode\":\"overlay\",\"size\":10,\"solidity\":0.2}},\"type\":\"bar\"}],\"scattergeo\":[{\"type\":\"scattergeo\",\"marker\":{\"colorbar\":{\"outlinewidth\":0,\"ticks\":\"\"}}}],\"scatterpolar\":[{\"type\":\"scatterpolar\",\"marker\":{\"colorbar\":{\"outlinewidth\":0,\"ticks\":\"\"}}}],\"histogram\":[{\"marker\":{\"pattern\":{\"fillmode\":\"overlay\",\"size\":10,\"solidity\":0.2}},\"type\":\"histogram\"}],\"scattergl\":[{\"type\":\"scattergl\",\"marker\":{\"colorbar\":{\"outlinewidth\":0,\"ticks\":\"\"}}}],\"scatter3d\":[{\"type\":\"scatter3d\",\"line\":{\"colorbar\":{\"outlinewidth\":0,\"ticks\":\"\"}},\"marker\":{\"colorbar\":{\"outlinewidth\":0,\"ticks\":\"\"}}}],\"scattermapbox\":[{\"type\":\"scattermapbox\",\"marker\":{\"colorbar\":{\"outlinewidth\":0,\"ticks\":\"\"}}}],\"scatterternary\":[{\"type\":\"scatterternary\",\"marker\":{\"colorbar\":{\"outlinewidth\":0,\"ticks\":\"\"}}}],\"scattercarpet\":[{\"type\":\"scattercarpet\",\"marker\":{\"colorbar\":{\"outlinewidth\":0,\"ticks\":\"\"}}}],\"carpet\":[{\"aaxis\":{\"endlinecolor\":\"#2a3f5f\",\"gridcolor\":\"white\",\"linecolor\":\"white\",\"minorgridcolor\":\"white\",\"startlinecolor\":\"#2a3f5f\"},\"baxis\":{\"endlinecolor\":\"#2a3f5f\",\"gridcolor\":\"white\",\"linecolor\":\"white\",\"minorgridcolor\":\"white\",\"startlinecolor\":\"#2a3f5f\"},\"type\":\"carpet\"}],\"table\":[{\"cells\":{\"fill\":{\"color\":\"#EBF0F8\"},\"line\":{\"color\":\"white\"}},\"header\":{\"fill\":{\"color\":\"#C8D4E3\"},\"line\":{\"color\":\"white\"}},\"type\":\"table\"}],\"barpolar\":[{\"marker\":{\"line\":{\"color\":\"#E5ECF6\",\"width\":0.5},\"pattern\":{\"fillmode\":\"overlay\",\"size\":10,\"solidity\":0.2}},\"type\":\"barpolar\"}],\"pie\":[{\"automargin\":true,\"type\":\"pie\"}]},\"layout\":{\"autotypenumbers\":\"strict\",\"colorway\":[\"#636efa\",\"#EF553B\",\"#00cc96\",\"#ab63fa\",\"#FFA15A\",\"#19d3f3\",\"#FF6692\",\"#B6E880\",\"#FF97FF\",\"#FECB52\"],\"font\":{\"color\":\"#2a3f5f\"},\"hovermode\":\"closest\",\"hoverlabel\":{\"align\":\"left\"},\"paper_bgcolor\":\"white\",\"plot_bgcolor\":\"#E5ECF6\",\"polar\":{\"bgcolor\":\"#E5ECF6\",\"angularaxis\":{\"gridcolor\":\"white\",\"linecolor\":\"white\",\"ticks\":\"\"},\"radialaxis\":{\"gridcolor\":\"white\",\"linecolor\":\"white\",\"ticks\":\"\"}},\"ternary\":{\"bgcolor\":\"#E5ECF6\",\"aaxis\":{\"gridcolor\":\"white\",\"linecolor\":\"white\",\"ticks\":\"\"},\"baxis\":{\"gridcolor\":\"white\",\"linecolor\":\"white\",\"ticks\":\"\"},\"caxis\":{\"gridcolor\":\"white\",\"linecolor\":\"white\",\"ticks\":\"\"}},\"coloraxis\":{\"colorbar\":{\"outlinewidth\":0,\"ticks\":\"\"}},\"colorscale\":{\"sequential\":[[0.0,\"#0d0887\"],[0.1111111111111111,\"#46039f\"],[0.2222222222222222,\"#7201a8\"],[0.3333333333333333,\"#9c179e\"],[0.4444444444444444,\"#bd3786\"],[0.5555555555555556,\"#d8576b\"],[0.6666666666666666,\"#ed7953\"],[0.7777777777777778,\"#fb9f3a\"],[0.8888888888888888,\"#fdca26\"],[1.0,\"#f0f921\"]],\"sequentialminus\":[[0.0,\"#0d0887\"],[0.1111111111111111,\"#46039f\"],[0.2222222222222222,\"#7201a8\"],[0.3333333333333333,\"#9c179e\"],[0.4444444444444444,\"#bd3786\"],[0.5555555555555556,\"#d8576b\"],[0.6666666666666666,\"#ed7953\"],[0.7777777777777778,\"#fb9f3a\"],[0.8888888888888888,\"#fdca26\"],[1.0,\"#f0f921\"]],\"diverging\":[[0,\"#8e0152\"],[0.1,\"#c51b7d\"],[0.2,\"#de77ae\"],[0.3,\"#f1b6da\"],[0.4,\"#fde0ef\"],[0.5,\"#f7f7f7\"],[0.6,\"#e6f5d0\"],[0.7,\"#b8e186\"],[0.8,\"#7fbc41\"],[0.9,\"#4d9221\"],[1,\"#276419\"]]},\"xaxis\":{\"gridcolor\":\"white\",\"linecolor\":\"white\",\"ticks\":\"\",\"title\":{\"standoff\":15},\"zerolinecolor\":\"white\",\"automargin\":true,\"zerolinewidth\":2},\"yaxis\":{\"gridcolor\":\"white\",\"linecolor\":\"white\",\"ticks\":\"\",\"title\":{\"standoff\":15},\"zerolinecolor\":\"white\",\"automargin\":true,\"zerolinewidth\":2},\"scene\":{\"xaxis\":{\"backgroundcolor\":\"#E5ECF6\",\"gridcolor\":\"white\",\"linecolor\":\"white\",\"showbackground\":true,\"ticks\":\"\",\"zerolinecolor\":\"white\",\"gridwidth\":2},\"yaxis\":{\"backgroundcolor\":\"#E5ECF6\",\"gridcolor\":\"white\",\"linecolor\":\"white\",\"showbackground\":true,\"ticks\":\"\",\"zerolinecolor\":\"white\",\"gridwidth\":2},\"zaxis\":{\"backgroundcolor\":\"#E5ECF6\",\"gridcolor\":\"white\",\"linecolor\":\"white\",\"showbackground\":true,\"ticks\":\"\",\"zerolinecolor\":\"white\",\"gridwidth\":2}},\"shapedefaults\":{\"line\":{\"color\":\"#2a3f5f\"}},\"annotationdefaults\":{\"arrowcolor\":\"#2a3f5f\",\"arrowhead\":0,\"arrowwidth\":1},\"geo\":{\"bgcolor\":\"white\",\"landcolor\":\"#E5ECF6\",\"subunitcolor\":\"white\",\"showland\":true,\"showlakes\":true,\"lakecolor\":\"white\"},\"title\":{\"x\":0.05},\"mapbox\":{\"style\":\"light\"}}},\"xaxis\":{\"anchor\":\"y\",\"domain\":[0.0,1.0],\"title\":{\"text\":\"value\"}},\"yaxis\":{\"anchor\":\"x\",\"domain\":[0.0,1.0],\"title\":{\"text\":\"count\"}},\"legend\":{\"title\":{\"text\":\"variable\"},\"tracegroupgap\":0},\"margin\":{\"t\":60},\"barmode\":\"relative\",\"height\":450,\"width\":650},                        {\"responsive\": true}                    ).then(function(){\n",
              "                            \n",
              "var gd = document.getElementById('b3ef5990-6fad-4b7e-9354-1c3ee6433911');\n",
              "var x = new MutationObserver(function (mutations, observer) {{\n",
              "        var display = window.getComputedStyle(gd).display;\n",
              "        if (!display || display === 'none') {{\n",
              "            console.log([gd, 'removed!']);\n",
              "            Plotly.purge(gd);\n",
              "            observer.disconnect();\n",
              "        }}\n",
              "}});\n",
              "\n",
              "// Listen for the removal of the full notebook cells\n",
              "var notebookContainer = gd.closest('#notebook-container');\n",
              "if (notebookContainer) {{\n",
              "    x.observe(notebookContainer, {childList: true});\n",
              "}}\n",
              "\n",
              "// Listen for the clearing of the current output cell\n",
              "var outputEl = gd.closest('.output');\n",
              "if (outputEl) {{\n",
              "    x.observe(outputEl, {childList: true});\n",
              "}}\n",
              "\n",
              "                        })                };                            </script>        </div>\n",
              "</body>\n",
              "</html>"
            ]
          },
          "metadata": {}
        }
      ],
      "source": [
        "px.histogram(X_train['baseurl'].value_counts(), width=650, height=450)"
      ]
    },
    {
      "cell_type": "markdown",
      "id": "1c0aeb5e",
      "metadata": {
        "id": "1c0aeb5e"
      },
      "source": [
        "This histogram shows that the vast majority (261 out of 337) of websites published only one article in the training set, and only a few websites published more than 5 articles total."
      ]
    },
    {
      "cell_type": "markdown",
      "id": "1fee6bc2",
      "metadata": {
        "id": "1fee6bc2"
      },
      "source": [
        "Nonetheless, we can still take a look at the websites that published the most fake and real articles. First, we'll start with the websites that published the most fake articles:"
      ]
    },
    {
      "cell_type": "code",
      "execution_count": null,
      "id": "92767bfa",
      "metadata": {
        "colab": {
          "base_uri": "https://localhost:8080/",
          "height": 467
        },
        "id": "92767bfa",
        "outputId": "8bde767c-79ea-456d-d318-74845253d909"
      },
      "outputs": [
        {
          "output_type": "display_data",
          "data": {
            "text/html": [
              "<html>\n",
              "<head><meta charset=\"utf-8\" /></head>\n",
              "<body>\n",
              "    <div>            <script src=\"https://cdnjs.cloudflare.com/ajax/libs/mathjax/2.7.5/MathJax.js?config=TeX-AMS-MML_SVG\"></script><script type=\"text/javascript\">if (window.MathJax && window.MathJax.Hub && window.MathJax.Hub.Config) {window.MathJax.Hub.Config({SVG: {font: \"STIX-Web\"}});}</script>                <script type=\"text/javascript\">window.PlotlyConfig = {MathJaxConfig: 'local'};</script>\n",
              "        <script src=\"https://cdn.plot.ly/plotly-2.18.2.min.js\"></script>                <div id=\"cbd9b593-f31f-491d-a9f6-8232ee5bde69\" class=\"plotly-graph-div\" style=\"height:450px; width:550px;\"></div>            <script type=\"text/javascript\">                                    window.PLOTLYENV=window.PLOTLYENV || {};                                    if (document.getElementById(\"cbd9b593-f31f-491d-a9f6-8232ee5bde69\")) {                    Plotly.newPlot(                        \"cbd9b593-f31f-491d-a9f6-8232ee5bde69\",                        [{\"alignmentgroup\":\"True\",\"hovertemplate\":\"variable=baseurl<br>value=%{x}<br>index=%{y}<extra></extra>\",\"legendgroup\":\"baseurl\",\"marker\":{\"color\":\"#636efa\",\"pattern\":{\"shape\":\"\"}},\"name\":\"baseurl\",\"offsetgroup\":\"baseurl\",\"orientation\":\"h\",\"showlegend\":true,\"textposition\":\"auto\",\"x\":[3,3,3,3,3,3,4,4,5,15],\"xaxis\":\"x\",\"y\":[\"worldnewsdailyreport.com\",\"observeronline.news\",\"trendolizer.com\",\"washingtonpost.com\",\"newsweek.com\",\"freedomcrossroads.us\",\"thehill.com\",\"dailyusaupdate.com\",\"thegatewaypundit.com\",\"yournewswire.com\"],\"yaxis\":\"y\",\"type\":\"bar\"}],                        {\"template\":{\"data\":{\"histogram2dcontour\":[{\"type\":\"histogram2dcontour\",\"colorbar\":{\"outlinewidth\":0,\"ticks\":\"\"},\"colorscale\":[[0.0,\"#0d0887\"],[0.1111111111111111,\"#46039f\"],[0.2222222222222222,\"#7201a8\"],[0.3333333333333333,\"#9c179e\"],[0.4444444444444444,\"#bd3786\"],[0.5555555555555556,\"#d8576b\"],[0.6666666666666666,\"#ed7953\"],[0.7777777777777778,\"#fb9f3a\"],[0.8888888888888888,\"#fdca26\"],[1.0,\"#f0f921\"]]}],\"choropleth\":[{\"type\":\"choropleth\",\"colorbar\":{\"outlinewidth\":0,\"ticks\":\"\"}}],\"histogram2d\":[{\"type\":\"histogram2d\",\"colorbar\":{\"outlinewidth\":0,\"ticks\":\"\"},\"colorscale\":[[0.0,\"#0d0887\"],[0.1111111111111111,\"#46039f\"],[0.2222222222222222,\"#7201a8\"],[0.3333333333333333,\"#9c179e\"],[0.4444444444444444,\"#bd3786\"],[0.5555555555555556,\"#d8576b\"],[0.6666666666666666,\"#ed7953\"],[0.7777777777777778,\"#fb9f3a\"],[0.8888888888888888,\"#fdca26\"],[1.0,\"#f0f921\"]]}],\"heatmap\":[{\"type\":\"heatmap\",\"colorbar\":{\"outlinewidth\":0,\"ticks\":\"\"},\"colorscale\":[[0.0,\"#0d0887\"],[0.1111111111111111,\"#46039f\"],[0.2222222222222222,\"#7201a8\"],[0.3333333333333333,\"#9c179e\"],[0.4444444444444444,\"#bd3786\"],[0.5555555555555556,\"#d8576b\"],[0.6666666666666666,\"#ed7953\"],[0.7777777777777778,\"#fb9f3a\"],[0.8888888888888888,\"#fdca26\"],[1.0,\"#f0f921\"]]}],\"heatmapgl\":[{\"type\":\"heatmapgl\",\"colorbar\":{\"outlinewidth\":0,\"ticks\":\"\"},\"colorscale\":[[0.0,\"#0d0887\"],[0.1111111111111111,\"#46039f\"],[0.2222222222222222,\"#7201a8\"],[0.3333333333333333,\"#9c179e\"],[0.4444444444444444,\"#bd3786\"],[0.5555555555555556,\"#d8576b\"],[0.6666666666666666,\"#ed7953\"],[0.7777777777777778,\"#fb9f3a\"],[0.8888888888888888,\"#fdca26\"],[1.0,\"#f0f921\"]]}],\"contourcarpet\":[{\"type\":\"contourcarpet\",\"colorbar\":{\"outlinewidth\":0,\"ticks\":\"\"}}],\"contour\":[{\"type\":\"contour\",\"colorbar\":{\"outlinewidth\":0,\"ticks\":\"\"},\"colorscale\":[[0.0,\"#0d0887\"],[0.1111111111111111,\"#46039f\"],[0.2222222222222222,\"#7201a8\"],[0.3333333333333333,\"#9c179e\"],[0.4444444444444444,\"#bd3786\"],[0.5555555555555556,\"#d8576b\"],[0.6666666666666666,\"#ed7953\"],[0.7777777777777778,\"#fb9f3a\"],[0.8888888888888888,\"#fdca26\"],[1.0,\"#f0f921\"]]}],\"surface\":[{\"type\":\"surface\",\"colorbar\":{\"outlinewidth\":0,\"ticks\":\"\"},\"colorscale\":[[0.0,\"#0d0887\"],[0.1111111111111111,\"#46039f\"],[0.2222222222222222,\"#7201a8\"],[0.3333333333333333,\"#9c179e\"],[0.4444444444444444,\"#bd3786\"],[0.5555555555555556,\"#d8576b\"],[0.6666666666666666,\"#ed7953\"],[0.7777777777777778,\"#fb9f3a\"],[0.8888888888888888,\"#fdca26\"],[1.0,\"#f0f921\"]]}],\"mesh3d\":[{\"type\":\"mesh3d\",\"colorbar\":{\"outlinewidth\":0,\"ticks\":\"\"}}],\"scatter\":[{\"fillpattern\":{\"fillmode\":\"overlay\",\"size\":10,\"solidity\":0.2},\"type\":\"scatter\"}],\"parcoords\":[{\"type\":\"parcoords\",\"line\":{\"colorbar\":{\"outlinewidth\":0,\"ticks\":\"\"}}}],\"scatterpolargl\":[{\"type\":\"scatterpolargl\",\"marker\":{\"colorbar\":{\"outlinewidth\":0,\"ticks\":\"\"}}}],\"bar\":[{\"error_x\":{\"color\":\"#2a3f5f\"},\"error_y\":{\"color\":\"#2a3f5f\"},\"marker\":{\"line\":{\"color\":\"#E5ECF6\",\"width\":0.5},\"pattern\":{\"fillmode\":\"overlay\",\"size\":10,\"solidity\":0.2}},\"type\":\"bar\"}],\"scattergeo\":[{\"type\":\"scattergeo\",\"marker\":{\"colorbar\":{\"outlinewidth\":0,\"ticks\":\"\"}}}],\"scatterpolar\":[{\"type\":\"scatterpolar\",\"marker\":{\"colorbar\":{\"outlinewidth\":0,\"ticks\":\"\"}}}],\"histogram\":[{\"marker\":{\"pattern\":{\"fillmode\":\"overlay\",\"size\":10,\"solidity\":0.2}},\"type\":\"histogram\"}],\"scattergl\":[{\"type\":\"scattergl\",\"marker\":{\"colorbar\":{\"outlinewidth\":0,\"ticks\":\"\"}}}],\"scatter3d\":[{\"type\":\"scatter3d\",\"line\":{\"colorbar\":{\"outlinewidth\":0,\"ticks\":\"\"}},\"marker\":{\"colorbar\":{\"outlinewidth\":0,\"ticks\":\"\"}}}],\"scattermapbox\":[{\"type\":\"scattermapbox\",\"marker\":{\"colorbar\":{\"outlinewidth\":0,\"ticks\":\"\"}}}],\"scatterternary\":[{\"type\":\"scatterternary\",\"marker\":{\"colorbar\":{\"outlinewidth\":0,\"ticks\":\"\"}}}],\"scattercarpet\":[{\"type\":\"scattercarpet\",\"marker\":{\"colorbar\":{\"outlinewidth\":0,\"ticks\":\"\"}}}],\"carpet\":[{\"aaxis\":{\"endlinecolor\":\"#2a3f5f\",\"gridcolor\":\"white\",\"linecolor\":\"white\",\"minorgridcolor\":\"white\",\"startlinecolor\":\"#2a3f5f\"},\"baxis\":{\"endlinecolor\":\"#2a3f5f\",\"gridcolor\":\"white\",\"linecolor\":\"white\",\"minorgridcolor\":\"white\",\"startlinecolor\":\"#2a3f5f\"},\"type\":\"carpet\"}],\"table\":[{\"cells\":{\"fill\":{\"color\":\"#EBF0F8\"},\"line\":{\"color\":\"white\"}},\"header\":{\"fill\":{\"color\":\"#C8D4E3\"},\"line\":{\"color\":\"white\"}},\"type\":\"table\"}],\"barpolar\":[{\"marker\":{\"line\":{\"color\":\"#E5ECF6\",\"width\":0.5},\"pattern\":{\"fillmode\":\"overlay\",\"size\":10,\"solidity\":0.2}},\"type\":\"barpolar\"}],\"pie\":[{\"automargin\":true,\"type\":\"pie\"}]},\"layout\":{\"autotypenumbers\":\"strict\",\"colorway\":[\"#636efa\",\"#EF553B\",\"#00cc96\",\"#ab63fa\",\"#FFA15A\",\"#19d3f3\",\"#FF6692\",\"#B6E880\",\"#FF97FF\",\"#FECB52\"],\"font\":{\"color\":\"#2a3f5f\"},\"hovermode\":\"closest\",\"hoverlabel\":{\"align\":\"left\"},\"paper_bgcolor\":\"white\",\"plot_bgcolor\":\"#E5ECF6\",\"polar\":{\"bgcolor\":\"#E5ECF6\",\"angularaxis\":{\"gridcolor\":\"white\",\"linecolor\":\"white\",\"ticks\":\"\"},\"radialaxis\":{\"gridcolor\":\"white\",\"linecolor\":\"white\",\"ticks\":\"\"}},\"ternary\":{\"bgcolor\":\"#E5ECF6\",\"aaxis\":{\"gridcolor\":\"white\",\"linecolor\":\"white\",\"ticks\":\"\"},\"baxis\":{\"gridcolor\":\"white\",\"linecolor\":\"white\",\"ticks\":\"\"},\"caxis\":{\"gridcolor\":\"white\",\"linecolor\":\"white\",\"ticks\":\"\"}},\"coloraxis\":{\"colorbar\":{\"outlinewidth\":0,\"ticks\":\"\"}},\"colorscale\":{\"sequential\":[[0.0,\"#0d0887\"],[0.1111111111111111,\"#46039f\"],[0.2222222222222222,\"#7201a8\"],[0.3333333333333333,\"#9c179e\"],[0.4444444444444444,\"#bd3786\"],[0.5555555555555556,\"#d8576b\"],[0.6666666666666666,\"#ed7953\"],[0.7777777777777778,\"#fb9f3a\"],[0.8888888888888888,\"#fdca26\"],[1.0,\"#f0f921\"]],\"sequentialminus\":[[0.0,\"#0d0887\"],[0.1111111111111111,\"#46039f\"],[0.2222222222222222,\"#7201a8\"],[0.3333333333333333,\"#9c179e\"],[0.4444444444444444,\"#bd3786\"],[0.5555555555555556,\"#d8576b\"],[0.6666666666666666,\"#ed7953\"],[0.7777777777777778,\"#fb9f3a\"],[0.8888888888888888,\"#fdca26\"],[1.0,\"#f0f921\"]],\"diverging\":[[0,\"#8e0152\"],[0.1,\"#c51b7d\"],[0.2,\"#de77ae\"],[0.3,\"#f1b6da\"],[0.4,\"#fde0ef\"],[0.5,\"#f7f7f7\"],[0.6,\"#e6f5d0\"],[0.7,\"#b8e186\"],[0.8,\"#7fbc41\"],[0.9,\"#4d9221\"],[1,\"#276419\"]]},\"xaxis\":{\"gridcolor\":\"white\",\"linecolor\":\"white\",\"ticks\":\"\",\"title\":{\"standoff\":15},\"zerolinecolor\":\"white\",\"automargin\":true,\"zerolinewidth\":2},\"yaxis\":{\"gridcolor\":\"white\",\"linecolor\":\"white\",\"ticks\":\"\",\"title\":{\"standoff\":15},\"zerolinecolor\":\"white\",\"automargin\":true,\"zerolinewidth\":2},\"scene\":{\"xaxis\":{\"backgroundcolor\":\"#E5ECF6\",\"gridcolor\":\"white\",\"linecolor\":\"white\",\"showbackground\":true,\"ticks\":\"\",\"zerolinecolor\":\"white\",\"gridwidth\":2},\"yaxis\":{\"backgroundcolor\":\"#E5ECF6\",\"gridcolor\":\"white\",\"linecolor\":\"white\",\"showbackground\":true,\"ticks\":\"\",\"zerolinecolor\":\"white\",\"gridwidth\":2},\"zaxis\":{\"backgroundcolor\":\"#E5ECF6\",\"gridcolor\":\"white\",\"linecolor\":\"white\",\"showbackground\":true,\"ticks\":\"\",\"zerolinecolor\":\"white\",\"gridwidth\":2}},\"shapedefaults\":{\"line\":{\"color\":\"#2a3f5f\"}},\"annotationdefaults\":{\"arrowcolor\":\"#2a3f5f\",\"arrowhead\":0,\"arrowwidth\":1},\"geo\":{\"bgcolor\":\"white\",\"landcolor\":\"#E5ECF6\",\"subunitcolor\":\"white\",\"showland\":true,\"showlakes\":true,\"lakecolor\":\"white\"},\"title\":{\"x\":0.05},\"mapbox\":{\"style\":\"light\"}}},\"xaxis\":{\"anchor\":\"y\",\"domain\":[0.0,1.0],\"title\":{\"text\":\"value\"}},\"yaxis\":{\"anchor\":\"x\",\"domain\":[0.0,1.0],\"title\":{\"text\":\"index\"}},\"legend\":{\"title\":{\"text\":\"variable\"},\"tracegroupgap\":0},\"margin\":{\"t\":60},\"barmode\":\"relative\",\"height\":450,\"width\":550},                        {\"responsive\": true}                    ).then(function(){\n",
              "                            \n",
              "var gd = document.getElementById('cbd9b593-f31f-491d-a9f6-8232ee5bde69');\n",
              "var x = new MutationObserver(function (mutations, observer) {{\n",
              "        var display = window.getComputedStyle(gd).display;\n",
              "        if (!display || display === 'none') {{\n",
              "            console.log([gd, 'removed!']);\n",
              "            Plotly.purge(gd);\n",
              "            observer.disconnect();\n",
              "        }}\n",
              "}});\n",
              "\n",
              "// Listen for the removal of the full notebook cells\n",
              "var notebookContainer = gd.closest('#notebook-container');\n",
              "if (notebookContainer) {{\n",
              "    x.observe(notebookContainer, {childList: true});\n",
              "}}\n",
              "\n",
              "// Listen for the clearing of the current output cell\n",
              "var outputEl = gd.closest('.output');\n",
              "if (outputEl) {{\n",
              "    x.observe(outputEl, {childList: true});\n",
              "}}\n",
              "\n",
              "                        })                };                            </script>        </div>\n",
              "</body>\n",
              "</html>"
            ]
          },
          "metadata": {}
        }
      ],
      "source": [
        "top_fake_publishers = (X_train\n",
        " .assign(label=y_train)\n",
        " .query('label == \"fake\"')\n",
        " ['baseurl']\n",
        " .value_counts()\n",
        " .iloc[:10]\n",
        " .sort_values()\n",
        ")\n",
        "px.bar(top_fake_publishers, orientation='h', width=550, height=450)"
      ]
    },
    {
      "cell_type": "markdown",
      "id": "0000bd05",
      "metadata": {
        "id": "0000bd05"
      },
      "source": [
        "Next, we'll take a look at the websites that published real articles:"
      ]
    },
    {
      "cell_type": "code",
      "execution_count": null,
      "id": "0949dff0",
      "metadata": {
        "colab": {
          "base_uri": "https://localhost:8080/",
          "height": 467
        },
        "id": "0949dff0",
        "outputId": "ff68e58a-6505-480f-fbf1-e7b3e30dd7cf"
      },
      "outputs": [
        {
          "output_type": "display_data",
          "data": {
            "text/html": [
              "<html>\n",
              "<head><meta charset=\"utf-8\" /></head>\n",
              "<body>\n",
              "    <div>            <script src=\"https://cdnjs.cloudflare.com/ajax/libs/mathjax/2.7.5/MathJax.js?config=TeX-AMS-MML_SVG\"></script><script type=\"text/javascript\">if (window.MathJax && window.MathJax.Hub && window.MathJax.Hub.Config) {window.MathJax.Hub.Config({SVG: {font: \"STIX-Web\"}});}</script>                <script type=\"text/javascript\">window.PlotlyConfig = {MathJaxConfig: 'local'};</script>\n",
              "        <script src=\"https://cdn.plot.ly/plotly-2.18.2.min.js\"></script>                <div id=\"84ac0a39-3db7-4978-a499-98bda6d9022d\" class=\"plotly-graph-div\" style=\"height:450px; width:550px;\"></div>            <script type=\"text/javascript\">                                    window.PLOTLYENV=window.PLOTLYENV || {};                                    if (document.getElementById(\"84ac0a39-3db7-4978-a499-98bda6d9022d\")) {                    Plotly.newPlot(                        \"84ac0a39-3db7-4978-a499-98bda6d9022d\",                        [{\"alignmentgroup\":\"True\",\"hovertemplate\":\"variable=baseurl<br>value=%{x}<br>index=%{y}<extra></extra>\",\"legendgroup\":\"baseurl\",\"marker\":{\"color\":\"#636efa\",\"pattern\":{\"shape\":\"\"}},\"name\":\"baseurl\",\"offsetgroup\":\"baseurl\",\"orientation\":\"h\",\"showlegend\":true,\"textposition\":\"auto\",\"x\":[5,8,9,10,11,11,15,16,20,21],\"xaxis\":\"x\",\"y\":[\"medium.com\",\"cnn.com\",\"msnbc.msn.com\",\"foxnews.com\",\"cq.com\",\"washingtonpost.com\",\"politifact.com\",\"nytimes.com\",\"abcnews.go.com\",\"whitehouse.gov\"],\"yaxis\":\"y\",\"type\":\"bar\"}],                        {\"template\":{\"data\":{\"histogram2dcontour\":[{\"type\":\"histogram2dcontour\",\"colorbar\":{\"outlinewidth\":0,\"ticks\":\"\"},\"colorscale\":[[0.0,\"#0d0887\"],[0.1111111111111111,\"#46039f\"],[0.2222222222222222,\"#7201a8\"],[0.3333333333333333,\"#9c179e\"],[0.4444444444444444,\"#bd3786\"],[0.5555555555555556,\"#d8576b\"],[0.6666666666666666,\"#ed7953\"],[0.7777777777777778,\"#fb9f3a\"],[0.8888888888888888,\"#fdca26\"],[1.0,\"#f0f921\"]]}],\"choropleth\":[{\"type\":\"choropleth\",\"colorbar\":{\"outlinewidth\":0,\"ticks\":\"\"}}],\"histogram2d\":[{\"type\":\"histogram2d\",\"colorbar\":{\"outlinewidth\":0,\"ticks\":\"\"},\"colorscale\":[[0.0,\"#0d0887\"],[0.1111111111111111,\"#46039f\"],[0.2222222222222222,\"#7201a8\"],[0.3333333333333333,\"#9c179e\"],[0.4444444444444444,\"#bd3786\"],[0.5555555555555556,\"#d8576b\"],[0.6666666666666666,\"#ed7953\"],[0.7777777777777778,\"#fb9f3a\"],[0.8888888888888888,\"#fdca26\"],[1.0,\"#f0f921\"]]}],\"heatmap\":[{\"type\":\"heatmap\",\"colorbar\":{\"outlinewidth\":0,\"ticks\":\"\"},\"colorscale\":[[0.0,\"#0d0887\"],[0.1111111111111111,\"#46039f\"],[0.2222222222222222,\"#7201a8\"],[0.3333333333333333,\"#9c179e\"],[0.4444444444444444,\"#bd3786\"],[0.5555555555555556,\"#d8576b\"],[0.6666666666666666,\"#ed7953\"],[0.7777777777777778,\"#fb9f3a\"],[0.8888888888888888,\"#fdca26\"],[1.0,\"#f0f921\"]]}],\"heatmapgl\":[{\"type\":\"heatmapgl\",\"colorbar\":{\"outlinewidth\":0,\"ticks\":\"\"},\"colorscale\":[[0.0,\"#0d0887\"],[0.1111111111111111,\"#46039f\"],[0.2222222222222222,\"#7201a8\"],[0.3333333333333333,\"#9c179e\"],[0.4444444444444444,\"#bd3786\"],[0.5555555555555556,\"#d8576b\"],[0.6666666666666666,\"#ed7953\"],[0.7777777777777778,\"#fb9f3a\"],[0.8888888888888888,\"#fdca26\"],[1.0,\"#f0f921\"]]}],\"contourcarpet\":[{\"type\":\"contourcarpet\",\"colorbar\":{\"outlinewidth\":0,\"ticks\":\"\"}}],\"contour\":[{\"type\":\"contour\",\"colorbar\":{\"outlinewidth\":0,\"ticks\":\"\"},\"colorscale\":[[0.0,\"#0d0887\"],[0.1111111111111111,\"#46039f\"],[0.2222222222222222,\"#7201a8\"],[0.3333333333333333,\"#9c179e\"],[0.4444444444444444,\"#bd3786\"],[0.5555555555555556,\"#d8576b\"],[0.6666666666666666,\"#ed7953\"],[0.7777777777777778,\"#fb9f3a\"],[0.8888888888888888,\"#fdca26\"],[1.0,\"#f0f921\"]]}],\"surface\":[{\"type\":\"surface\",\"colorbar\":{\"outlinewidth\":0,\"ticks\":\"\"},\"colorscale\":[[0.0,\"#0d0887\"],[0.1111111111111111,\"#46039f\"],[0.2222222222222222,\"#7201a8\"],[0.3333333333333333,\"#9c179e\"],[0.4444444444444444,\"#bd3786\"],[0.5555555555555556,\"#d8576b\"],[0.6666666666666666,\"#ed7953\"],[0.7777777777777778,\"#fb9f3a\"],[0.8888888888888888,\"#fdca26\"],[1.0,\"#f0f921\"]]}],\"mesh3d\":[{\"type\":\"mesh3d\",\"colorbar\":{\"outlinewidth\":0,\"ticks\":\"\"}}],\"scatter\":[{\"fillpattern\":{\"fillmode\":\"overlay\",\"size\":10,\"solidity\":0.2},\"type\":\"scatter\"}],\"parcoords\":[{\"type\":\"parcoords\",\"line\":{\"colorbar\":{\"outlinewidth\":0,\"ticks\":\"\"}}}],\"scatterpolargl\":[{\"type\":\"scatterpolargl\",\"marker\":{\"colorbar\":{\"outlinewidth\":0,\"ticks\":\"\"}}}],\"bar\":[{\"error_x\":{\"color\":\"#2a3f5f\"},\"error_y\":{\"color\":\"#2a3f5f\"},\"marker\":{\"line\":{\"color\":\"#E5ECF6\",\"width\":0.5},\"pattern\":{\"fillmode\":\"overlay\",\"size\":10,\"solidity\":0.2}},\"type\":\"bar\"}],\"scattergeo\":[{\"type\":\"scattergeo\",\"marker\":{\"colorbar\":{\"outlinewidth\":0,\"ticks\":\"\"}}}],\"scatterpolar\":[{\"type\":\"scatterpolar\",\"marker\":{\"colorbar\":{\"outlinewidth\":0,\"ticks\":\"\"}}}],\"histogram\":[{\"marker\":{\"pattern\":{\"fillmode\":\"overlay\",\"size\":10,\"solidity\":0.2}},\"type\":\"histogram\"}],\"scattergl\":[{\"type\":\"scattergl\",\"marker\":{\"colorbar\":{\"outlinewidth\":0,\"ticks\":\"\"}}}],\"scatter3d\":[{\"type\":\"scatter3d\",\"line\":{\"colorbar\":{\"outlinewidth\":0,\"ticks\":\"\"}},\"marker\":{\"colorbar\":{\"outlinewidth\":0,\"ticks\":\"\"}}}],\"scattermapbox\":[{\"type\":\"scattermapbox\",\"marker\":{\"colorbar\":{\"outlinewidth\":0,\"ticks\":\"\"}}}],\"scatterternary\":[{\"type\":\"scatterternary\",\"marker\":{\"colorbar\":{\"outlinewidth\":0,\"ticks\":\"\"}}}],\"scattercarpet\":[{\"type\":\"scattercarpet\",\"marker\":{\"colorbar\":{\"outlinewidth\":0,\"ticks\":\"\"}}}],\"carpet\":[{\"aaxis\":{\"endlinecolor\":\"#2a3f5f\",\"gridcolor\":\"white\",\"linecolor\":\"white\",\"minorgridcolor\":\"white\",\"startlinecolor\":\"#2a3f5f\"},\"baxis\":{\"endlinecolor\":\"#2a3f5f\",\"gridcolor\":\"white\",\"linecolor\":\"white\",\"minorgridcolor\":\"white\",\"startlinecolor\":\"#2a3f5f\"},\"type\":\"carpet\"}],\"table\":[{\"cells\":{\"fill\":{\"color\":\"#EBF0F8\"},\"line\":{\"color\":\"white\"}},\"header\":{\"fill\":{\"color\":\"#C8D4E3\"},\"line\":{\"color\":\"white\"}},\"type\":\"table\"}],\"barpolar\":[{\"marker\":{\"line\":{\"color\":\"#E5ECF6\",\"width\":0.5},\"pattern\":{\"fillmode\":\"overlay\",\"size\":10,\"solidity\":0.2}},\"type\":\"barpolar\"}],\"pie\":[{\"automargin\":true,\"type\":\"pie\"}]},\"layout\":{\"autotypenumbers\":\"strict\",\"colorway\":[\"#636efa\",\"#EF553B\",\"#00cc96\",\"#ab63fa\",\"#FFA15A\",\"#19d3f3\",\"#FF6692\",\"#B6E880\",\"#FF97FF\",\"#FECB52\"],\"font\":{\"color\":\"#2a3f5f\"},\"hovermode\":\"closest\",\"hoverlabel\":{\"align\":\"left\"},\"paper_bgcolor\":\"white\",\"plot_bgcolor\":\"#E5ECF6\",\"polar\":{\"bgcolor\":\"#E5ECF6\",\"angularaxis\":{\"gridcolor\":\"white\",\"linecolor\":\"white\",\"ticks\":\"\"},\"radialaxis\":{\"gridcolor\":\"white\",\"linecolor\":\"white\",\"ticks\":\"\"}},\"ternary\":{\"bgcolor\":\"#E5ECF6\",\"aaxis\":{\"gridcolor\":\"white\",\"linecolor\":\"white\",\"ticks\":\"\"},\"baxis\":{\"gridcolor\":\"white\",\"linecolor\":\"white\",\"ticks\":\"\"},\"caxis\":{\"gridcolor\":\"white\",\"linecolor\":\"white\",\"ticks\":\"\"}},\"coloraxis\":{\"colorbar\":{\"outlinewidth\":0,\"ticks\":\"\"}},\"colorscale\":{\"sequential\":[[0.0,\"#0d0887\"],[0.1111111111111111,\"#46039f\"],[0.2222222222222222,\"#7201a8\"],[0.3333333333333333,\"#9c179e\"],[0.4444444444444444,\"#bd3786\"],[0.5555555555555556,\"#d8576b\"],[0.6666666666666666,\"#ed7953\"],[0.7777777777777778,\"#fb9f3a\"],[0.8888888888888888,\"#fdca26\"],[1.0,\"#f0f921\"]],\"sequentialminus\":[[0.0,\"#0d0887\"],[0.1111111111111111,\"#46039f\"],[0.2222222222222222,\"#7201a8\"],[0.3333333333333333,\"#9c179e\"],[0.4444444444444444,\"#bd3786\"],[0.5555555555555556,\"#d8576b\"],[0.6666666666666666,\"#ed7953\"],[0.7777777777777778,\"#fb9f3a\"],[0.8888888888888888,\"#fdca26\"],[1.0,\"#f0f921\"]],\"diverging\":[[0,\"#8e0152\"],[0.1,\"#c51b7d\"],[0.2,\"#de77ae\"],[0.3,\"#f1b6da\"],[0.4,\"#fde0ef\"],[0.5,\"#f7f7f7\"],[0.6,\"#e6f5d0\"],[0.7,\"#b8e186\"],[0.8,\"#7fbc41\"],[0.9,\"#4d9221\"],[1,\"#276419\"]]},\"xaxis\":{\"gridcolor\":\"white\",\"linecolor\":\"white\",\"ticks\":\"\",\"title\":{\"standoff\":15},\"zerolinecolor\":\"white\",\"automargin\":true,\"zerolinewidth\":2},\"yaxis\":{\"gridcolor\":\"white\",\"linecolor\":\"white\",\"ticks\":\"\",\"title\":{\"standoff\":15},\"zerolinecolor\":\"white\",\"automargin\":true,\"zerolinewidth\":2},\"scene\":{\"xaxis\":{\"backgroundcolor\":\"#E5ECF6\",\"gridcolor\":\"white\",\"linecolor\":\"white\",\"showbackground\":true,\"ticks\":\"\",\"zerolinecolor\":\"white\",\"gridwidth\":2},\"yaxis\":{\"backgroundcolor\":\"#E5ECF6\",\"gridcolor\":\"white\",\"linecolor\":\"white\",\"showbackground\":true,\"ticks\":\"\",\"zerolinecolor\":\"white\",\"gridwidth\":2},\"zaxis\":{\"backgroundcolor\":\"#E5ECF6\",\"gridcolor\":\"white\",\"linecolor\":\"white\",\"showbackground\":true,\"ticks\":\"\",\"zerolinecolor\":\"white\",\"gridwidth\":2}},\"shapedefaults\":{\"line\":{\"color\":\"#2a3f5f\"}},\"annotationdefaults\":{\"arrowcolor\":\"#2a3f5f\",\"arrowhead\":0,\"arrowwidth\":1},\"geo\":{\"bgcolor\":\"white\",\"landcolor\":\"#E5ECF6\",\"subunitcolor\":\"white\",\"showland\":true,\"showlakes\":true,\"lakecolor\":\"white\"},\"title\":{\"x\":0.05},\"mapbox\":{\"style\":\"light\"}}},\"xaxis\":{\"anchor\":\"y\",\"domain\":[0.0,1.0],\"title\":{\"text\":\"value\"}},\"yaxis\":{\"anchor\":\"x\",\"domain\":[0.0,1.0],\"title\":{\"text\":\"index\"}},\"legend\":{\"title\":{\"text\":\"variable\"},\"tracegroupgap\":0},\"margin\":{\"t\":60},\"barmode\":\"relative\",\"height\":450,\"width\":550},                        {\"responsive\": true}                    ).then(function(){\n",
              "                            \n",
              "var gd = document.getElementById('84ac0a39-3db7-4978-a499-98bda6d9022d');\n",
              "var x = new MutationObserver(function (mutations, observer) {{\n",
              "        var display = window.getComputedStyle(gd).display;\n",
              "        if (!display || display === 'none') {{\n",
              "            console.log([gd, 'removed!']);\n",
              "            Plotly.purge(gd);\n",
              "            observer.disconnect();\n",
              "        }}\n",
              "}});\n",
              "\n",
              "// Listen for the removal of the full notebook cells\n",
              "var notebookContainer = gd.closest('#notebook-container');\n",
              "if (notebookContainer) {{\n",
              "    x.observe(notebookContainer, {childList: true});\n",
              "}}\n",
              "\n",
              "// Listen for the clearing of the current output cell\n",
              "var outputEl = gd.closest('.output');\n",
              "if (outputEl) {{\n",
              "    x.observe(outputEl, {childList: true});\n",
              "}}\n",
              "\n",
              "                        })                };                            </script>        </div>\n",
              "</body>\n",
              "</html>"
            ]
          },
          "metadata": {}
        }
      ],
      "source": [
        "top_real_publishers = (X_train\n",
        " .assign(label=y_train)\n",
        " .query('label == \"real\"')\n",
        " ['baseurl']\n",
        " .value_counts()\n",
        " .iloc[:10]\n",
        " .sort_values()\n",
        ")\n",
        "px.bar(top_real_publishers, orientation='h', width=550, height=450)"
      ]
    },
    {
      "cell_type": "markdown",
      "id": "c6c4e764",
      "metadata": {
        "id": "c6c4e764"
      },
      "source": [
        "Based on these bar charts, we might expect that an article from `yournewswire.com` is more likely to be labeled `fake`, while an article from `whitehouse.gov` is more likely to be labeled `real`. That said, we wouldn't expect that using the publishing website to predict article truthfulness would work very well -- there are simply too few articles published by most websites in the dataset."
      ]
    },
    {
      "cell_type": "markdown",
      "id": "cfd4adeb",
      "metadata": {
        "id": "cfd4adeb"
      },
      "source": [
        "Next, let's explore the `timestamp` column, which records the publish time of each news article."
      ]
    },
    {
      "cell_type": "markdown",
      "id": "17dfbe11",
      "metadata": {
        "id": "17dfbe11"
      },
      "source": [
        "## Exploring the Publish Times"
      ]
    },
    {
      "cell_type": "markdown",
      "id": "c6789b96",
      "metadata": {
        "id": "c6789b96"
      },
      "source": [
        "Plotting the timestamps on a histogram shows that most articles were published after 2000, although there seem to be at least one article published before 1940:"
      ]
    },
    {
      "cell_type": "code",
      "execution_count": null,
      "id": "0dffd4d2",
      "metadata": {
        "colab": {
          "base_uri": "https://localhost:8080/",
          "height": 367
        },
        "id": "0dffd4d2",
        "outputId": "218ee3e6-1402-4f5b-fb9f-822f628f49f3"
      },
      "outputs": [
        {
          "output_type": "display_data",
          "data": {
            "text/html": [
              "<html>\n",
              "<head><meta charset=\"utf-8\" /></head>\n",
              "<body>\n",
              "    <div>            <script src=\"https://cdnjs.cloudflare.com/ajax/libs/mathjax/2.7.5/MathJax.js?config=TeX-AMS-MML_SVG\"></script><script type=\"text/javascript\">if (window.MathJax && window.MathJax.Hub && window.MathJax.Hub.Config) {window.MathJax.Hub.Config({SVG: {font: \"STIX-Web\"}});}</script>                <script type=\"text/javascript\">window.PlotlyConfig = {MathJaxConfig: 'local'};</script>\n",
              "        <script src=\"https://cdn.plot.ly/plotly-2.18.2.min.js\"></script>                <div id=\"ac6da0cc-ebb5-4436-bc86-681978b3d455\" class=\"plotly-graph-div\" style=\"height:350px; width:750px;\"></div>            <script type=\"text/javascript\">                                    window.PLOTLYENV=window.PLOTLYENV || {};                                    if (document.getElementById(\"ac6da0cc-ebb5-4436-bc86-681978b3d455\")) {                    Plotly.newPlot(                        \"ac6da0cc-ebb5-4436-bc86-681978b3d455\",                        [{\"alignmentgroup\":\"True\",\"bingroup\":\"x\",\"hovertemplate\":\"variable=timestamp<br>value=%{x}<br>count=%{y}<extra></extra>\",\"legendgroup\":\"timestamp\",\"marker\":{\"color\":\"#636efa\",\"pattern\":{\"shape\":\"\"}},\"name\":\"timestamp\",\"offsetgroup\":\"timestamp\",\"orientation\":\"v\",\"showlegend\":true,\"x\":[\"2019-01-04T19:25:46\",\"2016-01-12T21:02:28\",\"2017-05-28T07:00:00\",\"2018-04-18T07:00:00\",null,null,\"2014-02-25T08:00:00\",null,\"2008-02-02T08:00:00\",\"2014-04-06T07:00:00\",null,null,\"2017-10-17T07:00:00\",null,\"2017-12-23T11:38:49\",\"2017-06-29T10:11:23\",null,\"2011-11-17T08:00:00\",\"2017-08-11T05:30:55\",null,null,\"2013-07-24T07:00:00\",\"2017-08-06T07:00:00\",\"2008-06-15T07:00:00\",\"2012-05-05T07:00:00\",null,\"2013-04-18T07:00:00\",\"2017-06-23T07:00:00\",null,null,null,\"2017-05-11T13:20:53\",\"2018-01-18T13:11:21\",\"2017-07-13T07:00:00\",null,\"2017-05-05T07:00:00\",null,null,null,\"2017-04-10T23:33:37\",null,null,null,null,null,\"2018-01-15T00:45:10\",\"2017-12-06T03:56:22\",null,null,null,null,\"2007-01-30T23:00:00\",\"2018-04-27T07:00:00\",null,null,\"2017-08-26T23:55:58\",null,\"2016-08-24T16:31:21\",\"2017-08-12T07:00:00\",\"2017-12-08T16:27:57\",null,null,null,null,\"2018-01-20T19:55:11\",\"2017-07-06T23:08:01\",\"2011-06-10T07:00:00\",\"2014-08-06T07:00:00\",null,null,\"2016-12-23T19:20:30\",null,\"2012-06-17T07:00:00\",\"2016-03-15T07:00:00\",null,\"2007-07-20T16:03:00\",\"2008-05-05T07:00:00\",\"2018-04-30T07:00:00\",null,\"2016-11-15T13:49:28\",\"2017-12-15T08:00:00\",\"2018-05-14T07:00:00\",null,\"2008-03-17T07:00:00\",null,null,null,null,\"2017-05-10T07:00:00\",null,\"2017-03-02T21:08:00\",\"2011-08-15T07:00:00\",\"2022-01-21T20:11:33\",\"2017-06-21T08:29:37\",null,null,null,null,null,null,null,null,null,null,null,null,\"2017-04-28T22:43:30\",null,null,\"2017-10-02T07:00:00\",null,\"2015-12-22T08:00:00\",null,\"2022-01-21T20:11:33\",null,\"2018-05-12T10:31:03\",null,\"2017-05-13T12:16:07\",null,\"2015-07-12T07:00:00\",null,\"2012-08-15T07:00:00\",null,null,\"2018-05-02T21:43:38\",null,\"2017-06-14T10:54:18\",\"2017-03-21T17:03:42\",\"2018-06-26T07:00:00\",null,null,null,null,null,null,\"2018-05-10T10:27:59\",\"2012-11-12T08:00:00\",\"2016-08-15T21:35:17\",\"2012-06-23T07:00:00\",\"2017-04-22T16:49:00\",\"2012-02-17T08:00:00\",\"2015-11-04T19:03:03\",\"2018-04-02T07:00:00\",\"2012-02-08T08:00:00\",\"2016-09-26T07:00:00\",\"2022-01-21T20:11:33\",null,null,\"2017-01-30T08:00:00\",null,null,\"2017-10-30T03:51:53\",\"2014-07-28T06:25:34\",null,\"2016-12-15T17:58:10\",null,\"2017-05-25T23:45:14\",null,\"2011-07-11T07:00:00\",\"2018-01-15T12:47:13\",null,\"2021-04-05T16:39:51\",\"2015-12-19T08:00:00\",\"2009-07-12T07:00:00\",null,null,\"2017-11-06T14:31:59\",null,\"2017-09-10T07:00:00\",\"2017-11-10T15:06:39\",\"2012-06-02T00:00:00\",null,null,\"2012-11-06T08:00:00\",\"2017-10-17T10:00:14\",null,\"2011-08-26T07:00:00\",null,\"2012-08-23T07:00:00\",\"2012-10-22T07:00:00\",null,\"2015-07-24T07:00:00\",null,\"2008-06-03T07:00:00\",null,\"2022-01-21T20:11:33\",null,\"2017-02-05T00:19:34\",null,null,null,\"2017-02-14T08:00:00\",\"2018-01-04T08:00:00\",null,\"2018-01-17T08:00:00\",\"2022-01-21T20:11:33\",null,null,null,\"2017-11-06T16:38:11\",null,\"2010-12-13T08:00:00\",\"2009-02-03T08:00:00\",null,\"2017-09-05T07:00:00\",\"2017-05-20T13:17:59\",null,null,\"2013-03-31T07:00:00\",\"2022-01-21T20:11:33\",\"2017-07-15T07:00:00\",null,null,\"2017-12-08T22:25:03\",null,null,null,\"2012-10-03T07:00:00\",null,null,null,\"2013-03-08T08:00:00\",\"2018-04-28T23:36:00\",null,null,\"2015-10-22T17:38:15\",null,null,\"2017-05-09T07:00:00\",null,\"1996-07-13T05:00:00\",\"2013-05-07T07:00:00\",null,null,\"2016-01-01T16:30:16\",null,null,\"2016-11-25T08:00:00\",null,\"2017-03-01T13:48:02\",null,null,\"2022-01-21T20:11:33\",\"2017-11-02T17:25:12\",\"2017-01-31T14:33:42\",\"2017-03-10T15:40:16\",null,null,null,null,null,\"2017-11-15T00:52:37\",\"2017-02-04T20:49:12\",\"2012-08-09T07:00:00\",\"2018-05-16T15:34:00\",null,null,null,null,\"2018-03-04T22:45:53\",\"2008-09-19T07:00:00\",null,null,null,null,\"2017-06-01T01:33:02\",\"2016-11-22T19:46:39\",\"2017-11-10T14:21:36\",\"2018-03-13T07:00:00\",\"2017-02-09T00:43:39\",\"1935-07-24T05:00:00\",null,null,\"2018-06-25T07:00:00\",null,null,\"2007-08-01T07:00:00\",\"2017-11-09T08:00:00\",\"2018-02-12T09:00:00\",\"2016-07-31T16:41:09\",\"2009-10-21T07:00:00\",null,null,null,\"2011-08-15T07:00:00\",\"2011-02-06T08:00:00\",\"2018-07-02T07:00:00\",\"2015-01-07T08:00:00\",\"2018-06-09T21:52:02\",null,\"2017-04-25T07:00:00\",null,\"2016-02-23T08:00:00\",null,\"2006-11-07T08:00:00\",\"2016-06-13T07:00:00\",\"2009-09-07T07:00:00\",\"2017-11-13T14:53:49\",null,null,\"2017-08-14T02:18:16\",null,\"2015-07-10T07:00:00\",\"2016-02-11T08:00:00\",null,null,\"2017-10-02T14:13:42\",\"2022-01-21T20:11:33\",null,\"2017-11-06T07:00:44\",\"2020-03-25T05:17:00\",null,null,null,\"2022-01-21T20:11:33\",\"2016-09-05T07:00:00\",\"2022-01-21T20:11:33\",\"2017-06-21T20:42:21\",\"2008-03-03T08:00:00\",null,\"1994-06-10T05:00:00\",null,\"2013-04-17T07:00:00\",null,\"2017-12-30T08:00:00\",null,\"2011-02-11T08:00:00\",null,\"2012-04-03T07:00:00\",\"2013-10-27T07:00:00\",\"2013-08-06T07:00:00\",null,null,\"2017-07-01T11:58:59\",null,null,null,null,\"2022-01-21T20:11:33\",null,\"2017-02-16T20:48:25\",null,\"2016-05-10T23:21:17.233000\",\"2022-01-21T20:11:33\",\"2017-07-06T07:00:00\",\"2022-01-21T20:11:33\",null,null,null,\"2008-08-15T07:00:00\",null,\"2018-07-05T10:48:31\",null,\"2016-04-24T21:04:28\",null,\"2017-05-12T12:50:32\",\"2018-07-17T07:00:00\",null,null,\"2013-04-25T20:33:20\",\"2015-02-12T12:30:05\",null,null,null,\"2011-11-29T08:00:00\",\"2010-10-14T17:04:00\",null,null,\"2016-11-25T08:00:00\",null,null,\"2011-03-11T08:00:00\",null,\"2017-11-26T18:25:52\",\"1997-10-19T05:00:00\",\"2017-10-08T23:43:28\",\"2022-07-13T14:49:56\",null,null,\"2018-06-27T16:09:14\",\"2015-07-13T07:00:00\",\"2016-09-20T07:00:00\",\"2017-05-08T07:00:00\",\"2017-07-08T07:00:00\",null,null,\"2022-05-13T19:50:48\",\"2017-04-01T10:22:51\",\"2011-11-30T08:00:00\",null,null,null,\"2017-11-27T15:18:23\",null,null,null,null,null,\"2012-09-18T03:00:58\",\"2013-03-07T08:00:00\",null,\"2007-08-01T07:00:00\",null,null,\"2008-01-30T08:00:00\",\"2017-02-11T08:00:00\",null,\"2016-05-09T07:00:00\",null,\"2018-01-31T03:12:22\",\"2016-12-12T19:20:51\",\"2008-03-17T07:00:00\",null,null,\"2001-09-11T05:00:00\",\"2018-07-10T07:00:00\",null,\"2012-10-12T07:00:00\",\"2016-03-10T18:11:20.173000\",\"2017-07-17T13:06:07.680999\",null,null,null,\"2018-02-15T19:38:00\",null,null,\"2016-02-07T00:23:19.497999\",\"2017-06-28T02:30:25\",\"2016-03-14T07:00:00\",null,null,\"2009-12-18T08:00:00\",null,null,\"2013-10-02T07:00:00\",\"2011-05-24T07:00:00\",null,\"2018-05-21T07:00:00\",\"2017-09-07T15:58:27\",\"2018-06-09T13:46:04\",\"2013-05-02T07:00:00\",\"2017-03-16T21:05:45\",null,\"2017-04-12T23:27:02\",\"2013-07-24T07:00:00\",null,\"2008-01-30T08:00:00\",\"2016-11-07T08:00:00\",\"2018-03-20T17:56:46\",\"2018-04-09T07:00:00\",null,null,null,null,\"2017-08-08T07:00:00\",\"2009-03-05T08:00:00\",\"2017-01-05T08:00:00\",null,null,\"2015-11-25T08:00:00\",null,\"2016-01-05T08:00:00\",null,null,\"2017-12-30T08:00:00\",null,null,\"2014-07-30T13:14:31\",null,null,\"2017-12-11T05:56:25\",null,\"2017-03-01T23:25:53\",null,\"2017-09-13T07:00:00\",null,null,\"2017-09-14T20:00:00\",null,null,\"2009-02-17T08:00:00\",null,\"2016-12-06T00:12:45\",null,null,\"2016-05-23T11:29:00\",\"2017-09-30T23:15:05\",null,\"2008-06-03T07:00:00\",null,\"2018-05-04T14:02:09\",\"2018-03-16T07:00:00\",\"2017-01-02T08:00:00\",null,\"2016-10-10T04:00:36.789999\",\"2017-08-20T07:00:00\",null,\"2018-03-24T18:45:45\",null,\"2016-12-20T08:00:00\",\"2018-04-09T07:00:00\",\"2012-07-17T07:00:00\",\"2010-02-23T08:00:00\",null,\"2016-06-21T13:41:37\",null,\"2017-12-14T08:00:00\",null,\"2009-02-09T08:00:00\",null,null,\"2018-01-14T01:29:40\",null,\"2016-01-02T08:00:00\",\"2016-01-01T23:17:43\",null,\"2008-02-08T08:00:00\",\"2018-07-12T16:28:19\",null,null,null,\"2016-07-09T07:00:00\",\"2009-09-10T07:00:00\",null,\"2018-05-13T07:00:00\",\"2016-11-14T08:00:00\",\"2008-06-18T07:00:00\",\"2016-12-23T17:04:56\",null,\"2017-06-24T07:00:00\",\"2017-10-12T23:15:41\",null,null,null,\"2016-04-29T12:25:53\",null,\"2008-08-23T07:00:00\",\"2014-12-21T08:00:00\",\"2016-05-06T20:32:20\",\"2016-10-10T04:00:36.789999\",null,\"2012-07-12T07:00:00\",null,null,null,null,null,null,null,\"2022-01-21T20:11:33\",\"2016-03-10T08:00:00\",null,\"2011-12-09T08:00:00\",\"2017-05-20T07:00:00\",\"2017-09-01T03:14:21\",\"2018-04-15T07:00:00\",null,\"2018-06-23T17:18:57\",null,\"2017-06-01T07:00:00\",null,\"2015-04-13T07:00:00\",\"2012-04-17T07:00:00\",null,\"2022-01-21T20:11:33\",null,\"2017-03-14T18:19:08\",null,\"2017-09-26T07:00:00\",null,\"2020-07-01T05:10:00\",\"2011-03-15T07:00:00\",\"2018-05-13T13:33:50\",\"2017-10-10T07:00:00\",\"2010-06-07T13:30:42\",\"2014-02-28T05:49:15\",\"2014-01-24T08:00:00\",null,\"2011-07-06T07:00:00\",\"2016-01-10T20:56:04\",\"2017-07-28T22:24:04\",null,null,\"2017-11-23T08:00:00\"],\"xaxis\":\"x\",\"yaxis\":\"y\",\"type\":\"histogram\"}],                        {\"template\":{\"data\":{\"histogram2dcontour\":[{\"type\":\"histogram2dcontour\",\"colorbar\":{\"outlinewidth\":0,\"ticks\":\"\"},\"colorscale\":[[0.0,\"#0d0887\"],[0.1111111111111111,\"#46039f\"],[0.2222222222222222,\"#7201a8\"],[0.3333333333333333,\"#9c179e\"],[0.4444444444444444,\"#bd3786\"],[0.5555555555555556,\"#d8576b\"],[0.6666666666666666,\"#ed7953\"],[0.7777777777777778,\"#fb9f3a\"],[0.8888888888888888,\"#fdca26\"],[1.0,\"#f0f921\"]]}],\"choropleth\":[{\"type\":\"choropleth\",\"colorbar\":{\"outlinewidth\":0,\"ticks\":\"\"}}],\"histogram2d\":[{\"type\":\"histogram2d\",\"colorbar\":{\"outlinewidth\":0,\"ticks\":\"\"},\"colorscale\":[[0.0,\"#0d0887\"],[0.1111111111111111,\"#46039f\"],[0.2222222222222222,\"#7201a8\"],[0.3333333333333333,\"#9c179e\"],[0.4444444444444444,\"#bd3786\"],[0.5555555555555556,\"#d8576b\"],[0.6666666666666666,\"#ed7953\"],[0.7777777777777778,\"#fb9f3a\"],[0.8888888888888888,\"#fdca26\"],[1.0,\"#f0f921\"]]}],\"heatmap\":[{\"type\":\"heatmap\",\"colorbar\":{\"outlinewidth\":0,\"ticks\":\"\"},\"colorscale\":[[0.0,\"#0d0887\"],[0.1111111111111111,\"#46039f\"],[0.2222222222222222,\"#7201a8\"],[0.3333333333333333,\"#9c179e\"],[0.4444444444444444,\"#bd3786\"],[0.5555555555555556,\"#d8576b\"],[0.6666666666666666,\"#ed7953\"],[0.7777777777777778,\"#fb9f3a\"],[0.8888888888888888,\"#fdca26\"],[1.0,\"#f0f921\"]]}],\"heatmapgl\":[{\"type\":\"heatmapgl\",\"colorbar\":{\"outlinewidth\":0,\"ticks\":\"\"},\"colorscale\":[[0.0,\"#0d0887\"],[0.1111111111111111,\"#46039f\"],[0.2222222222222222,\"#7201a8\"],[0.3333333333333333,\"#9c179e\"],[0.4444444444444444,\"#bd3786\"],[0.5555555555555556,\"#d8576b\"],[0.6666666666666666,\"#ed7953\"],[0.7777777777777778,\"#fb9f3a\"],[0.8888888888888888,\"#fdca26\"],[1.0,\"#f0f921\"]]}],\"contourcarpet\":[{\"type\":\"contourcarpet\",\"colorbar\":{\"outlinewidth\":0,\"ticks\":\"\"}}],\"contour\":[{\"type\":\"contour\",\"colorbar\":{\"outlinewidth\":0,\"ticks\":\"\"},\"colorscale\":[[0.0,\"#0d0887\"],[0.1111111111111111,\"#46039f\"],[0.2222222222222222,\"#7201a8\"],[0.3333333333333333,\"#9c179e\"],[0.4444444444444444,\"#bd3786\"],[0.5555555555555556,\"#d8576b\"],[0.6666666666666666,\"#ed7953\"],[0.7777777777777778,\"#fb9f3a\"],[0.8888888888888888,\"#fdca26\"],[1.0,\"#f0f921\"]]}],\"surface\":[{\"type\":\"surface\",\"colorbar\":{\"outlinewidth\":0,\"ticks\":\"\"},\"colorscale\":[[0.0,\"#0d0887\"],[0.1111111111111111,\"#46039f\"],[0.2222222222222222,\"#7201a8\"],[0.3333333333333333,\"#9c179e\"],[0.4444444444444444,\"#bd3786\"],[0.5555555555555556,\"#d8576b\"],[0.6666666666666666,\"#ed7953\"],[0.7777777777777778,\"#fb9f3a\"],[0.8888888888888888,\"#fdca26\"],[1.0,\"#f0f921\"]]}],\"mesh3d\":[{\"type\":\"mesh3d\",\"colorbar\":{\"outlinewidth\":0,\"ticks\":\"\"}}],\"scatter\":[{\"fillpattern\":{\"fillmode\":\"overlay\",\"size\":10,\"solidity\":0.2},\"type\":\"scatter\"}],\"parcoords\":[{\"type\":\"parcoords\",\"line\":{\"colorbar\":{\"outlinewidth\":0,\"ticks\":\"\"}}}],\"scatterpolargl\":[{\"type\":\"scatterpolargl\",\"marker\":{\"colorbar\":{\"outlinewidth\":0,\"ticks\":\"\"}}}],\"bar\":[{\"error_x\":{\"color\":\"#2a3f5f\"},\"error_y\":{\"color\":\"#2a3f5f\"},\"marker\":{\"line\":{\"color\":\"#E5ECF6\",\"width\":0.5},\"pattern\":{\"fillmode\":\"overlay\",\"size\":10,\"solidity\":0.2}},\"type\":\"bar\"}],\"scattergeo\":[{\"type\":\"scattergeo\",\"marker\":{\"colorbar\":{\"outlinewidth\":0,\"ticks\":\"\"}}}],\"scatterpolar\":[{\"type\":\"scatterpolar\",\"marker\":{\"colorbar\":{\"outlinewidth\":0,\"ticks\":\"\"}}}],\"histogram\":[{\"marker\":{\"pattern\":{\"fillmode\":\"overlay\",\"size\":10,\"solidity\":0.2}},\"type\":\"histogram\"}],\"scattergl\":[{\"type\":\"scattergl\",\"marker\":{\"colorbar\":{\"outlinewidth\":0,\"ticks\":\"\"}}}],\"scatter3d\":[{\"type\":\"scatter3d\",\"line\":{\"colorbar\":{\"outlinewidth\":0,\"ticks\":\"\"}},\"marker\":{\"colorbar\":{\"outlinewidth\":0,\"ticks\":\"\"}}}],\"scattermapbox\":[{\"type\":\"scattermapbox\",\"marker\":{\"colorbar\":{\"outlinewidth\":0,\"ticks\":\"\"}}}],\"scatterternary\":[{\"type\":\"scatterternary\",\"marker\":{\"colorbar\":{\"outlinewidth\":0,\"ticks\":\"\"}}}],\"scattercarpet\":[{\"type\":\"scattercarpet\",\"marker\":{\"colorbar\":{\"outlinewidth\":0,\"ticks\":\"\"}}}],\"carpet\":[{\"aaxis\":{\"endlinecolor\":\"#2a3f5f\",\"gridcolor\":\"white\",\"linecolor\":\"white\",\"minorgridcolor\":\"white\",\"startlinecolor\":\"#2a3f5f\"},\"baxis\":{\"endlinecolor\":\"#2a3f5f\",\"gridcolor\":\"white\",\"linecolor\":\"white\",\"minorgridcolor\":\"white\",\"startlinecolor\":\"#2a3f5f\"},\"type\":\"carpet\"}],\"table\":[{\"cells\":{\"fill\":{\"color\":\"#EBF0F8\"},\"line\":{\"color\":\"white\"}},\"header\":{\"fill\":{\"color\":\"#C8D4E3\"},\"line\":{\"color\":\"white\"}},\"type\":\"table\"}],\"barpolar\":[{\"marker\":{\"line\":{\"color\":\"#E5ECF6\",\"width\":0.5},\"pattern\":{\"fillmode\":\"overlay\",\"size\":10,\"solidity\":0.2}},\"type\":\"barpolar\"}],\"pie\":[{\"automargin\":true,\"type\":\"pie\"}]},\"layout\":{\"autotypenumbers\":\"strict\",\"colorway\":[\"#636efa\",\"#EF553B\",\"#00cc96\",\"#ab63fa\",\"#FFA15A\",\"#19d3f3\",\"#FF6692\",\"#B6E880\",\"#FF97FF\",\"#FECB52\"],\"font\":{\"color\":\"#2a3f5f\"},\"hovermode\":\"closest\",\"hoverlabel\":{\"align\":\"left\"},\"paper_bgcolor\":\"white\",\"plot_bgcolor\":\"#E5ECF6\",\"polar\":{\"bgcolor\":\"#E5ECF6\",\"angularaxis\":{\"gridcolor\":\"white\",\"linecolor\":\"white\",\"ticks\":\"\"},\"radialaxis\":{\"gridcolor\":\"white\",\"linecolor\":\"white\",\"ticks\":\"\"}},\"ternary\":{\"bgcolor\":\"#E5ECF6\",\"aaxis\":{\"gridcolor\":\"white\",\"linecolor\":\"white\",\"ticks\":\"\"},\"baxis\":{\"gridcolor\":\"white\",\"linecolor\":\"white\",\"ticks\":\"\"},\"caxis\":{\"gridcolor\":\"white\",\"linecolor\":\"white\",\"ticks\":\"\"}},\"coloraxis\":{\"colorbar\":{\"outlinewidth\":0,\"ticks\":\"\"}},\"colorscale\":{\"sequential\":[[0.0,\"#0d0887\"],[0.1111111111111111,\"#46039f\"],[0.2222222222222222,\"#7201a8\"],[0.3333333333333333,\"#9c179e\"],[0.4444444444444444,\"#bd3786\"],[0.5555555555555556,\"#d8576b\"],[0.6666666666666666,\"#ed7953\"],[0.7777777777777778,\"#fb9f3a\"],[0.8888888888888888,\"#fdca26\"],[1.0,\"#f0f921\"]],\"sequentialminus\":[[0.0,\"#0d0887\"],[0.1111111111111111,\"#46039f\"],[0.2222222222222222,\"#7201a8\"],[0.3333333333333333,\"#9c179e\"],[0.4444444444444444,\"#bd3786\"],[0.5555555555555556,\"#d8576b\"],[0.6666666666666666,\"#ed7953\"],[0.7777777777777778,\"#fb9f3a\"],[0.8888888888888888,\"#fdca26\"],[1.0,\"#f0f921\"]],\"diverging\":[[0,\"#8e0152\"],[0.1,\"#c51b7d\"],[0.2,\"#de77ae\"],[0.3,\"#f1b6da\"],[0.4,\"#fde0ef\"],[0.5,\"#f7f7f7\"],[0.6,\"#e6f5d0\"],[0.7,\"#b8e186\"],[0.8,\"#7fbc41\"],[0.9,\"#4d9221\"],[1,\"#276419\"]]},\"xaxis\":{\"gridcolor\":\"white\",\"linecolor\":\"white\",\"ticks\":\"\",\"title\":{\"standoff\":15},\"zerolinecolor\":\"white\",\"automargin\":true,\"zerolinewidth\":2},\"yaxis\":{\"gridcolor\":\"white\",\"linecolor\":\"white\",\"ticks\":\"\",\"title\":{\"standoff\":15},\"zerolinecolor\":\"white\",\"automargin\":true,\"zerolinewidth\":2},\"scene\":{\"xaxis\":{\"backgroundcolor\":\"#E5ECF6\",\"gridcolor\":\"white\",\"linecolor\":\"white\",\"showbackground\":true,\"ticks\":\"\",\"zerolinecolor\":\"white\",\"gridwidth\":2},\"yaxis\":{\"backgroundcolor\":\"#E5ECF6\",\"gridcolor\":\"white\",\"linecolor\":\"white\",\"showbackground\":true,\"ticks\":\"\",\"zerolinecolor\":\"white\",\"gridwidth\":2},\"zaxis\":{\"backgroundcolor\":\"#E5ECF6\",\"gridcolor\":\"white\",\"linecolor\":\"white\",\"showbackground\":true,\"ticks\":\"\",\"zerolinecolor\":\"white\",\"gridwidth\":2}},\"shapedefaults\":{\"line\":{\"color\":\"#2a3f5f\"}},\"annotationdefaults\":{\"arrowcolor\":\"#2a3f5f\",\"arrowhead\":0,\"arrowwidth\":1},\"geo\":{\"bgcolor\":\"white\",\"landcolor\":\"#E5ECF6\",\"subunitcolor\":\"white\",\"showland\":true,\"showlakes\":true,\"lakecolor\":\"white\"},\"title\":{\"x\":0.05},\"mapbox\":{\"style\":\"light\"}}},\"xaxis\":{\"anchor\":\"y\",\"domain\":[0.0,1.0],\"title\":{\"text\":\"value\"}},\"yaxis\":{\"anchor\":\"x\",\"domain\":[0.0,1.0],\"title\":{\"text\":\"count\"}},\"legend\":{\"title\":{\"text\":\"variable\"},\"tracegroupgap\":0},\"margin\":{\"t\":60},\"barmode\":\"relative\",\"height\":350,\"width\":750},                        {\"responsive\": true}                    ).then(function(){\n",
              "                            \n",
              "var gd = document.getElementById('ac6da0cc-ebb5-4436-bc86-681978b3d455');\n",
              "var x = new MutationObserver(function (mutations, observer) {{\n",
              "        var display = window.getComputedStyle(gd).display;\n",
              "        if (!display || display === 'none') {{\n",
              "            console.log([gd, 'removed!']);\n",
              "            Plotly.purge(gd);\n",
              "            observer.disconnect();\n",
              "        }}\n",
              "}});\n",
              "\n",
              "// Listen for the removal of the full notebook cells\n",
              "var notebookContainer = gd.closest('#notebook-container');\n",
              "if (notebookContainer) {{\n",
              "    x.observe(notebookContainer, {childList: true});\n",
              "}}\n",
              "\n",
              "// Listen for the clearing of the current output cell\n",
              "var outputEl = gd.closest('.output');\n",
              "if (outputEl) {{\n",
              "    x.observe(outputEl, {childList: true});\n",
              "}}\n",
              "\n",
              "                        })                };                            </script>        </div>\n",
              "</body>\n",
              "</html>"
            ]
          },
          "metadata": {}
        }
      ],
      "source": [
        "px.histogram(X_train['timestamp'], width=750, height=350)"
      ]
    },
    {
      "cell_type": "markdown",
      "id": "14ffb4df",
      "metadata": {
        "id": "14ffb4df"
      },
      "source": [
        "Taking a closer look at the new articles published before 2000 in the dataset would show that the timestamps don't match the actual publish date of the article. These data issues are most likely related to the web scraper getting inaccurate information from the web pages, so we can zoom into the region of the histogram after 2000."
      ]
    },
    {
      "cell_type": "code",
      "execution_count": null,
      "id": "0d29bcea",
      "metadata": {
        "colab": {
          "base_uri": "https://localhost:8080/",
          "height": 367
        },
        "id": "0d29bcea",
        "outputId": "3a309016-7d36-42ed-9232-712045783a5d"
      },
      "outputs": [
        {
          "output_type": "display_data",
          "data": {
            "text/html": [
              "<html>\n",
              "<head><meta charset=\"utf-8\" /></head>\n",
              "<body>\n",
              "    <div>            <script src=\"https://cdnjs.cloudflare.com/ajax/libs/mathjax/2.7.5/MathJax.js?config=TeX-AMS-MML_SVG\"></script><script type=\"text/javascript\">if (window.MathJax && window.MathJax.Hub && window.MathJax.Hub.Config) {window.MathJax.Hub.Config({SVG: {font: \"STIX-Web\"}});}</script>                <script type=\"text/javascript\">window.PlotlyConfig = {MathJaxConfig: 'local'};</script>\n",
              "        <script src=\"https://cdn.plot.ly/plotly-2.18.2.min.js\"></script>                <div id=\"d9e4f412-ddff-49be-8047-75c71a38a055\" class=\"plotly-graph-div\" style=\"height:350px; width:750px;\"></div>            <script type=\"text/javascript\">                                    window.PLOTLYENV=window.PLOTLYENV || {};                                    if (document.getElementById(\"d9e4f412-ddff-49be-8047-75c71a38a055\")) {                    Plotly.newPlot(                        \"d9e4f412-ddff-49be-8047-75c71a38a055\",                        [{\"alignmentgroup\":\"True\",\"bingroup\":\"x\",\"hovertemplate\":\"variable=timestamp<br>value=%{x}<br>count=%{y}<extra></extra>\",\"legendgroup\":\"timestamp\",\"marker\":{\"color\":\"#636efa\",\"pattern\":{\"shape\":\"\"}},\"name\":\"timestamp\",\"offsetgroup\":\"timestamp\",\"orientation\":\"v\",\"showlegend\":true,\"x\":[\"2019-01-04T19:25:46\",\"2016-01-12T21:02:28\",\"2017-05-28T07:00:00\",\"2018-04-18T07:00:00\",\"2014-02-25T08:00:00\",\"2008-02-02T08:00:00\",\"2014-04-06T07:00:00\",\"2017-10-17T07:00:00\",\"2017-12-23T11:38:49\",\"2017-06-29T10:11:23\",\"2011-11-17T08:00:00\",\"2017-08-11T05:30:55\",\"2013-07-24T07:00:00\",\"2017-08-06T07:00:00\",\"2008-06-15T07:00:00\",\"2012-05-05T07:00:00\",\"2013-04-18T07:00:00\",\"2017-06-23T07:00:00\",\"2017-05-11T13:20:53\",\"2018-01-18T13:11:21\",\"2017-07-13T07:00:00\",\"2017-05-05T07:00:00\",\"2017-04-10T23:33:37\",\"2018-01-15T00:45:10\",\"2017-12-06T03:56:22\",\"2007-01-30T23:00:00\",\"2018-04-27T07:00:00\",\"2017-08-26T23:55:58\",\"2016-08-24T16:31:21\",\"2017-08-12T07:00:00\",\"2017-12-08T16:27:57\",\"2018-01-20T19:55:11\",\"2017-07-06T23:08:01\",\"2011-06-10T07:00:00\",\"2014-08-06T07:00:00\",\"2016-12-23T19:20:30\",\"2012-06-17T07:00:00\",\"2016-03-15T07:00:00\",\"2007-07-20T16:03:00\",\"2008-05-05T07:00:00\",\"2018-04-30T07:00:00\",\"2016-11-15T13:49:28\",\"2017-12-15T08:00:00\",\"2018-05-14T07:00:00\",\"2008-03-17T07:00:00\",\"2017-05-10T07:00:00\",\"2017-03-02T21:08:00\",\"2011-08-15T07:00:00\",\"2022-01-21T20:11:33\",\"2017-06-21T08:29:37\",\"2017-04-28T22:43:30\",\"2017-10-02T07:00:00\",\"2015-12-22T08:00:00\",\"2022-01-21T20:11:33\",\"2018-05-12T10:31:03\",\"2017-05-13T12:16:07\",\"2015-07-12T07:00:00\",\"2012-08-15T07:00:00\",\"2018-05-02T21:43:38\",\"2017-06-14T10:54:18\",\"2017-03-21T17:03:42\",\"2018-06-26T07:00:00\",\"2018-05-10T10:27:59\",\"2012-11-12T08:00:00\",\"2016-08-15T21:35:17\",\"2012-06-23T07:00:00\",\"2017-04-22T16:49:00\",\"2012-02-17T08:00:00\",\"2015-11-04T19:03:03\",\"2018-04-02T07:00:00\",\"2012-02-08T08:00:00\",\"2016-09-26T07:00:00\",\"2022-01-21T20:11:33\",\"2017-01-30T08:00:00\",\"2017-10-30T03:51:53\",\"2014-07-28T06:25:34\",\"2016-12-15T17:58:10\",\"2017-05-25T23:45:14\",\"2011-07-11T07:00:00\",\"2018-01-15T12:47:13\",\"2021-04-05T16:39:51\",\"2015-12-19T08:00:00\",\"2009-07-12T07:00:00\",\"2017-11-06T14:31:59\",\"2017-09-10T07:00:00\",\"2017-11-10T15:06:39\",\"2012-06-02T00:00:00\",\"2012-11-06T08:00:00\",\"2017-10-17T10:00:14\",\"2011-08-26T07:00:00\",\"2012-08-23T07:00:00\",\"2012-10-22T07:00:00\",\"2015-07-24T07:00:00\",\"2008-06-03T07:00:00\",\"2022-01-21T20:11:33\",\"2017-02-05T00:19:34\",\"2017-02-14T08:00:00\",\"2018-01-04T08:00:00\",\"2018-01-17T08:00:00\",\"2022-01-21T20:11:33\",\"2017-11-06T16:38:11\",\"2010-12-13T08:00:00\",\"2009-02-03T08:00:00\",\"2017-09-05T07:00:00\",\"2017-05-20T13:17:59\",\"2013-03-31T07:00:00\",\"2022-01-21T20:11:33\",\"2017-07-15T07:00:00\",\"2017-12-08T22:25:03\",\"2012-10-03T07:00:00\",\"2013-03-08T08:00:00\",\"2018-04-28T23:36:00\",\"2015-10-22T17:38:15\",\"2017-05-09T07:00:00\",\"2013-05-07T07:00:00\",\"2016-01-01T16:30:16\",\"2016-11-25T08:00:00\",\"2017-03-01T13:48:02\",\"2022-01-21T20:11:33\",\"2017-11-02T17:25:12\",\"2017-01-31T14:33:42\",\"2017-03-10T15:40:16\",\"2017-11-15T00:52:37\",\"2017-02-04T20:49:12\",\"2012-08-09T07:00:00\",\"2018-05-16T15:34:00\",\"2018-03-04T22:45:53\",\"2008-09-19T07:00:00\",\"2017-06-01T01:33:02\",\"2016-11-22T19:46:39\",\"2017-11-10T14:21:36\",\"2018-03-13T07:00:00\",\"2017-02-09T00:43:39\",\"2018-06-25T07:00:00\",\"2007-08-01T07:00:00\",\"2017-11-09T08:00:00\",\"2018-02-12T09:00:00\",\"2016-07-31T16:41:09\",\"2009-10-21T07:00:00\",\"2011-08-15T07:00:00\",\"2011-02-06T08:00:00\",\"2018-07-02T07:00:00\",\"2015-01-07T08:00:00\",\"2018-06-09T21:52:02\",\"2017-04-25T07:00:00\",\"2016-02-23T08:00:00\",\"2006-11-07T08:00:00\",\"2016-06-13T07:00:00\",\"2009-09-07T07:00:00\",\"2017-11-13T14:53:49\",\"2017-08-14T02:18:16\",\"2015-07-10T07:00:00\",\"2016-02-11T08:00:00\",\"2017-10-02T14:13:42\",\"2022-01-21T20:11:33\",\"2017-11-06T07:00:44\",\"2020-03-25T05:17:00\",\"2022-01-21T20:11:33\",\"2016-09-05T07:00:00\",\"2022-01-21T20:11:33\",\"2017-06-21T20:42:21\",\"2008-03-03T08:00:00\",\"2013-04-17T07:00:00\",\"2017-12-30T08:00:00\",\"2011-02-11T08:00:00\",\"2012-04-03T07:00:00\",\"2013-10-27T07:00:00\",\"2013-08-06T07:00:00\",\"2017-07-01T11:58:59\",\"2022-01-21T20:11:33\",\"2017-02-16T20:48:25\",\"2016-05-10T23:21:17.233000\",\"2022-01-21T20:11:33\",\"2017-07-06T07:00:00\",\"2022-01-21T20:11:33\",\"2008-08-15T07:00:00\",\"2018-07-05T10:48:31\",\"2016-04-24T21:04:28\",\"2017-05-12T12:50:32\",\"2018-07-17T07:00:00\",\"2013-04-25T20:33:20\",\"2015-02-12T12:30:05\",\"2011-11-29T08:00:00\",\"2010-10-14T17:04:00\",\"2016-11-25T08:00:00\",\"2011-03-11T08:00:00\",\"2017-11-26T18:25:52\",\"2017-10-08T23:43:28\",\"2022-07-13T14:49:56\",\"2018-06-27T16:09:14\",\"2015-07-13T07:00:00\",\"2016-09-20T07:00:00\",\"2017-05-08T07:00:00\",\"2017-07-08T07:00:00\",\"2022-05-13T19:50:48\",\"2017-04-01T10:22:51\",\"2011-11-30T08:00:00\",\"2017-11-27T15:18:23\",\"2012-09-18T03:00:58\",\"2013-03-07T08:00:00\",\"2007-08-01T07:00:00\",\"2008-01-30T08:00:00\",\"2017-02-11T08:00:00\",\"2016-05-09T07:00:00\",\"2018-01-31T03:12:22\",\"2016-12-12T19:20:51\",\"2008-03-17T07:00:00\",\"2001-09-11T05:00:00\",\"2018-07-10T07:00:00\",\"2012-10-12T07:00:00\",\"2016-03-10T18:11:20.173000\",\"2017-07-17T13:06:07.680999\",\"2018-02-15T19:38:00\",\"2016-02-07T00:23:19.497999\",\"2017-06-28T02:30:25\",\"2016-03-14T07:00:00\",\"2009-12-18T08:00:00\",\"2013-10-02T07:00:00\",\"2011-05-24T07:00:00\",\"2018-05-21T07:00:00\",\"2017-09-07T15:58:27\",\"2018-06-09T13:46:04\",\"2013-05-02T07:00:00\",\"2017-03-16T21:05:45\",\"2017-04-12T23:27:02\",\"2013-07-24T07:00:00\",\"2008-01-30T08:00:00\",\"2016-11-07T08:00:00\",\"2018-03-20T17:56:46\",\"2018-04-09T07:00:00\",\"2017-08-08T07:00:00\",\"2009-03-05T08:00:00\",\"2017-01-05T08:00:00\",\"2015-11-25T08:00:00\",\"2016-01-05T08:00:00\",\"2017-12-30T08:00:00\",\"2014-07-30T13:14:31\",\"2017-12-11T05:56:25\",\"2017-03-01T23:25:53\",\"2017-09-13T07:00:00\",\"2017-09-14T20:00:00\",\"2009-02-17T08:00:00\",\"2016-12-06T00:12:45\",\"2016-05-23T11:29:00\",\"2017-09-30T23:15:05\",\"2008-06-03T07:00:00\",\"2018-05-04T14:02:09\",\"2018-03-16T07:00:00\",\"2017-01-02T08:00:00\",\"2016-10-10T04:00:36.789999\",\"2017-08-20T07:00:00\",\"2018-03-24T18:45:45\",\"2016-12-20T08:00:00\",\"2018-04-09T07:00:00\",\"2012-07-17T07:00:00\",\"2010-02-23T08:00:00\",\"2016-06-21T13:41:37\",\"2017-12-14T08:00:00\",\"2009-02-09T08:00:00\",\"2018-01-14T01:29:40\",\"2016-01-02T08:00:00\",\"2016-01-01T23:17:43\",\"2008-02-08T08:00:00\",\"2018-07-12T16:28:19\",\"2016-07-09T07:00:00\",\"2009-09-10T07:00:00\",\"2018-05-13T07:00:00\",\"2016-11-14T08:00:00\",\"2008-06-18T07:00:00\",\"2016-12-23T17:04:56\",\"2017-06-24T07:00:00\",\"2017-10-12T23:15:41\",\"2016-04-29T12:25:53\",\"2008-08-23T07:00:00\",\"2014-12-21T08:00:00\",\"2016-05-06T20:32:20\",\"2016-10-10T04:00:36.789999\",\"2012-07-12T07:00:00\",\"2022-01-21T20:11:33\",\"2016-03-10T08:00:00\",\"2011-12-09T08:00:00\",\"2017-05-20T07:00:00\",\"2017-09-01T03:14:21\",\"2018-04-15T07:00:00\",\"2018-06-23T17:18:57\",\"2017-06-01T07:00:00\",\"2015-04-13T07:00:00\",\"2012-04-17T07:00:00\",\"2022-01-21T20:11:33\",\"2017-03-14T18:19:08\",\"2017-09-26T07:00:00\",\"2020-07-01T05:10:00\",\"2011-03-15T07:00:00\",\"2018-05-13T13:33:50\",\"2017-10-10T07:00:00\",\"2010-06-07T13:30:42\",\"2014-02-28T05:49:15\",\"2014-01-24T08:00:00\",\"2011-07-06T07:00:00\",\"2016-01-10T20:56:04\",\"2017-07-28T22:24:04\",\"2017-11-23T08:00:00\"],\"xaxis\":\"x\",\"yaxis\":\"y\",\"type\":\"histogram\"}],                        {\"template\":{\"data\":{\"histogram2dcontour\":[{\"type\":\"histogram2dcontour\",\"colorbar\":{\"outlinewidth\":0,\"ticks\":\"\"},\"colorscale\":[[0.0,\"#0d0887\"],[0.1111111111111111,\"#46039f\"],[0.2222222222222222,\"#7201a8\"],[0.3333333333333333,\"#9c179e\"],[0.4444444444444444,\"#bd3786\"],[0.5555555555555556,\"#d8576b\"],[0.6666666666666666,\"#ed7953\"],[0.7777777777777778,\"#fb9f3a\"],[0.8888888888888888,\"#fdca26\"],[1.0,\"#f0f921\"]]}],\"choropleth\":[{\"type\":\"choropleth\",\"colorbar\":{\"outlinewidth\":0,\"ticks\":\"\"}}],\"histogram2d\":[{\"type\":\"histogram2d\",\"colorbar\":{\"outlinewidth\":0,\"ticks\":\"\"},\"colorscale\":[[0.0,\"#0d0887\"],[0.1111111111111111,\"#46039f\"],[0.2222222222222222,\"#7201a8\"],[0.3333333333333333,\"#9c179e\"],[0.4444444444444444,\"#bd3786\"],[0.5555555555555556,\"#d8576b\"],[0.6666666666666666,\"#ed7953\"],[0.7777777777777778,\"#fb9f3a\"],[0.8888888888888888,\"#fdca26\"],[1.0,\"#f0f921\"]]}],\"heatmap\":[{\"type\":\"heatmap\",\"colorbar\":{\"outlinewidth\":0,\"ticks\":\"\"},\"colorscale\":[[0.0,\"#0d0887\"],[0.1111111111111111,\"#46039f\"],[0.2222222222222222,\"#7201a8\"],[0.3333333333333333,\"#9c179e\"],[0.4444444444444444,\"#bd3786\"],[0.5555555555555556,\"#d8576b\"],[0.6666666666666666,\"#ed7953\"],[0.7777777777777778,\"#fb9f3a\"],[0.8888888888888888,\"#fdca26\"],[1.0,\"#f0f921\"]]}],\"heatmapgl\":[{\"type\":\"heatmapgl\",\"colorbar\":{\"outlinewidth\":0,\"ticks\":\"\"},\"colorscale\":[[0.0,\"#0d0887\"],[0.1111111111111111,\"#46039f\"],[0.2222222222222222,\"#7201a8\"],[0.3333333333333333,\"#9c179e\"],[0.4444444444444444,\"#bd3786\"],[0.5555555555555556,\"#d8576b\"],[0.6666666666666666,\"#ed7953\"],[0.7777777777777778,\"#fb9f3a\"],[0.8888888888888888,\"#fdca26\"],[1.0,\"#f0f921\"]]}],\"contourcarpet\":[{\"type\":\"contourcarpet\",\"colorbar\":{\"outlinewidth\":0,\"ticks\":\"\"}}],\"contour\":[{\"type\":\"contour\",\"colorbar\":{\"outlinewidth\":0,\"ticks\":\"\"},\"colorscale\":[[0.0,\"#0d0887\"],[0.1111111111111111,\"#46039f\"],[0.2222222222222222,\"#7201a8\"],[0.3333333333333333,\"#9c179e\"],[0.4444444444444444,\"#bd3786\"],[0.5555555555555556,\"#d8576b\"],[0.6666666666666666,\"#ed7953\"],[0.7777777777777778,\"#fb9f3a\"],[0.8888888888888888,\"#fdca26\"],[1.0,\"#f0f921\"]]}],\"surface\":[{\"type\":\"surface\",\"colorbar\":{\"outlinewidth\":0,\"ticks\":\"\"},\"colorscale\":[[0.0,\"#0d0887\"],[0.1111111111111111,\"#46039f\"],[0.2222222222222222,\"#7201a8\"],[0.3333333333333333,\"#9c179e\"],[0.4444444444444444,\"#bd3786\"],[0.5555555555555556,\"#d8576b\"],[0.6666666666666666,\"#ed7953\"],[0.7777777777777778,\"#fb9f3a\"],[0.8888888888888888,\"#fdca26\"],[1.0,\"#f0f921\"]]}],\"mesh3d\":[{\"type\":\"mesh3d\",\"colorbar\":{\"outlinewidth\":0,\"ticks\":\"\"}}],\"scatter\":[{\"fillpattern\":{\"fillmode\":\"overlay\",\"size\":10,\"solidity\":0.2},\"type\":\"scatter\"}],\"parcoords\":[{\"type\":\"parcoords\",\"line\":{\"colorbar\":{\"outlinewidth\":0,\"ticks\":\"\"}}}],\"scatterpolargl\":[{\"type\":\"scatterpolargl\",\"marker\":{\"colorbar\":{\"outlinewidth\":0,\"ticks\":\"\"}}}],\"bar\":[{\"error_x\":{\"color\":\"#2a3f5f\"},\"error_y\":{\"color\":\"#2a3f5f\"},\"marker\":{\"line\":{\"color\":\"#E5ECF6\",\"width\":0.5},\"pattern\":{\"fillmode\":\"overlay\",\"size\":10,\"solidity\":0.2}},\"type\":\"bar\"}],\"scattergeo\":[{\"type\":\"scattergeo\",\"marker\":{\"colorbar\":{\"outlinewidth\":0,\"ticks\":\"\"}}}],\"scatterpolar\":[{\"type\":\"scatterpolar\",\"marker\":{\"colorbar\":{\"outlinewidth\":0,\"ticks\":\"\"}}}],\"histogram\":[{\"marker\":{\"pattern\":{\"fillmode\":\"overlay\",\"size\":10,\"solidity\":0.2}},\"type\":\"histogram\"}],\"scattergl\":[{\"type\":\"scattergl\",\"marker\":{\"colorbar\":{\"outlinewidth\":0,\"ticks\":\"\"}}}],\"scatter3d\":[{\"type\":\"scatter3d\",\"line\":{\"colorbar\":{\"outlinewidth\":0,\"ticks\":\"\"}},\"marker\":{\"colorbar\":{\"outlinewidth\":0,\"ticks\":\"\"}}}],\"scattermapbox\":[{\"type\":\"scattermapbox\",\"marker\":{\"colorbar\":{\"outlinewidth\":0,\"ticks\":\"\"}}}],\"scatterternary\":[{\"type\":\"scatterternary\",\"marker\":{\"colorbar\":{\"outlinewidth\":0,\"ticks\":\"\"}}}],\"scattercarpet\":[{\"type\":\"scattercarpet\",\"marker\":{\"colorbar\":{\"outlinewidth\":0,\"ticks\":\"\"}}}],\"carpet\":[{\"aaxis\":{\"endlinecolor\":\"#2a3f5f\",\"gridcolor\":\"white\",\"linecolor\":\"white\",\"minorgridcolor\":\"white\",\"startlinecolor\":\"#2a3f5f\"},\"baxis\":{\"endlinecolor\":\"#2a3f5f\",\"gridcolor\":\"white\",\"linecolor\":\"white\",\"minorgridcolor\":\"white\",\"startlinecolor\":\"#2a3f5f\"},\"type\":\"carpet\"}],\"table\":[{\"cells\":{\"fill\":{\"color\":\"#EBF0F8\"},\"line\":{\"color\":\"white\"}},\"header\":{\"fill\":{\"color\":\"#C8D4E3\"},\"line\":{\"color\":\"white\"}},\"type\":\"table\"}],\"barpolar\":[{\"marker\":{\"line\":{\"color\":\"#E5ECF6\",\"width\":0.5},\"pattern\":{\"fillmode\":\"overlay\",\"size\":10,\"solidity\":0.2}},\"type\":\"barpolar\"}],\"pie\":[{\"automargin\":true,\"type\":\"pie\"}]},\"layout\":{\"autotypenumbers\":\"strict\",\"colorway\":[\"#636efa\",\"#EF553B\",\"#00cc96\",\"#ab63fa\",\"#FFA15A\",\"#19d3f3\",\"#FF6692\",\"#B6E880\",\"#FF97FF\",\"#FECB52\"],\"font\":{\"color\":\"#2a3f5f\"},\"hovermode\":\"closest\",\"hoverlabel\":{\"align\":\"left\"},\"paper_bgcolor\":\"white\",\"plot_bgcolor\":\"#E5ECF6\",\"polar\":{\"bgcolor\":\"#E5ECF6\",\"angularaxis\":{\"gridcolor\":\"white\",\"linecolor\":\"white\",\"ticks\":\"\"},\"radialaxis\":{\"gridcolor\":\"white\",\"linecolor\":\"white\",\"ticks\":\"\"}},\"ternary\":{\"bgcolor\":\"#E5ECF6\",\"aaxis\":{\"gridcolor\":\"white\",\"linecolor\":\"white\",\"ticks\":\"\"},\"baxis\":{\"gridcolor\":\"white\",\"linecolor\":\"white\",\"ticks\":\"\"},\"caxis\":{\"gridcolor\":\"white\",\"linecolor\":\"white\",\"ticks\":\"\"}},\"coloraxis\":{\"colorbar\":{\"outlinewidth\":0,\"ticks\":\"\"}},\"colorscale\":{\"sequential\":[[0.0,\"#0d0887\"],[0.1111111111111111,\"#46039f\"],[0.2222222222222222,\"#7201a8\"],[0.3333333333333333,\"#9c179e\"],[0.4444444444444444,\"#bd3786\"],[0.5555555555555556,\"#d8576b\"],[0.6666666666666666,\"#ed7953\"],[0.7777777777777778,\"#fb9f3a\"],[0.8888888888888888,\"#fdca26\"],[1.0,\"#f0f921\"]],\"sequentialminus\":[[0.0,\"#0d0887\"],[0.1111111111111111,\"#46039f\"],[0.2222222222222222,\"#7201a8\"],[0.3333333333333333,\"#9c179e\"],[0.4444444444444444,\"#bd3786\"],[0.5555555555555556,\"#d8576b\"],[0.6666666666666666,\"#ed7953\"],[0.7777777777777778,\"#fb9f3a\"],[0.8888888888888888,\"#fdca26\"],[1.0,\"#f0f921\"]],\"diverging\":[[0,\"#8e0152\"],[0.1,\"#c51b7d\"],[0.2,\"#de77ae\"],[0.3,\"#f1b6da\"],[0.4,\"#fde0ef\"],[0.5,\"#f7f7f7\"],[0.6,\"#e6f5d0\"],[0.7,\"#b8e186\"],[0.8,\"#7fbc41\"],[0.9,\"#4d9221\"],[1,\"#276419\"]]},\"xaxis\":{\"gridcolor\":\"white\",\"linecolor\":\"white\",\"ticks\":\"\",\"title\":{\"standoff\":15},\"zerolinecolor\":\"white\",\"automargin\":true,\"zerolinewidth\":2},\"yaxis\":{\"gridcolor\":\"white\",\"linecolor\":\"white\",\"ticks\":\"\",\"title\":{\"standoff\":15},\"zerolinecolor\":\"white\",\"automargin\":true,\"zerolinewidth\":2},\"scene\":{\"xaxis\":{\"backgroundcolor\":\"#E5ECF6\",\"gridcolor\":\"white\",\"linecolor\":\"white\",\"showbackground\":true,\"ticks\":\"\",\"zerolinecolor\":\"white\",\"gridwidth\":2},\"yaxis\":{\"backgroundcolor\":\"#E5ECF6\",\"gridcolor\":\"white\",\"linecolor\":\"white\",\"showbackground\":true,\"ticks\":\"\",\"zerolinecolor\":\"white\",\"gridwidth\":2},\"zaxis\":{\"backgroundcolor\":\"#E5ECF6\",\"gridcolor\":\"white\",\"linecolor\":\"white\",\"showbackground\":true,\"ticks\":\"\",\"zerolinecolor\":\"white\",\"gridwidth\":2}},\"shapedefaults\":{\"line\":{\"color\":\"#2a3f5f\"}},\"annotationdefaults\":{\"arrowcolor\":\"#2a3f5f\",\"arrowhead\":0,\"arrowwidth\":1},\"geo\":{\"bgcolor\":\"white\",\"landcolor\":\"#E5ECF6\",\"subunitcolor\":\"white\",\"showland\":true,\"showlakes\":true,\"lakecolor\":\"white\"},\"title\":{\"x\":0.05},\"mapbox\":{\"style\":\"light\"}}},\"xaxis\":{\"anchor\":\"y\",\"domain\":[0.0,1.0],\"title\":{\"text\":\"value\"}},\"yaxis\":{\"anchor\":\"x\",\"domain\":[0.0,1.0],\"title\":{\"text\":\"count\"}},\"legend\":{\"title\":{\"text\":\"variable\"},\"tracegroupgap\":0},\"margin\":{\"t\":60},\"barmode\":\"relative\",\"height\":350,\"width\":750},                        {\"responsive\": true}                    ).then(function(){\n",
              "                            \n",
              "var gd = document.getElementById('d9e4f412-ddff-49be-8047-75c71a38a055');\n",
              "var x = new MutationObserver(function (mutations, observer) {{\n",
              "        var display = window.getComputedStyle(gd).display;\n",
              "        if (!display || display === 'none') {{\n",
              "            console.log([gd, 'removed!']);\n",
              "            Plotly.purge(gd);\n",
              "            observer.disconnect();\n",
              "        }}\n",
              "}});\n",
              "\n",
              "// Listen for the removal of the full notebook cells\n",
              "var notebookContainer = gd.closest('#notebook-container');\n",
              "if (notebookContainer) {{\n",
              "    x.observe(notebookContainer, {childList: true});\n",
              "}}\n",
              "\n",
              "// Listen for the clearing of the current output cell\n",
              "var outputEl = gd.closest('.output');\n",
              "if (outputEl) {{\n",
              "    x.observe(outputEl, {childList: true});\n",
              "}}\n",
              "\n",
              "                        })                };                            </script>        </div>\n",
              "</body>\n",
              "</html>"
            ]
          },
          "metadata": {}
        }
      ],
      "source": [
        "px.histogram(X_train.loc[X_train['timestamp'] > '2000', 'timestamp'],\n",
        "             width=750, height=350)"
      ]
    },
    {
      "cell_type": "markdown",
      "id": "e15d43c9",
      "metadata": {
        "id": "e15d43c9"
      },
      "source": [
        "As we expect, most articles in the dataset were published between 2007 (the year Politifact was founded) and 2020 (the year the FakeNewsNet paper was published). We also find out that the timestamps are concentrated on the years 2016-2018, the years following the controversial 2016 US Presidential Election."
      ]
    },
    {
      "cell_type": "markdown",
      "id": "757bba12",
      "metadata": {
        "id": "757bba12"
      },
      "source": [
        "This brief exploratory analysis helps us understand when our news articles were published and that the dataset captures a broad range of publishing websites. Next, we'll use the content of the news articles themselves to make predictions about whether articles are fake or real."
      ]
    },
    {
      "cell_type": "markdown",
      "id": "409a151f",
      "metadata": {
        "id": "409a151f"
      },
      "source": [
        "# Modeling"
      ]
    },
    {
      "cell_type": "code",
      "execution_count": null,
      "id": "95d5544d",
      "metadata": {
        "id": "95d5544d"
      },
      "outputs": [],
      "source": [
        "url=\"https://web.lums.edu.pk/~ihsan/workshop_data/unit5/fake_news.csv\"\n",
        "s=requests.get(url).content\n",
        "\n",
        "#date_parser = lambda x: pd.to_datetime(x, format='%d/%m/%Y')\n",
        "df = pd.read_csv(url, parse_dates=['timestamp'])\n",
        "\n",
        "from sklearn.model_selection import train_test_split\n",
        "\n",
        "X_train, X_test, y_train, y_test = train_test_split(\n",
        "    df[['timestamp', 'baseurl', 'content']], df['label'],\n",
        "    test_size=0.25, random_state=42,\n",
        ")"
      ]
    },
    {
      "cell_type": "markdown",
      "id": "7023cb77",
      "metadata": {
        "id": "7023cb77"
      },
      "source": [
        "Now that we've obtained, cleaned, and explored our data, let's fit models to predict whether articles are real or fake. Since we're classifying articles, we'll use logistic regression. We'll fit three different models that increase in complexity. First, we'll fit a model that just uses a single hand-picked word as a binary feature. Then, we'll fit a model that uses multiple hand-picked words. Finally, we'll fit a model that uses all the words in the training set, vectorized using the tf-idf transform. Let's start with the simple single-word model."
      ]
    },
    {
      "cell_type": "markdown",
      "id": "73840cf8",
      "metadata": {
        "id": "73840cf8"
      },
      "source": [
        "## Single-Word Model"
      ]
    },
    {
      "cell_type": "markdown",
      "id": "3accb273",
      "metadata": {
        "id": "3accb273"
      },
      "source": [
        "From our EDA, we know that many articles were published soon after the 2016 US Presidential Election. In that election, the two candidates were named Donald Trump and Hillary Clinton. Readers who followed the election that year may already know that the election was quite divisive, which suggests that the word `trump` could be predictive of whether articles in our dataset are real or fake. To test this, we'll fit a logistic regression classifier using a single binary feature: `1` if the word `trump` appears in the article and `0` if not. Since we'll want to add more word features like this one later in this analysis, we'll write the code so that it can extend to multiple words.\n",
        "\n",
        "We'll start by defining functions to lowercase the article content and create binary word features."
      ]
    },
    {
      "cell_type": "code",
      "execution_count": null,
      "id": "a24f73a9",
      "metadata": {
        "id": "a24f73a9"
      },
      "outputs": [],
      "source": [
        "def lowercase(df):\n",
        "    return df.assign(content=df['content'].str.lower())"
      ]
    },
    {
      "cell_type": "code",
      "execution_count": null,
      "id": "8e70af4e",
      "metadata": {
        "id": "8e70af4e"
      },
      "outputs": [],
      "source": [
        "# For our first classifier, we'll only use the word `trump`.\n",
        "word_features = [\n",
        "    'trump',\n",
        "]"
      ]
    },
    {
      "cell_type": "code",
      "execution_count": null,
      "id": "4ceb5a01",
      "metadata": {
        "id": "4ceb5a01"
      },
      "outputs": [],
      "source": [
        "# This function creates one new binary feature for each word in word_features,\n",
        "# marking the presence of a word in an article.\n",
        "def make_word_features(df, words=word_features):\n",
        "    features = { word: df['content'].str.contains(word) for word in words }\n",
        "    return pd.DataFrame(features)"
      ]
    },
    {
      "cell_type": "markdown",
      "id": "4be1a31c",
      "metadata": {
        "id": "4be1a31c"
      },
      "source": [
        "### Exploring Words in Articles"
      ]
    },
    {
      "cell_type": "code",
      "execution_count": null,
      "id": "76bdbf0b",
      "metadata": {
        "colab": {
          "base_uri": "https://localhost:8080/",
          "height": 290
        },
        "id": "76bdbf0b",
        "outputId": "b9f080f8-3a6b-4ac5-f7ce-863cb30b5153"
      },
      "outputs": [
        {
          "output_type": "display_data",
          "data": {
            "text/plain": [
              "<Figure size 600x300 with 2 Axes>"
            ],
            "image/png": "[encoded data removed]"
          },
          "metadata": {}
        }
      ],
      "source": [
        "fake_props = (make_word_features(X_train, word_features)\n",
        " .assign(label=(y_train == 'fake'))\n",
        " .melt(id_vars=['label'], var_name='word', value_name='appeared')\n",
        " .query('appeared == True')\n",
        " .groupby('word')\n",
        " ['label']\n",
        " .agg(['mean', 'count'])\n",
        " .rename(columns={'mean': 'prop_fake'})\n",
        " .sort_values('prop_fake', ascending=False)\n",
        " .reset_index()\n",
        " .melt(id_vars='word')\n",
        ")\n",
        "\n",
        "g = sns.catplot(data=fake_props, x='value', y='word', col='variable',\n",
        "                s=8, jitter=False, sharex=False, height=3)\n",
        "\n",
        "[[prop_ax, _]] = g.axes\n",
        "prop_ax.axvline(0.45, linestyle='--')\n",
        "prop_ax.set(xlim=(-0.05, 1.05))\n",
        "\n",
        "titles = ['Proportion articles marked fake', 'Number of articles with word']\n",
        "\n",
        "for ax, title in zip(g.axes.flat, titles):\n",
        "\n",
        "    # Set a different title for each axes\n",
        "    ax.set(title=title)\n",
        "    ax.set(xlabel=None)\n",
        "\n",
        "    # Make the grid horizontal instead of vertical\n",
        "    ax.yaxis.grid(True);"
      ]
    },
    {
      "cell_type": "code",
      "source": [
        "fake_props"
      ],
      "metadata": {
        "colab": {
          "base_uri": "https://localhost:8080/",
          "height": 112
        },
        "id": "F67aIUzVUTHl",
        "outputId": "3303e15a-0e9b-4e31-8343-86d87c7ca574"
      },
      "id": "F67aIUzVUTHl",
      "execution_count": null,
      "outputs": [
        {
          "output_type": "execute_result",
          "data": {
            "text/plain": [
              "    word   variable  value\n",
              "0  trump  prop_fake  0.375\n",
              "1  trump      count  8.000"
            ],
            "text/html": [
              "\n",
              "  <div id=\"df-2489e40b-0db6-48e5-9428-7f8adb609bbf\">\n",
              "    <div class=\"colab-df-container\">\n",
              "      <div>\n",
              "<style scoped>\n",
              "    .dataframe tbody tr th:only-of-type {\n",
              "        vertical-align: middle;\n",
              "    }\n",
              "\n",
              "    .dataframe tbody tr th {\n",
              "        vertical-align: top;\n",
              "    }\n",
              "\n",
              "    .dataframe thead th {\n",
              "        text-align: right;\n",
              "    }\n",
              "</style>\n",
              "<table border=\"1\" class=\"dataframe\">\n",
              "  <thead>\n",
              "    <tr style=\"text-align: right;\">\n",
              "      <th></th>\n",
              "      <th>word</th>\n",
              "      <th>variable</th>\n",
              "      <th>value</th>\n",
              "    </tr>\n",
              "  </thead>\n",
              "  <tbody>\n",
              "    <tr>\n",
              "      <th>0</th>\n",
              "      <td>trump</td>\n",
              "      <td>prop_fake</td>\n",
              "      <td>0.375</td>\n",
              "    </tr>\n",
              "    <tr>\n",
              "      <th>1</th>\n",
              "      <td>trump</td>\n",
              "      <td>count</td>\n",
              "      <td>8.000</td>\n",
              "    </tr>\n",
              "  </tbody>\n",
              "</table>\n",
              "</div>\n",
              "      <button class=\"colab-df-convert\" onclick=\"convertToInteractive('df-2489e40b-0db6-48e5-9428-7f8adb609bbf')\"\n",
              "              title=\"Convert this dataframe to an interactive table.\"\n",
              "              style=\"display:none;\">\n",
              "        \n",
              "  <svg xmlns=\"http://www.w3.org/2000/svg\" height=\"24px\"viewBox=\"0 0 24 24\"\n",
              "       width=\"24px\">\n",
              "    <path d=\"M0 0h24v24H0V0z\" fill=\"none\"/>\n",
              "    <path d=\"M18.56 5.44l.94 2.06.94-2.06 2.06-.94-2.06-.94-.94-2.06-.94 2.06-2.06.94zm-11 1L8.5 8.5l.94-2.06 2.06-.94-2.06-.94L8.5 2.5l-.94 2.06-2.06.94zm10 10l.94 2.06.94-2.06 2.06-.94-2.06-.94-.94-2.06-.94 2.06-2.06.94z\"/><path d=\"M17.41 7.96l-1.37-1.37c-.4-.4-.92-.59-1.43-.59-.52 0-1.04.2-1.43.59L10.3 9.45l-7.72 7.72c-.78.78-.78 2.05 0 2.83L4 21.41c.39.39.9.59 1.41.59.51 0 1.02-.2 1.41-.59l7.78-7.78 2.81-2.81c.8-.78.8-2.07 0-2.86zM5.41 20L4 18.59l7.72-7.72 1.47 1.35L5.41 20z\"/>\n",
              "  </svg>\n",
              "      </button>\n",
              "      \n",
              "  <style>\n",
              "    .colab-df-container {\n",
              "      display:flex;\n",
              "      flex-wrap:wrap;\n",
              "      gap: 12px;\n",
              "    }\n",
              "\n",
              "    .colab-df-convert {\n",
              "      background-color: #E8F0FE;\n",
              "      border: none;\n",
              "      border-radius: 50%;\n",
              "      cursor: pointer;\n",
              "      display: none;\n",
              "      fill: #1967D2;\n",
              "      height: 32px;\n",
              "      padding: 0 0 0 0;\n",
              "      width: 32px;\n",
              "    }\n",
              "\n",
              "    .colab-df-convert:hover {\n",
              "      background-color: #E2EBFA;\n",
              "      box-shadow: 0px 1px 2px rgba(60, 64, 67, 0.3), 0px 1px 3px 1px rgba(60, 64, 67, 0.15);\n",
              "      fill: #174EA6;\n",
              "    }\n",
              "\n",
              "    [theme=dark] .colab-df-convert {\n",
              "      background-color: #3B4455;\n",
              "      fill: #D2E3FC;\n",
              "    }\n",
              "\n",
              "    [theme=dark] .colab-df-convert:hover {\n",
              "      background-color: #434B5C;\n",
              "      box-shadow: 0px 1px 3px 1px rgba(0, 0, 0, 0.15);\n",
              "      filter: drop-shadow(0px 1px 2px rgba(0, 0, 0, 0.3));\n",
              "      fill: #FFFFFF;\n",
              "    }\n",
              "  </style>\n",
              "\n",
              "      <script>\n",
              "        const buttonEl =\n",
              "          document.querySelector('#df-2489e40b-0db6-48e5-9428-7f8adb609bbf button.colab-df-convert');\n",
              "        buttonEl.style.display =\n",
              "          google.colab.kernel.accessAllowed ? 'block' : 'none';\n",
              "\n",
              "        async function convertToInteractive(key) {\n",
              "          const element = document.querySelector('#df-2489e40b-0db6-48e5-9428-7f8adb609bbf');\n",
              "          const dataTable =\n",
              "            await google.colab.kernel.invokeFunction('convertToInteractive',\n",
              "                                                     [key], {});\n",
              "          if (!dataTable) return;\n",
              "\n",
              "          const docLinkHtml = 'Like what you see? Visit the ' +\n",
              "            '<a target=\"_blank\" href=https://colab.research.google.com/notebooks/data_table.ipynb>data table notebook</a>'\n",
              "            + ' to learn more about interactive tables.';\n",
              "          element.innerHTML = '';\n",
              "          dataTable['output_type'] = 'display_data';\n",
              "          await google.colab.output.renderOutput(dataTable, element);\n",
              "          const docLink = document.createElement('div');\n",
              "          docLink.innerHTML = docLinkHtml;\n",
              "          element.appendChild(docLink);\n",
              "        }\n",
              "      </script>\n",
              "    </div>\n",
              "  </div>\n",
              "  "
            ]
          },
          "metadata": {},
          "execution_count": 20
        }
      ]
    },
    {
      "cell_type": "markdown",
      "id": "bf3376a1",
      "metadata": {
        "id": "bf3376a1"
      },
      "source": [
        "We can chain these functions into a `scikit-learn` pipeline, which provides a convenient way to transform and fit data all at once."
      ]
    },
    {
      "cell_type": "code",
      "execution_count": null,
      "id": "7fa18a60",
      "metadata": {
        "id": "7fa18a60"
      },
      "outputs": [],
      "source": [
        "from sklearn.pipeline import make_pipeline\n",
        "from sklearn.linear_model import LogisticRegressionCV"
      ]
    },
    {
      "cell_type": "code",
      "execution_count": null,
      "id": "df01a705",
      "metadata": {
        "id": "df01a705"
      },
      "outputs": [],
      "source": [
        "from sklearn.preprocessing import FunctionTransformer\n",
        "\n",
        "model1 = make_pipeline(\n",
        "    FunctionTransformer(lowercase),\n",
        "    FunctionTransformer(make_word_features, kw_args={'words': word_features}),\n",
        "    LogisticRegressionCV(Cs=10,\n",
        "                         solver='saga',\n",
        "                         n_jobs=4,\n",
        "                         max_iter=10000)\n",
        ")"
      ]
    },
    {
      "cell_type": "markdown",
      "id": "f3e8e1a3",
      "metadata": {
        "id": "f3e8e1a3"
      },
      "source": [
        "The pipeline above will lowercase the article content, create word features, and fit a logistic regression on the data. Using `LogisticRegressionCV` will by default use 5-fold cross-validation to select the best regularization parameter for the data."
      ]
    },
    {
      "cell_type": "markdown",
      "id": "bbce521b",
      "metadata": {
        "id": "bbce521b"
      },
      "source": [
        "Now, we can use the pipeline to fit the training data:"
      ]
    },
    {
      "cell_type": "code",
      "execution_count": null,
      "id": "e0d74523",
      "metadata": {
        "colab": {
          "base_uri": "https://localhost:8080/"
        },
        "id": "e0d74523",
        "outputId": "bdc9476f-77e5-45fd-abb7-ac4dfc8b8e01"
      },
      "outputs": [
        {
          "output_type": "stream",
          "name": "stdout",
          "text": [
            "68.7% accuracy on training set.\n",
            "CPU times: user 181 ms, sys: 8.59 ms, total: 190 ms\n",
            "Wall time: 176 ms\n"
          ]
        }
      ],
      "source": [
        "%%time\n",
        "\n",
        "model1.fit(X_train, y_train)\n",
        "print(f'{model1.score(X_train, y_train):.1%} accuracy on training set.')"
      ]
    },
    {
      "cell_type": "markdown",
      "id": "d6db84d2",
      "metadata": {
        "id": "d6db84d2"
      },
      "source": [
        "We can plot a confusion matrix of the classifier on the training set to see what kinds of mistakes it made:"
      ]
    },
    {
      "cell_type": "code",
      "execution_count": null,
      "id": "3b1b5a30",
      "metadata": {
        "colab": {
          "base_uri": "https://localhost:8080/"
        },
        "id": "3b1b5a30",
        "outputId": "f19b610a-0ac0-4d17-e0be-f9f45a6dc213"
      },
      "outputs": [
        {
          "output_type": "display_data",
          "data": {
            "text/plain": [
              "<Figure size 640x480 with 2 Axes>"
            ],
            "image/png": "[encoded data removed]"
          },
          "metadata": {}
        }
      ],
      "source": [
        "from sklearn.metrics import confusion_matrix, ConfusionMatrixDisplay\n",
        "import matplotlib.pyplot as plt\n",
        "\n",
        "#ConfusionMatrixDisplay(model1, X_train, y_train, cmap=plt.cm.Blues)\n",
        "\n",
        "predictions = model1.predict(X_train)\n",
        "cm = confusion_matrix(y_train, predictions, labels=model1.classes_)\n",
        "disp = ConfusionMatrixDisplay(confusion_matrix=cm, display_labels=model1.classes_)\n",
        "disp.plot()\n",
        "plt.show()"
      ]
    },
    {
      "cell_type": "markdown",
      "id": "ddf800d8",
      "metadata": {
        "id": "ddf800d8"
      },
      "source": [
        "Overall, the single-word classifier only classifies 68.7% of articles correctly. It often misclassifies `fake` articles as `real`.\n",
        "\n",
        "Since this model is simple, we can take a look at the parameters to understand\n",
        "how it behaves completely."
      ]
    },
    {
      "cell_type": "code",
      "execution_count": null,
      "id": "f5bcb489",
      "metadata": {
        "colab": {
          "base_uri": "https://localhost:8080/"
        },
        "id": "f5bcb489",
        "outputId": "2b86d4b4-beb2-4807-820c-e74def9c890b"
      },
      "outputs": [
        {
          "output_type": "execute_result",
          "data": {
            "text/plain": [
              "           coef\n",
              "word           \n",
              "trump -0.973348"
            ],
            "text/html": [
              "\n",
              "  <div id=\"df-99c46f36-4de3-4934-97bf-2b6889d0c4a8\">\n",
              "    <div class=\"colab-df-container\">\n",
              "      <div>\n",
              "<style scoped>\n",
              "    .dataframe tbody tr th:only-of-type {\n",
              "        vertical-align: middle;\n",
              "    }\n",
              "\n",
              "    .dataframe tbody tr th {\n",
              "        vertical-align: top;\n",
              "    }\n",
              "\n",
              "    .dataframe thead th {\n",
              "        text-align: right;\n",
              "    }\n",
              "</style>\n",
              "<table border=\"1\" class=\"dataframe\">\n",
              "  <thead>\n",
              "    <tr style=\"text-align: right;\">\n",
              "      <th></th>\n",
              "      <th>coef</th>\n",
              "    </tr>\n",
              "    <tr>\n",
              "      <th>word</th>\n",
              "      <th></th>\n",
              "    </tr>\n",
              "  </thead>\n",
              "  <tbody>\n",
              "    <tr>\n",
              "      <th>trump</th>\n",
              "      <td>-0.973348</td>\n",
              "    </tr>\n",
              "  </tbody>\n",
              "</table>\n",
              "</div>\n",
              "      <button class=\"colab-df-convert\" onclick=\"convertToInteractive('df-99c46f36-4de3-4934-97bf-2b6889d0c4a8')\"\n",
              "              title=\"Convert this dataframe to an interactive table.\"\n",
              "              style=\"display:none;\">\n",
              "        \n",
              "  <svg xmlns=\"http://www.w3.org/2000/svg\" height=\"24px\"viewBox=\"0 0 24 24\"\n",
              "       width=\"24px\">\n",
              "    <path d=\"M0 0h24v24H0V0z\" fill=\"none\"/>\n",
              "    <path d=\"M18.56 5.44l.94 2.06.94-2.06 2.06-.94-2.06-.94-.94-2.06-.94 2.06-2.06.94zm-11 1L8.5 8.5l.94-2.06 2.06-.94-2.06-.94L8.5 2.5l-.94 2.06-2.06.94zm10 10l.94 2.06.94-2.06 2.06-.94-2.06-.94-.94-2.06-.94 2.06-2.06.94z\"/><path d=\"M17.41 7.96l-1.37-1.37c-.4-.4-.92-.59-1.43-.59-.52 0-1.04.2-1.43.59L10.3 9.45l-7.72 7.72c-.78.78-.78 2.05 0 2.83L4 21.41c.39.39.9.59 1.41.59.51 0 1.02-.2 1.41-.59l7.78-7.78 2.81-2.81c.8-.78.8-2.07 0-2.86zM5.41 20L4 18.59l7.72-7.72 1.47 1.35L5.41 20z\"/>\n",
              "  </svg>\n",
              "      </button>\n",
              "      \n",
              "  <style>\n",
              "    .colab-df-container {\n",
              "      display:flex;\n",
              "      flex-wrap:wrap;\n",
              "      gap: 12px;\n",
              "    }\n",
              "\n",
              "    .colab-df-convert {\n",
              "      background-color: #E8F0FE;\n",
              "      border: none;\n",
              "      border-radius: 50%;\n",
              "      cursor: pointer;\n",
              "      display: none;\n",
              "      fill: #1967D2;\n",
              "      height: 32px;\n",
              "      padding: 0 0 0 0;\n",
              "      width: 32px;\n",
              "    }\n",
              "\n",
              "    .colab-df-convert:hover {\n",
              "      background-color: #E2EBFA;\n",
              "      box-shadow: 0px 1px 2px rgba(60, 64, 67, 0.3), 0px 1px 3px 1px rgba(60, 64, 67, 0.15);\n",
              "      fill: #174EA6;\n",
              "    }\n",
              "\n",
              "    [theme=dark] .colab-df-convert {\n",
              "      background-color: #3B4455;\n",
              "      fill: #D2E3FC;\n",
              "    }\n",
              "\n",
              "    [theme=dark] .colab-df-convert:hover {\n",
              "      background-color: #434B5C;\n",
              "      box-shadow: 0px 1px 3px 1px rgba(0, 0, 0, 0.15);\n",
              "      filter: drop-shadow(0px 1px 2px rgba(0, 0, 0, 0.3));\n",
              "      fill: #FFFFFF;\n",
              "    }\n",
              "  </style>\n",
              "\n",
              "      <script>\n",
              "        const buttonEl =\n",
              "          document.querySelector('#df-99c46f36-4de3-4934-97bf-2b6889d0c4a8 button.colab-df-convert');\n",
              "        buttonEl.style.display =\n",
              "          google.colab.kernel.accessAllowed ? 'block' : 'none';\n",
              "\n",
              "        async function convertToInteractive(key) {\n",
              "          const element = document.querySelector('#df-99c46f36-4de3-4934-97bf-2b6889d0c4a8');\n",
              "          const dataTable =\n",
              "            await google.colab.kernel.invokeFunction('convertToInteractive',\n",
              "                                                     [key], {});\n",
              "          if (!dataTable) return;\n",
              "\n",
              "          const docLinkHtml = 'Like what you see? Visit the ' +\n",
              "            '<a target=\"_blank\" href=https://colab.research.google.com/notebooks/data_table.ipynb>data table notebook</a>'\n",
              "            + ' to learn more about interactive tables.';\n",
              "          element.innerHTML = '';\n",
              "          dataTable['output_type'] = 'display_data';\n",
              "          await google.colab.output.renderOutput(dataTable, element);\n",
              "          const docLink = document.createElement('div');\n",
              "          docLink.innerHTML = docLinkHtml;\n",
              "          element.appendChild(docLink);\n",
              "        }\n",
              "      </script>\n",
              "    </div>\n",
              "  </div>\n",
              "  "
            ]
          },
          "metadata": {},
          "execution_count": 25
        }
      ],
      "source": [
        "log_reg = model1.named_steps['logisticregressioncv']\n",
        "coefs = (pd.DataFrame({'word': word_features, 'coef': log_reg.coef_[0]})\n",
        "         .set_index('word')\n",
        "         .sort_values('coef')\n",
        "        )\n",
        "coefs"
      ]
    },
    {
      "cell_type": "code",
      "execution_count": null,
      "id": "00936939",
      "metadata": {
        "colab": {
          "base_uri": "https://localhost:8080/"
        },
        "id": "00936939",
        "outputId": "bc4e431c-34d8-4d5b-af69-650c9cdaaf96"
      },
      "outputs": [
        {
          "output_type": "stream",
          "name": "stdout",
          "text": [
            "Intercept: 0.45\n"
          ]
        }
      ],
      "source": [
        "intercept = log_reg.intercept_[0]\n",
        "print(f'Intercept: {intercept:.2f}')"
      ]
    },
    {
      "cell_type": "markdown",
      "id": "199236cd",
      "metadata": {
        "id": "199236cd"
      },
      "source": [
        "Since the model has an intercept of 0.45 and the model weight for the `trump` feature is `-0.97`, the model will always predict that articles that contain the word `trump` are `fake` and articles that don't contain `trump` are `real`. We encourage readers to verify this for themselves using the definition of the logistic regression model."
      ]
    },
    {
      "cell_type": "markdown",
      "id": "42cdb8f7",
      "metadata": {
        "id": "42cdb8f7"
      },
      "source": [
        "Let's make our model a bit more sophisticated by introducing additional word features."
      ]
    },
    {
      "cell_type": "markdown",
      "id": "7578dac1",
      "metadata": {
        "id": "7578dac1"
      },
      "source": [
        "## Multiple Word Model\n"
      ]
    },
    {
      "cell_type": "markdown",
      "id": "c6a5e57e",
      "metadata": {
        "id": "c6a5e57e"
      },
      "source": [
        "We can reuse much of the same code to create a model that uses multiple binary word features. To create our features, we'll use some domain knowledge about controversial topics during the 2016-2018 period:"
      ]
    },
    {
      "cell_type": "markdown",
      "id": "fe89fbde",
      "metadata": {
        "id": "fe89fbde"
      },
      "source": []
    },
    {
      "cell_type": "code",
      "execution_count": null,
      "id": "91561625",
      "metadata": {
        "id": "91561625"
      },
      "outputs": [],
      "source": [
        "word_features = [\n",
        "    # names of presidential candidates\n",
        "    'trump', 'donald', 'hillary', 'clinton',\n",
        "    \n",
        "    # other possibly useful words\n",
        "    'military', 'state', 'vote', 'congress', 'fbi', 'shutdown',\n",
        "    'investig', 'antifa', 'joke', 'princ', 'homeless', 'cnn',\n",
        "]"
      ]
    },
    {
      "cell_type": "markdown",
      "id": "7a85d8a5",
      "metadata": {
        "id": "7a85d8a5"
      },
      "source": [
        "There are 16 features in this model. Let's fit a model using these features."
      ]
    },
    {
      "cell_type": "code",
      "execution_count": null,
      "id": "c425b3ab",
      "metadata": {
        "id": "c425b3ab"
      },
      "outputs": [],
      "source": [
        "from sklearn.preprocessing import FunctionTransformer\n",
        "\n",
        "model2 = make_pipeline(\n",
        "    FunctionTransformer(lowercase),\n",
        "    FunctionTransformer(make_word_features, kw_args={'words': word_features}),\n",
        "    LogisticRegressionCV(Cs=10,\n",
        "                         solver='saga',\n",
        "                         n_jobs=4,\n",
        "                         max_iter=10000)\n",
        ")"
      ]
    },
    {
      "cell_type": "code",
      "execution_count": null,
      "id": "914689a4",
      "metadata": {
        "colab": {
          "base_uri": "https://localhost:8080/"
        },
        "id": "914689a4",
        "outputId": "7a32488d-b3f1-4178-ea59-6943a97926e6"
      },
      "outputs": [
        {
          "output_type": "stream",
          "name": "stdout",
          "text": [
            "74.0% accuracy on training set.\n",
            "CPU times: user 3.12 s, sys: 11.5 ms, total: 3.13 s\n",
            "Wall time: 1.93 s\n"
          ]
        }
      ],
      "source": [
        "%%time\n",
        "\n",
        "model2.fit(X_train, y_train)\n",
        "print(f'{model2.score(X_train, y_train):.1%} accuracy on training set.')"
      ]
    },
    {
      "cell_type": "markdown",
      "id": "0c3fb622",
      "metadata": {
        "id": "0c3fb622"
      },
      "source": [
        "This model performed significantly better than the one-word model on the training set. Let's plot a confusion matrix again:"
      ]
    },
    {
      "cell_type": "code",
      "execution_count": null,
      "id": "c8675896",
      "metadata": {
        "colab": {
          "base_uri": "https://localhost:8080/"
        },
        "id": "c8675896",
        "outputId": "cde73616-0210-4f9d-ff89-9c50af14f9e7"
      },
      "outputs": [
        {
          "output_type": "display_data",
          "data": {
            "text/plain": [
              "<Figure size 640x480 with 2 Axes>"
            ],
            "image/png": "[encoded data removed]"
          },
          "metadata": {}
        }
      ],
      "source": [
        "from sklearn.metrics import confusion_matrix, ConfusionMatrixDisplay\n",
        "import matplotlib.pyplot as plt\n",
        "\n",
        "#ConfusionMatrixDisplay(model1, X_train, y_train, cmap=plt.cm.Blues)\n",
        "\n",
        "predictions = model2.predict(X_train)\n",
        "cm = confusion_matrix(y_train, predictions, labels=model2.classes_)\n",
        "disp = ConfusionMatrixDisplay(confusion_matrix=cm, display_labels=model2.classes_)\n",
        "disp.plot()\n",
        "plt.show()"
      ]
    },
    {
      "cell_type": "markdown",
      "id": "a114d366",
      "metadata": {
        "id": "a114d366"
      },
      "source": [
        "We can see that this classifier does a better job classifying `fake` articles accurately. However, it makes more mistakes than the simple one-word model when classifying `real` articles -- 89 of `real` articles were classified as `fake."
      ]
    },
    {
      "cell_type": "markdown",
      "id": "b7d320bc",
      "metadata": {
        "id": "b7d320bc"
      },
      "source": [
        "Let's take a look at the model's coefficients:"
      ]
    },
    {
      "cell_type": "code",
      "execution_count": null,
      "id": "a3bc96fc",
      "metadata": {
        "colab": {
          "base_uri": "https://localhost:8080/"
        },
        "id": "a3bc96fc",
        "outputId": "1ce8fffa-ac87-49fe-88c3-bc80ae8ed76f"
      },
      "outputs": [
        {
          "output_type": "stream",
          "name": "stdout",
          "text": [
            "              coef\n",
            "word              \n",
            "trump    -0.955494\n",
            "donald   -0.391950\n",
            "investig -0.249009\n",
            "fbi      -0.131233\n",
            "joke     -0.129245\n",
            "cnn      -0.073442\n",
            "antifa   -0.041278\n",
            "homeless  0.063087\n",
            "              coef\n",
            "word              \n",
            "shutdown  0.086382\n",
            "state     0.134280\n",
            "hillary   0.175282\n",
            "clinton   0.223437\n",
            "princ     0.295201\n",
            "military  0.440347\n",
            "vote      0.696752\n",
            "congress  0.770896\n"
          ]
        }
      ],
      "source": [
        "log_reg = model2.named_steps['logisticregressioncv']\n",
        "coefs = (pd.DataFrame({'word': word_features, 'coef': log_reg.coef_[0]})\n",
        "         .set_index('word')\n",
        "         .sort_values('coef')\n",
        "        )\n",
        "#dfs_side_by_side(coefs.iloc[:8], coefs.iloc[8:])\n",
        "print(coefs.iloc[:8])\n",
        "print(coefs.iloc[8:])"
      ]
    },
    {
      "cell_type": "markdown",
      "id": "339f819c",
      "metadata": {
        "id": "339f819c"
      },
      "source": [
        "We can interpret the weights by looking at their signs. For example, the negative weights on `trump` and `donald` indicate that the model predicts that new articles that have these words have a lower probability of being real. The reverse is true for words like `congress` and `vote`, which have positive weights."
      ]
    },
    {
      "cell_type": "markdown",
      "id": "77fec919",
      "metadata": {
        "id": "77fec919"
      },
      "source": [
        "Although this model performs better than the simple one-word model, we still had to hand-pick the word features using our knowledge of the news. What if we forgot to include words that are highly predictive? To address this, we can incorporate all the words in the articles using the tf-idf transform."
      ]
    },
    {
      "cell_type": "markdown",
      "id": "6974398e",
      "metadata": {
        "id": "6974398e"
      },
      "source": [
        "## Predicting with the tf-idf Transform"
      ]
    },
    {
      "cell_type": "markdown",
      "source": [
        "TF-IDF (term frequency-inverse document frequency) is a statistical measure that evaluates the importance of a word in a document or corpus. It takes into account both the frequency of the word in the document (TF) and the rarity of the word in the corpus (IDF). The TF part of the measure indicates how often a particular word occurs in a document, whereas the IDF part measures the relative rarity of that word in the entire corpus. Essentially, TF-IDF is a numerical representation of the importance of words in a document."
      ],
      "metadata": {
        "id": "aZ46F8RucEKJ"
      },
      "id": "aZ46F8RucEKJ"
    },
    {
      "cell_type": "markdown",
      "id": "9425a9c6",
      "metadata": {
        "id": "9425a9c6"
      },
      "source": [
        "Let's use the tf-idf transform to vectorize the entire text of all articles in the training set. This means that our classifier will be able to use all the words in the training set's news articles for prediction. As we've done when we introduced tf-idf, we'll first remove stopwords, tokenize the words, then use the `TfidfVectorizer` from `scikit-learn`."
      ]
    },
    {
      "cell_type": "code",
      "execution_count": null,
      "id": "41db38f6",
      "metadata": {
        "colab": {
          "base_uri": "https://localhost:8080/"
        },
        "id": "41db38f6",
        "outputId": "7d61cea9-198e-42fb-ddfa-ab02badc485b"
      },
      "outputs": [
        {
          "output_type": "stream",
          "name": "stderr",
          "text": [
            "[nltk_data] Downloading package stopwords to /root/nltk_data...\n",
            "[nltk_data]   Unzipping corpora/stopwords.zip.\n",
            "[nltk_data] Downloading package punkt to /root/nltk_data...\n",
            "[nltk_data]   Unzipping tokenizers/punkt.zip.\n"
          ]
        }
      ],
      "source": [
        "import nltk\n",
        "from nltk.stem.porter import PorterStemmer\n",
        "from sklearn.feature_extraction.text import TfidfVectorizer\n",
        "nltk.download('stopwords')\n",
        "nltk.download('punkt')\n",
        "\n",
        "stop_words = set(nltk.corpus.stopwords.words('english'))\n",
        "porter_stemmer = PorterStemmer()\n",
        "\n",
        "def stemming_tokenizer(document):\n",
        "    return [porter_stemmer.stem(word)\n",
        "            for word in nltk.word_tokenize(document)\n",
        "            if word not in stop_words]\n",
        "    return words"
      ]
    },
    {
      "cell_type": "code",
      "execution_count": null,
      "id": "a6ad218c",
      "metadata": {
        "id": "a6ad218c"
      },
      "outputs": [],
      "source": [
        "tfidf = TfidfVectorizer(tokenizer=stemming_tokenizer)"
      ]
    },
    {
      "cell_type": "code",
      "execution_count": null,
      "id": "a47a45a2",
      "metadata": {
        "id": "a47a45a2"
      },
      "outputs": [],
      "source": [
        "from sklearn.compose import make_column_transformer\n",
        "\n",
        "model3 = make_pipeline(\n",
        "    FunctionTransformer(lowercase),\n",
        "    make_column_transformer((tfidf, 'content')),\n",
        "    LogisticRegressionCV(Cs=10,\n",
        "                         solver='saga',\n",
        "                         n_jobs=8,\n",
        "                         max_iter=1000),\n",
        "    verbose=True,\n",
        ")"
      ]
    },
    {
      "cell_type": "code",
      "execution_count": null,
      "id": "73031ed9",
      "metadata": {
        "colab": {
          "base_uri": "https://localhost:8080/"
        },
        "id": "73031ed9",
        "outputId": "b7476a69-4400-4aac-d6e0-e06d09fce05b"
      },
      "outputs": [
        {
          "output_type": "stream",
          "name": "stdout",
          "text": [
            "[Pipeline]  (step 1 of 3) Processing functiontransformer, total=   0.0s\n"
          ]
        },
        {
          "output_type": "stream",
          "name": "stderr",
          "text": [
            "/usr/local/lib/python3.10/dist-packages/sklearn/feature_extraction/text.py:528: UserWarning:\n",
            "\n",
            "The parameter 'token_pattern' will not be used since 'tokenizer' is not None'\n",
            "\n"
          ]
        },
        {
          "output_type": "stream",
          "name": "stdout",
          "text": [
            "[Pipeline] . (step 2 of 3) Processing columntransformer, total=  15.4s\n",
            "[Pipeline]  (step 3 of 3) Processing logisticregressioncv, total=  25.3s\n",
            "100.0% accuracy on training set.\n",
            "CPU times: user 1min 14s, sys: 180 ms, total: 1min 14s\n",
            "Wall time: 57 s\n"
          ]
        }
      ],
      "source": [
        "%%time\n",
        "\n",
        "model3.fit(X_train, y_train)\n",
        "print(f'{model3.score(X_train, y_train):.1%} accuracy on training set.')"
      ]
    },
    {
      "cell_type": "markdown",
      "id": "8394b718",
      "metadata": {
        "id": "8394b718"
      },
      "source": [
        "We find that this model achieves 100% accuracy on the training set. We can take a look at the tf-idf transformer to better understand the model. Let's start by finding out how many unique tokens the classifier uses:"
      ]
    },
    {
      "cell_type": "code",
      "execution_count": null,
      "id": "ef587deb",
      "metadata": {
        "id": "ef587deb",
        "colab": {
          "base_uri": "https://localhost:8080/"
        },
        "outputId": "0352a09f-6135-4603-f3f4-0dba3eac5cb7"
      },
      "outputs": [
        {
          "output_type": "stream",
          "name": "stdout",
          "text": [
            "23800 tokens appeared across 584 examples.\n"
          ]
        }
      ],
      "source": [
        "tfidf = model3.named_steps.columntransformer.named_transformers_.tfidfvectorizer\n",
        "n_unique_tokens = len(tfidf.vocabulary_.keys())\n",
        "print(f'{n_unique_tokens} tokens appeared across {len(X_train)} examples.')"
      ]
    },
    {
      "cell_type": "markdown",
      "id": "27904ece",
      "metadata": {
        "id": "27904ece"
      },
      "source": [
        "This means that our classifier has 23,804 features, a large increase from our previous model which only had 16. Since we can't display that many model weights, we'll display the ten most negative and ten most positive weights below:"
      ]
    },
    {
      "cell_type": "code",
      "execution_count": null,
      "id": "f36b3b55",
      "metadata": {
        "id": "f36b3b55",
        "colab": {
          "base_uri": "https://localhost:8080/"
        },
        "outputId": "bd3cc17d-48d1-4ae8-f9ec-2e61646101e3"
      },
      "outputs": [
        {
          "output_type": "stream",
          "name": "stdout",
          "text": [
            "               word       coef\n",
            "21437         trump -10.898854\n",
            "23772             ” -10.758735\n",
            "23771             “  -9.705350\n",
            "0                 !  -9.096918\n",
            "23769             ‘  -8.924059\n",
            "22088        vaccin  -8.364700\n",
            "7366        comment  -8.257952\n",
            "21357  trendolizer™  -8.237309\n",
            "12527      investig  -7.944630\n",
            "13597          like  -7.817675\n",
            "             word       coef\n",
            "18352      romney   7.443652\n",
            "6555       candid   7.636798\n",
            "140            --   7.676507\n",
            "16168        page   7.903408\n",
            "14224      mccain   8.268198\n",
            "20957    thompson   8.622300\n",
            "138             ,   9.387031\n",
            "18047  republican   9.427166\n",
            "18638       sater  10.851623\n",
            "22229       video  12.171698\n"
          ]
        }
      ],
      "source": [
        "log_reg = model3.named_steps.logisticregressioncv\n",
        "coefs = (pd.DataFrame(tfidf.vocabulary_.keys(),\n",
        "                      columns=['word'],\n",
        "                      index=tfidf.vocabulary_.values())\n",
        "         .sort_index()\n",
        "         .assign(coef=log_reg.coef_[0])\n",
        "         .sort_values('coef')\n",
        "        )\n",
        "#dfs_side_by_side(coefs.iloc[:10], coefs.iloc[-10:])\n",
        "\n",
        "print(coefs.iloc[:10])\n",
        "print(coefs.iloc[-10:])"
      ]
    },
    {
      "cell_type": "markdown",
      "id": "7a504d64",
      "metadata": {
        "id": "7a504d64"
      },
      "source": [
        "Displaying these features shows a few quirks about this model. For example, we see that several influential features correspond to punctuation in the original text. It's unclear whether we should clean out the punctuation in the model. On one hand, punctuation doesn't seem to convey as much information as words do. On the other, it seems plausible that lots of explanation points in an article could help a model decide whether the article is real or fake. In this case, we've decided to keep punctuation, but curious readers can repeat this analysis after stripping the punctuation out to see how the resulting model is affected."
      ]
    },
    {
      "cell_type": "markdown",
      "id": "d021b3ad",
      "metadata": {
        "id": "d021b3ad"
      },
      "source": [
        "Let's conclude by displaying the test set error for all three models:"
      ]
    },
    {
      "cell_type": "code",
      "execution_count": null,
      "id": "dc4178f8",
      "metadata": {
        "id": "dc4178f8",
        "colab": {
          "base_uri": "https://localhost:8080/",
          "height": 143
        },
        "outputId": "08e9f660-90c1-44e7-b7b0-6a72ae8c1175"
      },
      "outputs": [
        {
          "output_type": "execute_result",
          "data": {
            "text/plain": [
              "        test set error\n",
              "model1        0.641026\n",
              "model2        0.687179\n",
              "model3        0.882051"
            ],
            "text/html": [
              "\n",
              "  <div id=\"df-068e6511-f626-4df0-8ded-9d319875bebb\">\n",
              "    <div class=\"colab-df-container\">\n",
              "      <div>\n",
              "<style scoped>\n",
              "    .dataframe tbody tr th:only-of-type {\n",
              "        vertical-align: middle;\n",
              "    }\n",
              "\n",
              "    .dataframe tbody tr th {\n",
              "        vertical-align: top;\n",
              "    }\n",
              "\n",
              "    .dataframe thead th {\n",
              "        text-align: right;\n",
              "    }\n",
              "</style>\n",
              "<table border=\"1\" class=\"dataframe\">\n",
              "  <thead>\n",
              "    <tr style=\"text-align: right;\">\n",
              "      <th></th>\n",
              "      <th>test set error</th>\n",
              "    </tr>\n",
              "  </thead>\n",
              "  <tbody>\n",
              "    <tr>\n",
              "      <th>model1</th>\n",
              "      <td>0.641026</td>\n",
              "    </tr>\n",
              "    <tr>\n",
              "      <th>model2</th>\n",
              "      <td>0.687179</td>\n",
              "    </tr>\n",
              "    <tr>\n",
              "      <th>model3</th>\n",
              "      <td>0.882051</td>\n",
              "    </tr>\n",
              "  </tbody>\n",
              "</table>\n",
              "</div>\n",
              "      <button class=\"colab-df-convert\" onclick=\"convertToInteractive('df-068e6511-f626-4df0-8ded-9d319875bebb')\"\n",
              "              title=\"Convert this dataframe to an interactive table.\"\n",
              "              style=\"display:none;\">\n",
              "        \n",
              "  <svg xmlns=\"http://www.w3.org/2000/svg\" height=\"24px\"viewBox=\"0 0 24 24\"\n",
              "       width=\"24px\">\n",
              "    <path d=\"M0 0h24v24H0V0z\" fill=\"none\"/>\n",
              "    <path d=\"M18.56 5.44l.94 2.06.94-2.06 2.06-.94-2.06-.94-.94-2.06-.94 2.06-2.06.94zm-11 1L8.5 8.5l.94-2.06 2.06-.94-2.06-.94L8.5 2.5l-.94 2.06-2.06.94zm10 10l.94 2.06.94-2.06 2.06-.94-2.06-.94-.94-2.06-.94 2.06-2.06.94z\"/><path d=\"M17.41 7.96l-1.37-1.37c-.4-.4-.92-.59-1.43-.59-.52 0-1.04.2-1.43.59L10.3 9.45l-7.72 7.72c-.78.78-.78 2.05 0 2.83L4 21.41c.39.39.9.59 1.41.59.51 0 1.02-.2 1.41-.59l7.78-7.78 2.81-2.81c.8-.78.8-2.07 0-2.86zM5.41 20L4 18.59l7.72-7.72 1.47 1.35L5.41 20z\"/>\n",
              "  </svg>\n",
              "      </button>\n",
              "      \n",
              "  <style>\n",
              "    .colab-df-container {\n",
              "      display:flex;\n",
              "      flex-wrap:wrap;\n",
              "      gap: 12px;\n",
              "    }\n",
              "\n",
              "    .colab-df-convert {\n",
              "      background-color: #E8F0FE;\n",
              "      border: none;\n",
              "      border-radius: 50%;\n",
              "      cursor: pointer;\n",
              "      display: none;\n",
              "      fill: #1967D2;\n",
              "      height: 32px;\n",
              "      padding: 0 0 0 0;\n",
              "      width: 32px;\n",
              "    }\n",
              "\n",
              "    .colab-df-convert:hover {\n",
              "      background-color: #E2EBFA;\n",
              "      box-shadow: 0px 1px 2px rgba(60, 64, 67, 0.3), 0px 1px 3px 1px rgba(60, 64, 67, 0.15);\n",
              "      fill: #174EA6;\n",
              "    }\n",
              "\n",
              "    [theme=dark] .colab-df-convert {\n",
              "      background-color: #3B4455;\n",
              "      fill: #D2E3FC;\n",
              "    }\n",
              "\n",
              "    [theme=dark] .colab-df-convert:hover {\n",
              "      background-color: #434B5C;\n",
              "      box-shadow: 0px 1px 3px 1px rgba(0, 0, 0, 0.15);\n",
              "      filter: drop-shadow(0px 1px 2px rgba(0, 0, 0, 0.3));\n",
              "      fill: #FFFFFF;\n",
              "    }\n",
              "  </style>\n",
              "\n",
              "      <script>\n",
              "        const buttonEl =\n",
              "          document.querySelector('#df-068e6511-f626-4df0-8ded-9d319875bebb button.colab-df-convert');\n",
              "        buttonEl.style.display =\n",
              "          google.colab.kernel.accessAllowed ? 'block' : 'none';\n",
              "\n",
              "        async function convertToInteractive(key) {\n",
              "          const element = document.querySelector('#df-068e6511-f626-4df0-8ded-9d319875bebb');\n",
              "          const dataTable =\n",
              "            await google.colab.kernel.invokeFunction('convertToInteractive',\n",
              "                                                     [key], {});\n",
              "          if (!dataTable) return;\n",
              "\n",
              "          const docLinkHtml = 'Like what you see? Visit the ' +\n",
              "            '<a target=\"_blank\" href=https://colab.research.google.com/notebooks/data_table.ipynb>data table notebook</a>'\n",
              "            + ' to learn more about interactive tables.';\n",
              "          element.innerHTML = '';\n",
              "          dataTable['output_type'] = 'display_data';\n",
              "          await google.colab.output.renderOutput(dataTable, element);\n",
              "          const docLink = document.createElement('div');\n",
              "          docLink.innerHTML = docLinkHtml;\n",
              "          element.appendChild(docLink);\n",
              "        }\n",
              "      </script>\n",
              "    </div>\n",
              "  </div>\n",
              "  "
            ]
          },
          "metadata": {},
          "execution_count": 38
        }
      ],
      "source": [
        "pd.DataFrame({\n",
        "    'test set error': [model1.score(X_test, y_test),\n",
        "                       model2.score(X_test, y_test),\n",
        "                       model3.score(X_test, y_test)]\n",
        "}, index=['model1', 'model2', 'model3'])"
      ]
    },
    {
      "cell_type": "markdown",
      "id": "ab31b712",
      "metadata": {
        "id": "ab31b712"
      },
      "source": [
        "As we might expect, the models became more accurate as we introduced more features. The final model that used tf-idf performed significantly better than the models with binary hand-picked word features. This illustrates a common tradeoff in modeling: given enough data, more complex models can often outperform simpler ones, especially in situations like our case study where simpler models have too much model bias to perform well. However, complex models can be more difficult to interpret. For example, our tf-idf model had over 23,804 features which makes it harder to concisely explain to another person how our model makes its decisions."
      ]
    },
    {
      "cell_type": "markdown",
      "id": "fb293b9e",
      "metadata": {
        "id": "fb293b9e"
      },
      "source": [
        "In addition, we need to be careful about what our models are useful for. In this case, our models use the content of the news articles for prediction, making them highly dependent on the words that appear in the training set. However, our models will likely not perform as well on future news articles that use words that didn't appear in the training set. For example, our models use the US election candidates' names in 2016 for prediction, but won't know to incorporate the names of the candidates in 2020 or 2024. To use our models in the longer term, we would need to address this issue of *drift*. "
      ]
    },
    {
      "cell_type": "markdown",
      "id": "e92412de",
      "metadata": {
        "id": "e92412de"
      },
      "source": [
        "That said, it's surprising that a logistic regression model can perform well with a relatively small amount of feature engineering (tf-idf). We've addressed our original research question: our tf-idf model appears effective for detecting fake news in our dataset, and could plausibly generalize to other news published in the same time period covered in the training data."
      ]
    },
    {
      "cell_type": "markdown",
      "id": "838357fe",
      "metadata": {
        "id": "838357fe"
      },
      "source": [
        "# Using multiple ML models"
      ]
    },
    {
      "cell_type": "markdown",
      "source": [
        "We will utilize LazyClassifier, a Python library, to compare the performance of various models on the FakeNews dataset. LazyClassifier enables quick testing and comparison of the efficiency of multiple machine learning models on a particular dataset. It is designed to provide a quick overview of the performance of different models without the need for extensive coding or parameter tuning. Lets install lazypredict to use LazyClassifier."
      ],
      "metadata": {
        "id": "iZRv9liHFxpV"
      },
      "id": "iZRv9liHFxpV"
    },
    {
      "cell_type": "code",
      "source": [
        "!pip install lazypredict"
      ],
      "metadata": {
        "colab": {
          "base_uri": "https://localhost:8080/"
        },
        "id": "0zHpBGiUF1Wk",
        "outputId": "c02f0135-66b8-4d20-985b-6cf9069d00c6"
      },
      "id": "0zHpBGiUF1Wk",
      "execution_count": null,
      "outputs": [
        {
          "output_type": "stream",
          "name": "stdout",
          "text": [
            "Looking in indexes: https://pypi.org/simple, https://us-python.pkg.dev/colab-wheels/public/simple/\n",
            "Collecting lazypredict\n",
            "  Downloading lazypredict-0.2.12-py2.py3-none-any.whl (12 kB)\n",
            "Requirement already satisfied: click in /usr/local/lib/python3.10/dist-packages (from lazypredict) (8.1.3)\n",
            "Requirement already satisfied: scikit-learn in /usr/local/lib/python3.10/dist-packages (from lazypredict) (1.2.2)\n",
            "Requirement already satisfied: pandas in /usr/local/lib/python3.10/dist-packages (from lazypredict) (1.5.3)\n",
            "Requirement already satisfied: tqdm in /usr/local/lib/python3.10/dist-packages (from lazypredict) (4.65.0)\n",
            "Requirement already satisfied: joblib in /usr/local/lib/python3.10/dist-packages (from lazypredict) (1.2.0)\n",
            "Requirement already satisfied: lightgbm in /usr/local/lib/python3.10/dist-packages (from lazypredict) (3.3.5)\n",
            "Requirement already satisfied: xgboost in /usr/local/lib/python3.10/dist-packages (from lazypredict) (1.7.5)\n",
            "Requirement already satisfied: wheel in /usr/local/lib/python3.10/dist-packages (from lightgbm->lazypredict) (0.40.0)\n",
            "Requirement already satisfied: numpy in /usr/local/lib/python3.10/dist-packages (from lightgbm->lazypredict) (1.22.4)\n",
            "Requirement already satisfied: scipy in /usr/local/lib/python3.10/dist-packages (from lightgbm->lazypredict) (1.10.1)\n",
            "Requirement already satisfied: threadpoolctl>=2.0.0 in /usr/local/lib/python3.10/dist-packages (from scikit-learn->lazypredict) (3.1.0)\n",
            "Requirement already satisfied: python-dateutil>=2.8.1 in /usr/local/lib/python3.10/dist-packages (from pandas->lazypredict) (2.8.2)\n",
            "Requirement already satisfied: pytz>=2020.1 in /usr/local/lib/python3.10/dist-packages (from pandas->lazypredict) (2022.7.1)\n",
            "Requirement already satisfied: six>=1.5 in /usr/local/lib/python3.10/dist-packages (from python-dateutil>=2.8.1->pandas->lazypredict) (1.16.0)\n",
            "Installing collected packages: lazypredict\n",
            "Successfully installed lazypredict-0.2.12\n"
          ]
        }
      ]
    },
    {
      "cell_type": "code",
      "source": [
        "import nltk\n",
        "import pandas as pd\n",
        "from nltk.stem.porter import PorterStemmer\n",
        "from sklearn.feature_extraction.text import TfidfVectorizer\n",
        "from lazypredict.Supervised import LazyClassifier\n",
        "from sklearn.model_selection import train_test_split"
      ],
      "metadata": {
        "id": "1zNy0TPQGGyw"
      },
      "id": "1zNy0TPQGGyw",
      "execution_count": null,
      "outputs": []
    },
    {
      "cell_type": "markdown",
      "source": [
        "Here, we are using the code from previous cells for tf-idf Transform"
      ],
      "metadata": {
        "id": "-iLY1SMXGALp"
      },
      "id": "-iLY1SMXGALp"
    },
    {
      "cell_type": "code",
      "source": [
        "nltk.download('stopwords')\n",
        "nltk.download('punkt')\n",
        "\n",
        "stop_words = set(nltk.corpus.stopwords.words('english'))\n",
        "porter_stemmer = PorterStemmer()\n",
        "\n",
        "def stemming_tokenizer(document):\n",
        "    return [porter_stemmer.stem(word)\n",
        "            for word in nltk.word_tokenize(document)\n",
        "            if word not in stop_words]\n",
        "    return words"
      ],
      "metadata": {
        "colab": {
          "base_uri": "https://localhost:8080/"
        },
        "id": "phuky1gDF3YA",
        "outputId": "009b414f-1fc1-452e-f281-29511c30e858"
      },
      "id": "phuky1gDF3YA",
      "execution_count": null,
      "outputs": [
        {
          "output_type": "stream",
          "name": "stderr",
          "text": [
            "[nltk_data] Downloading package stopwords to /root/nltk_data...\n",
            "[nltk_data]   Package stopwords is already up-to-date!\n",
            "[nltk_data] Downloading package punkt to /root/nltk_data...\n",
            "[nltk_data]   Package punkt is already up-to-date!\n"
          ]
        }
      ]
    },
    {
      "cell_type": "code",
      "source": [
        "url=\"https://web.lums.edu.pk/~ihsan/workshop_data/unit5/fake_news.csv\"\n",
        "# Load the FakeNewsNet dataset\n",
        "df = pd.read_csv(url, usecols=['content', 'label'])\n",
        "\n",
        "# Split the dataset into training and testing sets\n",
        "X_train, X_test, y_train, y_test = train_test_split(\n",
        "    df['content'], df['label'],\n",
        "    test_size=0.25, random_state=42,\n",
        ")\n",
        "\n",
        "# Transform the text into numerical features using TF-IDF\n",
        "tfidf = TfidfVectorizer(tokenizer=stemming_tokenizer)\n",
        "X_train_tfidf = tfidf.fit_transform(X_train)\n",
        "X_test_tfidf = tfidf.transform(X_test)\n",
        "\n",
        "# Convert sparse matrix to dense as some models don't work on sparse matrix\n",
        "X_train_df = X_train_tfidf.toarray()\n",
        "X_test_df = X_test_tfidf.toarray()"
      ],
      "metadata": {
        "id": "LHO_iOjIGJ7k"
      },
      "id": "LHO_iOjIGJ7k",
      "execution_count": null,
      "outputs": []
    },
    {
      "cell_type": "markdown",
      "source": [
        "***The cell below takes ~6 minutes to run, as it fits 29 models on the given dataset.***"
      ],
      "metadata": {
        "id": "4WL3k14rGM-s"
      },
      "id": "4WL3k14rGM-s"
    },
    {
      "cell_type": "code",
      "source": [
        "lazy_classifier = LazyClassifier(verbose=0, ignore_warnings=True, custom_metric=None)\n",
        "models, predictions = lazy_classifier.fit(X_train_df, X_test_df, y_train, y_test)"
      ],
      "metadata": {
        "colab": {
          "base_uri": "https://localhost:8080/"
        },
        "id": "u4q13hMqGPM6",
        "outputId": "d062bb7a-b20a-4e46-8393-ddc926224abd"
      },
      "id": "u4q13hMqGPM6",
      "execution_count": null,
      "outputs": [
        {
          "output_type": "stream",
          "name": "stderr",
          "text": [
            "100%|██████████| 29/29 [04:29<00:00,  9.31s/it]\n"
          ]
        }
      ]
    },
    {
      "cell_type": "code",
      "source": [
        "models"
      ],
      "metadata": {
        "colab": {
          "base_uri": "https://localhost:8080/"
        },
        "id": "iPpCRK1dGW--",
        "outputId": "41fb004c-4ab0-4bc7-f959-3167a85b9cc3"
      },
      "id": "iPpCRK1dGW--",
      "execution_count": null,
      "outputs": [
        {
          "output_type": "execute_result",
          "data": {
            "text/plain": [
              "                               Accuracy  Balanced Accuracy ROC AUC  F1 Score  \\\n",
              "Model                                                                          \n",
              "AdaBoostClassifier                 0.86               0.85    None      0.86   \n",
              "LGBMClassifier                     0.85               0.85    None      0.85   \n",
              "RandomForestClassifier             0.85               0.85    None      0.85   \n",
              "ExtraTreesClassifier               0.85               0.84    None      0.85   \n",
              "LinearSVC                          0.84               0.83    None      0.84   \n",
              "PassiveAggressiveClassifier        0.84               0.83    None      0.83   \n",
              "BaggingClassifier                  0.81               0.80    None      0.80   \n",
              "RidgeClassifierCV                  0.79               0.78    None      0.78   \n",
              "RidgeClassifier                    0.79               0.78    None      0.78   \n",
              "DecisionTreeClassifier             0.78               0.78    None      0.78   \n",
              "LogisticRegression                 0.77               0.76    None      0.76   \n",
              "LinearDiscriminantAnalysis         0.74               0.74    None      0.74   \n",
              "Perceptron                         0.73               0.72    None      0.72   \n",
              "SGDClassifier                      0.73               0.71    None      0.71   \n",
              "ExtraTreeClassifier                0.70               0.69    None      0.70   \n",
              "BernoulliNB                        0.64               0.66    None      0.62   \n",
              "NearestCentroid                    0.62               0.61    None      0.61   \n",
              "QuadraticDiscriminantAnalysis      0.59               0.61    None      0.57   \n",
              "CalibratedClassifierCV             0.61               0.59    None      0.53   \n",
              "LabelSpreading                     0.56               0.58    None      0.48   \n",
              "LabelPropagation                   0.56               0.58    None      0.48   \n",
              "KNeighborsClassifier               0.53               0.55    None      0.42   \n",
              "NuSVC                              0.57               0.54    None      0.46   \n",
              "GaussianNB                         0.56               0.54    None      0.46   \n",
              "DummyClassifier                    0.53               0.50    None      0.37   \n",
              "SVC                                0.50               0.48    None      0.41   \n",
              "\n",
              "                               Time Taken  \n",
              "Model                                      \n",
              "AdaBoostClassifier                  10.87  \n",
              "LGBMClassifier                       2.64  \n",
              "RandomForestClassifier               2.13  \n",
              "ExtraTreesClassifier                 2.70  \n",
              "LinearSVC                           35.38  \n",
              "PassiveAggressiveClassifier          1.49  \n",
              "BaggingClassifier                    4.19  \n",
              "RidgeClassifierCV                    1.58  \n",
              "RidgeClassifier                      1.44  \n",
              "DecisionTreeClassifier               1.47  \n",
              "LogisticRegression                   2.74  \n",
              "LinearDiscriminantAnalysis           5.96  \n",
              "Perceptron                           1.19  \n",
              "SGDClassifier                        1.17  \n",
              "ExtraTreeClassifier                  0.96  \n",
              "BernoulliNB                          1.56  \n",
              "NearestCentroid                      1.01  \n",
              "QuadraticDiscriminantAnalysis        5.18  \n",
              "CalibratedClassifierCV             158.94  \n",
              "LabelSpreading                       1.74  \n",
              "LabelPropagation                     1.36  \n",
              "KNeighborsClassifier                 1.10  \n",
              "NuSVC                                9.39  \n",
              "GaussianNB                           1.11  \n",
              "DummyClassifier                      0.89  \n",
              "SVC                                  9.69  "
            ],
            "text/html": [
              "\n",
              "  <div id=\"df-0ce67bbf-2304-4838-bf3e-c082bb2bbf64\">\n",
              "    <div class=\"colab-df-container\">\n",
              "      <div>\n",
              "<style scoped>\n",
              "    .dataframe tbody tr th:only-of-type {\n",
              "        vertical-align: middle;\n",
              "    }\n",
              "\n",
              "    .dataframe tbody tr th {\n",
              "        vertical-align: top;\n",
              "    }\n",
              "\n",
              "    .dataframe thead th {\n",
              "        text-align: right;\n",
              "    }\n",
              "</style>\n",
              "<table border=\"1\" class=\"dataframe\">\n",
              "  <thead>\n",
              "    <tr style=\"text-align: right;\">\n",
              "      <th></th>\n",
              "      <th>Accuracy</th>\n",
              "      <th>Balanced Accuracy</th>\n",
              "      <th>ROC AUC</th>\n",
              "      <th>F1 Score</th>\n",
              "      <th>Time Taken</th>\n",
              "    </tr>\n",
              "    <tr>\n",
              "      <th>Model</th>\n",
              "      <th></th>\n",
              "      <th></th>\n",
              "      <th></th>\n",
              "      <th></th>\n",
              "      <th></th>\n",
              "    </tr>\n",
              "  </thead>\n",
              "  <tbody>\n",
              "    <tr>\n",
              "      <th>AdaBoostClassifier</th>\n",
              "      <td>0.86</td>\n",
              "      <td>0.85</td>\n",
              "      <td>None</td>\n",
              "      <td>0.86</td>\n",
              "      <td>10.87</td>\n",
              "    </tr>\n",
              "    <tr>\n",
              "      <th>LGBMClassifier</th>\n",
              "      <td>0.85</td>\n",
              "      <td>0.85</td>\n",
              "      <td>None</td>\n",
              "      <td>0.85</td>\n",
              "      <td>2.64</td>\n",
              "    </tr>\n",
              "    <tr>\n",
              "      <th>RandomForestClassifier</th>\n",
              "      <td>0.85</td>\n",
              "      <td>0.85</td>\n",
              "      <td>None</td>\n",
              "      <td>0.85</td>\n",
              "      <td>2.13</td>\n",
              "    </tr>\n",
              "    <tr>\n",
              "      <th>ExtraTreesClassifier</th>\n",
              "      <td>0.85</td>\n",
              "      <td>0.84</td>\n",
              "      <td>None</td>\n",
              "      <td>0.85</td>\n",
              "      <td>2.70</td>\n",
              "    </tr>\n",
              "    <tr>\n",
              "      <th>LinearSVC</th>\n",
              "      <td>0.84</td>\n",
              "      <td>0.83</td>\n",
              "      <td>None</td>\n",
              "      <td>0.84</td>\n",
              "      <td>35.38</td>\n",
              "    </tr>\n",
              "    <tr>\n",
              "      <th>PassiveAggressiveClassifier</th>\n",
              "      <td>0.84</td>\n",
              "      <td>0.83</td>\n",
              "      <td>None</td>\n",
              "      <td>0.83</td>\n",
              "      <td>1.49</td>\n",
              "    </tr>\n",
              "    <tr>\n",
              "      <th>BaggingClassifier</th>\n",
              "      <td>0.81</td>\n",
              "      <td>0.80</td>\n",
              "      <td>None</td>\n",
              "      <td>0.80</td>\n",
              "      <td>4.19</td>\n",
              "    </tr>\n",
              "    <tr>\n",
              "      <th>RidgeClassifierCV</th>\n",
              "      <td>0.79</td>\n",
              "      <td>0.78</td>\n",
              "      <td>None</td>\n",
              "      <td>0.78</td>\n",
              "      <td>1.58</td>\n",
              "    </tr>\n",
              "    <tr>\n",
              "      <th>RidgeClassifier</th>\n",
              "      <td>0.79</td>\n",
              "      <td>0.78</td>\n",
              "      <td>None</td>\n",
              "      <td>0.78</td>\n",
              "      <td>1.44</td>\n",
              "    </tr>\n",
              "    <tr>\n",
              "      <th>DecisionTreeClassifier</th>\n",
              "      <td>0.78</td>\n",
              "      <td>0.78</td>\n",
              "      <td>None</td>\n",
              "      <td>0.78</td>\n",
              "      <td>1.47</td>\n",
              "    </tr>\n",
              "    <tr>\n",
              "      <th>LogisticRegression</th>\n",
              "      <td>0.77</td>\n",
              "      <td>0.76</td>\n",
              "      <td>None</td>\n",
              "      <td>0.76</td>\n",
              "      <td>2.74</td>\n",
              "    </tr>\n",
              "    <tr>\n",
              "      <th>LinearDiscriminantAnalysis</th>\n",
              "      <td>0.74</td>\n",
              "      <td>0.74</td>\n",
              "      <td>None</td>\n",
              "      <td>0.74</td>\n",
              "      <td>5.96</td>\n",
              "    </tr>\n",
              "    <tr>\n",
              "      <th>Perceptron</th>\n",
              "      <td>0.73</td>\n",
              "      <td>0.72</td>\n",
              "      <td>None</td>\n",
              "      <td>0.72</td>\n",
              "      <td>1.19</td>\n",
              "    </tr>\n",
              "    <tr>\n",
              "      <th>SGDClassifier</th>\n",
              "      <td>0.73</td>\n",
              "      <td>0.71</td>\n",
              "      <td>None</td>\n",
              "      <td>0.71</td>\n",
              "      <td>1.17</td>\n",
              "    </tr>\n",
              "    <tr>\n",
              "      <th>ExtraTreeClassifier</th>\n",
              "      <td>0.70</td>\n",
              "      <td>0.69</td>\n",
              "      <td>None</td>\n",
              "      <td>0.70</td>\n",
              "      <td>0.96</td>\n",
              "    </tr>\n",
              "    <tr>\n",
              "      <th>BernoulliNB</th>\n",
              "      <td>0.64</td>\n",
              "      <td>0.66</td>\n",
              "      <td>None</td>\n",
              "      <td>0.62</td>\n",
              "      <td>1.56</td>\n",
              "    </tr>\n",
              "    <tr>\n",
              "      <th>NearestCentroid</th>\n",
              "      <td>0.62</td>\n",
              "      <td>0.61</td>\n",
              "      <td>None</td>\n",
              "      <td>0.61</td>\n",
              "      <td>1.01</td>\n",
              "    </tr>\n",
              "    <tr>\n",
              "      <th>QuadraticDiscriminantAnalysis</th>\n",
              "      <td>0.59</td>\n",
              "      <td>0.61</td>\n",
              "      <td>None</td>\n",
              "      <td>0.57</td>\n",
              "      <td>5.18</td>\n",
              "    </tr>\n",
              "    <tr>\n",
              "      <th>CalibratedClassifierCV</th>\n",
              "      <td>0.61</td>\n",
              "      <td>0.59</td>\n",
              "      <td>None</td>\n",
              "      <td>0.53</td>\n",
              "      <td>158.94</td>\n",
              "    </tr>\n",
              "    <tr>\n",
              "      <th>LabelSpreading</th>\n",
              "      <td>0.56</td>\n",
              "      <td>0.58</td>\n",
              "      <td>None</td>\n",
              "      <td>0.48</td>\n",
              "      <td>1.74</td>\n",
              "    </tr>\n",
              "    <tr>\n",
              "      <th>LabelPropagation</th>\n",
              "      <td>0.56</td>\n",
              "      <td>0.58</td>\n",
              "      <td>None</td>\n",
              "      <td>0.48</td>\n",
              "      <td>1.36</td>\n",
              "    </tr>\n",
              "    <tr>\n",
              "      <th>KNeighborsClassifier</th>\n",
              "      <td>0.53</td>\n",
              "      <td>0.55</td>\n",
              "      <td>None</td>\n",
              "      <td>0.42</td>\n",
              "      <td>1.10</td>\n",
              "    </tr>\n",
              "    <tr>\n",
              "      <th>NuSVC</th>\n",
              "      <td>0.57</td>\n",
              "      <td>0.54</td>\n",
              "      <td>None</td>\n",
              "      <td>0.46</td>\n",
              "      <td>9.39</td>\n",
              "    </tr>\n",
              "    <tr>\n",
              "      <th>GaussianNB</th>\n",
              "      <td>0.56</td>\n",
              "      <td>0.54</td>\n",
              "      <td>None</td>\n",
              "      <td>0.46</td>\n",
              "      <td>1.11</td>\n",
              "    </tr>\n",
              "    <tr>\n",
              "      <th>DummyClassifier</th>\n",
              "      <td>0.53</td>\n",
              "      <td>0.50</td>\n",
              "      <td>None</td>\n",
              "      <td>0.37</td>\n",
              "      <td>0.89</td>\n",
              "    </tr>\n",
              "    <tr>\n",
              "      <th>SVC</th>\n",
              "      <td>0.50</td>\n",
              "      <td>0.48</td>\n",
              "      <td>None</td>\n",
              "      <td>0.41</td>\n",
              "      <td>9.69</td>\n",
              "    </tr>\n",
              "  </tbody>\n",
              "</table>\n",
              "</div>\n",
              "      <button class=\"colab-df-convert\" onclick=\"convertToInteractive('df-0ce67bbf-2304-4838-bf3e-c082bb2bbf64')\"\n",
              "              title=\"Convert this dataframe to an interactive table.\"\n",
              "              style=\"display:none;\">\n",
              "        \n",
              "  <svg xmlns=\"http://www.w3.org/2000/svg\" height=\"24px\"viewBox=\"0 0 24 24\"\n",
              "       width=\"24px\">\n",
              "    <path d=\"M0 0h24v24H0V0z\" fill=\"none\"/>\n",
              "    <path d=\"M18.56 5.44l.94 2.06.94-2.06 2.06-.94-2.06-.94-.94-2.06-.94 2.06-2.06.94zm-11 1L8.5 8.5l.94-2.06 2.06-.94-2.06-.94L8.5 2.5l-.94 2.06-2.06.94zm10 10l.94 2.06.94-2.06 2.06-.94-2.06-.94-.94-2.06-.94 2.06-2.06.94z\"/><path d=\"M17.41 7.96l-1.37-1.37c-.4-.4-.92-.59-1.43-.59-.52 0-1.04.2-1.43.59L10.3 9.45l-7.72 7.72c-.78.78-.78 2.05 0 2.83L4 21.41c.39.39.9.59 1.41.59.51 0 1.02-.2 1.41-.59l7.78-7.78 2.81-2.81c.8-.78.8-2.07 0-2.86zM5.41 20L4 18.59l7.72-7.72 1.47 1.35L5.41 20z\"/>\n",
              "  </svg>\n",
              "      </button>\n",
              "      \n",
              "  <style>\n",
              "    .colab-df-container {\n",
              "      display:flex;\n",
              "      flex-wrap:wrap;\n",
              "      gap: 12px;\n",
              "    }\n",
              "\n",
              "    .colab-df-convert {\n",
              "      background-color: #E8F0FE;\n",
              "      border: none;\n",
              "      border-radius: 50%;\n",
              "      cursor: pointer;\n",
              "      display: none;\n",
              "      fill: #1967D2;\n",
              "      height: 32px;\n",
              "      padding: 0 0 0 0;\n",
              "      width: 32px;\n",
              "    }\n",
              "\n",
              "    .colab-df-convert:hover {\n",
              "      background-color: #E2EBFA;\n",
              "      box-shadow: 0px 1px 2px rgba(60, 64, 67, 0.3), 0px 1px 3px 1px rgba(60, 64, 67, 0.15);\n",
              "      fill: #174EA6;\n",
              "    }\n",
              "\n",
              "    [theme=dark] .colab-df-convert {\n",
              "      background-color: #3B4455;\n",
              "      fill: #D2E3FC;\n",
              "    }\n",
              "\n",
              "    [theme=dark] .colab-df-convert:hover {\n",
              "      background-color: #434B5C;\n",
              "      box-shadow: 0px 1px 3px 1px rgba(0, 0, 0, 0.15);\n",
              "      filter: drop-shadow(0px 1px 2px rgba(0, 0, 0, 0.3));\n",
              "      fill: #FFFFFF;\n",
              "    }\n",
              "  </style>\n",
              "\n",
              "      <script>\n",
              "        const buttonEl =\n",
              "          document.querySelector('#df-0ce67bbf-2304-4838-bf3e-c082bb2bbf64 button.colab-df-convert');\n",
              "        buttonEl.style.display =\n",
              "          google.colab.kernel.accessAllowed ? 'block' : 'none';\n",
              "\n",
              "        async function convertToInteractive(key) {\n",
              "          const element = document.querySelector('#df-0ce67bbf-2304-4838-bf3e-c082bb2bbf64');\n",
              "          const dataTable =\n",
              "            await google.colab.kernel.invokeFunction('convertToInteractive',\n",
              "                                                     [key], {});\n",
              "          if (!dataTable) return;\n",
              "\n",
              "          const docLinkHtml = 'Like what you see? Visit the ' +\n",
              "            '<a target=\"_blank\" href=https://colab.research.google.com/notebooks/data_table.ipynb>data table notebook</a>'\n",
              "            + ' to learn more about interactive tables.';\n",
              "          element.innerHTML = '';\n",
              "          dataTable['output_type'] = 'display_data';\n",
              "          await google.colab.output.renderOutput(dataTable, element);\n",
              "          const docLink = document.createElement('div');\n",
              "          docLink.innerHTML = docLinkHtml;\n",
              "          element.appendChild(docLink);\n",
              "        }\n",
              "      </script>\n",
              "    </div>\n",
              "  </div>\n",
              "  "
            ]
          },
          "metadata": {},
          "execution_count": 44
        }
      ]
    },
    {
      "cell_type": "markdown",
      "source": [
        "The difference in accuracy of LogisticRegression in lazyclassifier and model3 is because of its hyperparameters. In model3 we use LogisticRegressionCV that  automatically select the best hyperparameters for a logistic regression model through cross-validation. LazyClassifier does not perform hyperparameter tuning like LogisticRegressionCV, it uses default parameters of scikit-learn models."
      ],
      "metadata": {
        "id": "2fpjWlTWaHio"
      },
      "id": "2fpjWlTWaHio"
    },
    {
      "cell_type": "code",
      "execution_count": null,
      "id": "b196524c",
      "metadata": {
        "id": "b196524c"
      },
      "outputs": [],
      "source": []
    },
    {
      "cell_type": "code",
      "execution_count": null,
      "id": "cca56462",
      "metadata": {
        "id": "cca56462"
      },
      "outputs": [],
      "source": [
        "# from lazypredict.Supervised import LazyClassifier\n",
        "# from sklearn.datasets import load_breast_cancer\n",
        "# from sklearn.model_selection import train_test_split\n",
        "\n",
        "# data = load_breast_cancer()\n",
        "# X = data.data\n",
        "# y= data.target\n",
        "\n",
        "# X_train, X_test, y_train, y_test = train_test_split(X, y,test_size=.5,random_state =123)\n",
        "\n",
        "# clf = LazyClassifier(verbose=0,ignore_warnings=True, custom_metric=None)\n",
        "# models,predictions = clf.fit(X_train, X_test, y_train, y_test)\n",
        "\n",
        "# print(models)"
      ]
    },
    {
      "cell_type": "code",
      "execution_count": null,
      "id": "ed9a3ebe",
      "metadata": {
        "id": "ed9a3ebe"
      },
      "outputs": [],
      "source": []
    }
  ],
  "metadata": {
    "kernelspec": {
      "display_name": "Python 3 (ipykernel)",
      "language": "python",
      "name": "python3"
    },
    "language_info": {
      "codemirror_mode": {
        "name": "ipython",
        "version": 3
      },
      "file_extension": ".py",
      "mimetype": "text/x-python",
      "name": "python",
      "nbconvert_exporter": "python",
      "pygments_lexer": "ipython3",
      "version": "3.10.9"
    },
    "colab": {
      "provenance": [],
      "gpuType": "T4",
      "include_colab_link": true
    },
    "accelerator": "GPU",
    "gpuClass": "standard"
  },
  "nbformat": 4,
  "nbformat_minor": 5
}