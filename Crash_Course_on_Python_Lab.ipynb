{
  "nbformat": 4,
  "nbformat_minor": 0,
  "metadata": {
    "colab": {
      "name": "Crash Course on Python-Lab.ipynb",
      "provenance": [],
      "authorship_tag": "ABX9TyM+6cPc+q+GwOYjGzh2mLsD",
      "include_colab_link": true
    },
    "kernelspec": {
      "name": "python3",
      "display_name": "Python 3"
    },
    "language_info": {
      "name": "python"
    }
  },
  "cells": [
    {
      "cell_type": "markdown",
      "metadata": {
        "id": "view-in-github",
        "colab_type": "text"
      },
      "source": [
        "<a href=\"https://colab.research.google.com/github/Adeelzafar/30-Days-of-ML-Kaggle/blob/main/Crash_Course_on_Python_Lab.ipynb\" target=\"_parent\"><img src=\"https://colab.research.google.com/assets/colab-badge.svg\" alt=\"Open In Colab\"/></a>"
      ]
    },
    {
      "cell_type": "code",
      "metadata": {
        "id": "Upha-gTXETy_"
      },
      "source": [
        "#Crash Course on Python - Lab"
      ],
      "execution_count": 28,
      "outputs": []
    },
    {
      "cell_type": "code",
      "metadata": {
        "colab": {
          "base_uri": "https://localhost:8080/"
        },
        "id": "QtYPndg6AWd-",
        "outputId": "41b65abd-af95-4559-8310-1c914d1d3b2f"
      },
      "source": [
        "#Print Statement \n",
        "print(\"You've successfully run some Python code\")\n",
        "\n",
        "print(\"Congratulations!\")"
      ],
      "execution_count": 1,
      "outputs": [
        {
          "output_type": "stream",
          "name": "stdout",
          "text": [
            "You've successfully run some Python code\n",
            "Congratulations!\n"
          ]
        }
      ]
    },
    {
      "cell_type": "code",
      "metadata": {
        "id": "p4x1d0F3AaW9"
      },
      "source": [
        "# Airthmetic Operations\n",
        "pi = 3.14159 # approximate\n",
        "diameter = 3\n",
        "\n",
        "# Create a variable called 'radius' equal to half the diameter\n",
        "radius = 0.5 * diameter\n",
        "\n",
        "# Create a variable called 'area', using the formula for the area of a circle: pi times the radius squared\n",
        "area = pi * (radius*radius) "
      ],
      "execution_count": 3,
      "outputs": []
    },
    {
      "cell_type": "code",
      "metadata": {
        "colab": {
          "base_uri": "https://localhost:8080/"
        },
        "id": "1MJpgyLiAiPJ",
        "outputId": "f14e794f-d828-470d-966c-c84aefe3e826"
      },
      "source": [
        "#Swapping\n",
        "a = [1, 2, 3]\n",
        "b = [3, 2, 1]\n",
        "a, b = b, a\n",
        "print(a,b)"
      ],
      "execution_count": 5,
      "outputs": [
        {
          "output_type": "stream",
          "name": "stdout",
          "text": [
            "[3, 2, 1] [1, 2, 3]\n"
          ]
        }
      ]
    },
    {
      "cell_type": "code",
      "metadata": {
        "colab": {
          "base_uri": "https://localhost:8080/"
        },
        "id": "IEqkAnI5AuXI",
        "outputId": "de20fbd3-ebbe-4140-fe05-22e4aff8ffc4"
      },
      "source": [
        "#Alice, Bob and Carol have agreed to pool their Halloween candy and split it evenly among themselves\n",
        "#For the sake of their friendship, any candies left over will be smashed. For example, \n",
        "#if they collectively bring home 91 candies, they'll take 30 each and smash 1.\n",
        "#Write an arithmetic expression below to calculate how many candies they must smash for a given haul.\n",
        "\n",
        "alice_candies = 121\n",
        "bob_candies = 77\n",
        "carol_candies = 109\n",
        "\n",
        "# Your code goes here! Replace the right-hand side of this assignment with an expression\n",
        "# involving alice_candies, bob_candies, and carol_candies\n",
        "to_smash = (alice_candies + bob_candies + carol_candies)% 2\n",
        "to_smash\n"
      ],
      "execution_count": 7,
      "outputs": [
        {
          "output_type": "execute_result",
          "data": {
            "text/plain": [
              "1"
            ]
          },
          "metadata": {},
          "execution_count": 7
        }
      ]
    },
    {
      "cell_type": "code",
      "metadata": {
        "id": "gvPT-yzMBCuw"
      },
      "source": [
        "#Function\n",
        "def to_smash(total_candies, n_friends):\n",
        "    return total_candies % n_friends\n"
      ],
      "execution_count": 8,
      "outputs": []
    },
    {
      "cell_type": "code",
      "metadata": {
        "colab": {
          "base_uri": "https://localhost:8080/"
        },
        "id": "geYIavHIBSfl",
        "outputId": "9bf14265-5cfa-4a21-fb5c-1dada5d03eca"
      },
      "source": [
        "#Calling Function\n",
        "to_smash(91,3)"
      ],
      "execution_count": 9,
      "outputs": [
        {
          "output_type": "execute_result",
          "data": {
            "text/plain": [
              "1"
            ]
          },
          "metadata": {},
          "execution_count": 9
        }
      ]
    },
    {
      "cell_type": "code",
      "metadata": {
        "id": "i3SuPbLoBaEC"
      },
      "source": [
        "def sign(num):\n",
        "    if num < 0:\n",
        "        return -1\n",
        "    elif num > 0:\n",
        "        return 1\n",
        "    else:\n",
        "        return 0"
      ],
      "execution_count": 10,
      "outputs": []
    },
    {
      "cell_type": "code",
      "metadata": {
        "colab": {
          "base_uri": "https://localhost:8080/"
        },
        "id": "oKJL1fM8BlyK",
        "outputId": "48c7789e-6188-464f-fcd1-36c9ab698dec"
      },
      "source": [
        "sign(1)"
      ],
      "execution_count": 11,
      "outputs": [
        {
          "output_type": "execute_result",
          "data": {
            "text/plain": [
              "1"
            ]
          },
          "metadata": {},
          "execution_count": 11
        }
      ]
    },
    {
      "cell_type": "code",
      "metadata": {
        "id": "QeXF1reTBnJD"
      },
      "source": [
        "#Lists\n",
        "a = [1, 2, 3]\n",
        "b = [1, [2, 3]]\n",
        "c = []\n",
        "d = [1, 2, 3][1:]\n"
      ],
      "execution_count": 12,
      "outputs": []
    },
    {
      "cell_type": "code",
      "metadata": {
        "colab": {
          "base_uri": "https://localhost:8080/"
        },
        "id": "82JjqFtlB3RH",
        "outputId": "5905d353-c687-4afb-f91f-e4d9f77beaf9"
      },
      "source": [
        "len(a)"
      ],
      "execution_count": 15,
      "outputs": [
        {
          "output_type": "execute_result",
          "data": {
            "text/plain": [
              "3"
            ]
          },
          "metadata": {},
          "execution_count": 15
        }
      ]
    },
    {
      "cell_type": "code",
      "metadata": {
        "id": "4N20Dz1dB448"
      },
      "source": [
        "#A researcher has gathered thousands of news articles. \n",
        "#But she wants to focus her attention on articles including a specific word. \n",
        "#Complete the function below to help her filter her list of articles.\n",
        "#Your function should meet the following criteria:\n",
        "#Do not include documents where the keyword string shows up only as a part of a \n",
        "#larger word. For example, if she were looking for the keyword “closed”, \n",
        "#you would not include the string “enclosed.”\n",
        "#She does not want you to distinguish upper case from lower case letters.\n",
        "# So the phrase “Closed the case.” would be included when the keyword is “closed”\n",
        "#Do not let periods or commas affect what is matched. “It is closed.” would be included \n",
        "#when the keyword is “closed”. But you can assume there are no other types of punctuation.\n"
      ],
      "execution_count": 16,
      "outputs": []
    },
    {
      "cell_type": "code",
      "metadata": {
        "id": "SrDOvgK1Cf94"
      },
      "source": [
        "def word_search(documents, keyword):\n",
        "    # list to hold the indices of matching documents\n",
        "    indices = [] \n",
        "    # Iterate through the indices (i) and elements (doc) of documents\n",
        "    for i, doc in enumerate(documents):\n",
        "        # Split the string doc into a list of words (according to whitespace)\n",
        "        tokens = doc.split()\n",
        "        # Make a transformed list where we 'normalize' each word to facilitate matching.\n",
        "        # Periods and commas are removed from the end of each word, and it's set to all lowercase.\n",
        "        normalized = [token.rstrip('.,').lower() for token in tokens]\n",
        "        # Is there a match? If so, update the list of matching indices.\n",
        "        if keyword.lower() in normalized:\n",
        "            indices.append(i)\n",
        "    return indices"
      ],
      "execution_count": 21,
      "outputs": []
    },
    {
      "cell_type": "code",
      "metadata": {
        "id": "hOUBsFumCmOo"
      },
      "source": [
        "documents = [\"as\",\"hello\",\"i am\",\"told u\"]\n",
        "keyword = \"u\""
      ],
      "execution_count": 26,
      "outputs": []
    },
    {
      "cell_type": "code",
      "metadata": {
        "colab": {
          "base_uri": "https://localhost:8080/"
        },
        "id": "bqw7eKBrCuIj",
        "outputId": "e41af2ca-dae1-42f8-bfb1-443fa06e5ee5"
      },
      "source": [
        "word_search(documents, keyword)"
      ],
      "execution_count": 27,
      "outputs": [
        {
          "output_type": "execute_result",
          "data": {
            "text/plain": [
              "[3]"
            ]
          },
          "metadata": {},
          "execution_count": 27
        }
      ]
    }
  ]
}